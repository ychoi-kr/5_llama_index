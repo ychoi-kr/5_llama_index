{
 "cells": [
  {
   "cell_type": "markdown",
   "metadata": {
    "id": "Qf_XcjXD89hw"
   },
   "source": [
    "# LlamaIndex의 사전 준비"
   ]
  },
  {
   "cell_type": "code",
   "execution_count": 1,
   "metadata": {
    "id": "mkPbwp6-ploX"
   },
   "outputs": [
    {
     "name": "stdout",
     "output_type": "stream",
     "text": [
      "Requirement already satisfied: llama-index==0.6.12 in c:\\users\\yong\\anaconda3\\envs\\llamaindex\\lib\\site-packages (0.6.12)\n",
      "Requirement already satisfied: dataclasses-json in c:\\users\\yong\\anaconda3\\envs\\llamaindex\\lib\\site-packages (from llama-index==0.6.12) (0.5.13)\n",
      "Requirement already satisfied: langchain>=0.0.154 in c:\\users\\yong\\anaconda3\\envs\\llamaindex\\lib\\site-packages (from llama-index==0.6.12) (0.0.238)\n",
      "Requirement already satisfied: sqlalchemy>=2.0.15 in c:\\users\\yong\\anaconda3\\envs\\llamaindex\\lib\\site-packages (from llama-index==0.6.12) (2.0.19)\n",
      "Requirement already satisfied: numpy in c:\\users\\yong\\anaconda3\\envs\\llamaindex\\lib\\site-packages (from llama-index==0.6.12) (1.25.1)\n",
      "Requirement already satisfied: tenacity<9.0.0,>=8.2.0 in c:\\users\\yong\\anaconda3\\envs\\llamaindex\\lib\\site-packages (from llama-index==0.6.12) (8.2.2)\n",
      "Requirement already satisfied: openai>=0.26.4 in c:\\users\\yong\\anaconda3\\envs\\llamaindex\\lib\\site-packages (from llama-index==0.6.12) (0.27.8)\n",
      "Requirement already satisfied: pandas in c:\\users\\yong\\anaconda3\\envs\\llamaindex\\lib\\site-packages (from llama-index==0.6.12) (2.0.3)\n",
      "Requirement already satisfied: urllib3<2 in c:\\users\\yong\\anaconda3\\envs\\llamaindex\\lib\\site-packages (from llama-index==0.6.12) (1.26.16)\n",
      "Requirement already satisfied: fsspec>=2023.5.0 in c:\\users\\yong\\anaconda3\\envs\\llamaindex\\lib\\site-packages (from llama-index==0.6.12) (2023.6.0)\n",
      "Requirement already satisfied: typing-inspect==0.8.0 in c:\\users\\yong\\anaconda3\\envs\\llamaindex\\lib\\site-packages (from llama-index==0.6.12) (0.8.0)\n",
      "Requirement already satisfied: typing-extensions==4.5.0 in c:\\users\\yong\\anaconda3\\envs\\llamaindex\\lib\\site-packages (from llama-index==0.6.12) (4.5.0)\n",
      "Requirement already satisfied: tiktoken in c:\\users\\yong\\anaconda3\\envs\\llamaindex\\lib\\site-packages (from llama-index==0.6.12) (0.4.0)\n",
      "Requirement already satisfied: mypy-extensions>=0.3.0 in c:\\users\\yong\\anaconda3\\envs\\llamaindex\\lib\\site-packages (from typing-inspect==0.8.0->llama-index==0.6.12) (1.0.0)\n",
      "Requirement already satisfied: PyYAML>=5.4.1 in c:\\users\\yong\\anaconda3\\envs\\llamaindex\\lib\\site-packages (from langchain>=0.0.154->llama-index==0.6.12) (6.0)\n",
      "Requirement already satisfied: aiohttp<4.0.0,>=3.8.3 in c:\\users\\yong\\anaconda3\\envs\\llamaindex\\lib\\site-packages (from langchain>=0.0.154->llama-index==0.6.12) (3.8.5)\n",
      "Requirement already satisfied: langsmith<0.1.0,>=0.0.11 in c:\\users\\yong\\anaconda3\\envs\\llamaindex\\lib\\site-packages (from langchain>=0.0.154->llama-index==0.6.12) (0.0.12)\n",
      "Requirement already satisfied: numexpr<3.0.0,>=2.8.4 in c:\\users\\yong\\anaconda3\\envs\\llamaindex\\lib\\site-packages (from langchain>=0.0.154->llama-index==0.6.12) (2.8.4)\n",
      "Requirement already satisfied: openapi-schema-pydantic<2.0,>=1.2 in c:\\users\\yong\\anaconda3\\envs\\llamaindex\\lib\\site-packages (from langchain>=0.0.154->llama-index==0.6.12) (1.2.4)\n",
      "Requirement already satisfied: pydantic<2,>=1 in c:\\users\\yong\\anaconda3\\envs\\llamaindex\\lib\\site-packages (from langchain>=0.0.154->llama-index==0.6.12) (1.10.11)\n",
      "Requirement already satisfied: requests<3,>=2 in c:\\users\\yong\\anaconda3\\envs\\llamaindex\\lib\\site-packages (from langchain>=0.0.154->llama-index==0.6.12) (2.29.0)\n",
      "Requirement already satisfied: marshmallow<4.0.0,>=3.18.0 in c:\\users\\yong\\anaconda3\\envs\\llamaindex\\lib\\site-packages (from dataclasses-json->llama-index==0.6.12) (3.20.1)\n",
      "Requirement already satisfied: tqdm in c:\\users\\yong\\anaconda3\\envs\\llamaindex\\lib\\site-packages (from openai>=0.26.4->llama-index==0.6.12) (4.65.0)\n",
      "Requirement already satisfied: greenlet!=0.4.17 in c:\\users\\yong\\anaconda3\\envs\\llamaindex\\lib\\site-packages (from sqlalchemy>=2.0.15->llama-index==0.6.12) (2.0.2)\n",
      "Requirement already satisfied: python-dateutil>=2.8.2 in c:\\users\\yong\\anaconda3\\envs\\llamaindex\\lib\\site-packages (from pandas->llama-index==0.6.12) (2.8.2)\n",
      "Requirement already satisfied: pytz>=2020.1 in c:\\users\\yong\\anaconda3\\envs\\llamaindex\\lib\\site-packages (from pandas->llama-index==0.6.12) (2022.7)\n",
      "Requirement already satisfied: tzdata>=2022.1 in c:\\users\\yong\\anaconda3\\envs\\llamaindex\\lib\\site-packages (from pandas->llama-index==0.6.12) (2023.3)\n",
      "Requirement already satisfied: regex>=2022.1.18 in c:\\users\\yong\\anaconda3\\envs\\llamaindex\\lib\\site-packages (from tiktoken->llama-index==0.6.12) (2023.6.3)\n",
      "Requirement already satisfied: attrs>=17.3.0 in c:\\users\\yong\\anaconda3\\envs\\llamaindex\\lib\\site-packages (from aiohttp<4.0.0,>=3.8.3->langchain>=0.0.154->llama-index==0.6.12) (22.1.0)\n",
      "Requirement already satisfied: charset-normalizer<4.0,>=2.0 in c:\\users\\yong\\anaconda3\\envs\\llamaindex\\lib\\site-packages (from aiohttp<4.0.0,>=3.8.3->langchain>=0.0.154->llama-index==0.6.12) (2.0.4)\n",
      "Requirement already satisfied: multidict<7.0,>=4.5 in c:\\users\\yong\\anaconda3\\envs\\llamaindex\\lib\\site-packages (from aiohttp<4.0.0,>=3.8.3->langchain>=0.0.154->llama-index==0.6.12) (6.0.4)\n",
      "Requirement already satisfied: async-timeout<5.0,>=4.0.0a3 in c:\\users\\yong\\anaconda3\\envs\\llamaindex\\lib\\site-packages (from aiohttp<4.0.0,>=3.8.3->langchain>=0.0.154->llama-index==0.6.12) (4.0.2)\n",
      "Requirement already satisfied: yarl<2.0,>=1.0 in c:\\users\\yong\\anaconda3\\envs\\llamaindex\\lib\\site-packages (from aiohttp<4.0.0,>=3.8.3->langchain>=0.0.154->llama-index==0.6.12) (1.9.2)\n",
      "Requirement already satisfied: frozenlist>=1.1.1 in c:\\users\\yong\\anaconda3\\envs\\llamaindex\\lib\\site-packages (from aiohttp<4.0.0,>=3.8.3->langchain>=0.0.154->llama-index==0.6.12) (1.4.0)\n",
      "Requirement already satisfied: aiosignal>=1.1.2 in c:\\users\\yong\\anaconda3\\envs\\llamaindex\\lib\\site-packages (from aiohttp<4.0.0,>=3.8.3->langchain>=0.0.154->llama-index==0.6.12) (1.3.1)\n",
      "Requirement already satisfied: packaging>=17.0 in c:\\users\\yong\\anaconda3\\envs\\llamaindex\\lib\\site-packages (from marshmallow<4.0.0,>=3.18.0->dataclasses-json->llama-index==0.6.12) (23.0)\n",
      "Requirement already satisfied: six>=1.5 in c:\\users\\yong\\anaconda3\\envs\\llamaindex\\lib\\site-packages (from python-dateutil>=2.8.2->pandas->llama-index==0.6.12) (1.16.0)\n",
      "Requirement already satisfied: idna<4,>=2.5 in c:\\users\\yong\\anaconda3\\envs\\llamaindex\\lib\\site-packages (from requests<3,>=2->langchain>=0.0.154->llama-index==0.6.12) (3.4)\n",
      "Requirement already satisfied: certifi>=2017.4.17 in c:\\users\\yong\\anaconda3\\envs\\llamaindex\\lib\\site-packages (from requests<3,>=2->langchain>=0.0.154->llama-index==0.6.12) (2023.5.7)\n",
      "Requirement already satisfied: colorama in c:\\users\\yong\\anaconda3\\envs\\llamaindex\\lib\\site-packages (from tqdm->openai>=0.26.4->llama-index==0.6.12) (0.4.6)\n"
     ]
    }
   ],
   "source": [
    "# 패키지 설치\n",
    "!pip install llama-index==0.6.12"
   ]
  },
  {
   "cell_type": "code",
   "execution_count": 2,
   "metadata": {
    "id": "_Gf8Rfw2MiG_"
   },
   "outputs": [],
   "source": [
    "# 환경 변수 준비\n",
    "import os\n",
    "os.environ[\"OPENAI_API_KEY\"] = \"<OpenAI_API의_API_키>\""
   ]
  },
  {
   "cell_type": "code",
   "execution_count": 3,
   "metadata": {
    "id": "g9Nyr59eqRUh"
   },
   "outputs": [],
   "source": [
    "import logging\n",
    "import sys\n",
    "\n",
    "# 로그 레벨 설정\n",
    "logging.basicConfig(stream=sys.stdout, level=logging.DEBUG, force=True)"
   ]
  },
  {
   "cell_type": "markdown",
   "metadata": {
    "id": "IJl-V1lSO5C5"
   },
   "source": [
    "# Faiss를 이용한 질의응답"
   ]
  },
  {
   "cell_type": "code",
   "execution_count": 4,
   "metadata": {
    "id": "nKy1viCAO0ML",
    "scrolled": false
   },
   "outputs": [],
   "source": [
    "# 패키지 설치\n",
    "#!pip install faiss-gpu"
   ]
  },
  {
   "cell_type": "markdown",
   "metadata": {},
   "source": [
    "faiss 설치가 잘 안될 경우 다음 문서를 참조합니다. - 옮긴이  \n",
    "https://github.com/facebookresearch/faiss/blob/main/INSTALL.md"
   ]
  },
  {
   "cell_type": "code",
   "execution_count": 5,
   "metadata": {
    "id": "ucYuAR8QO0Wl"
   },
   "outputs": [
    {
     "name": "stdout",
     "output_type": "stream",
     "text": [
      "INFO:numexpr.utils:Note: NumExpr detected 20 cores but \"NUMEXPR_MAX_THREADS\" not set, so enforcing safe limit of 8.\n",
      "INFO:numexpr.utils:NumExpr defaulting to 8 threads.\n",
      "DEBUG:llama_index.readers.file.base:> [SimpleDirectoryReader] Total files added: 7\n"
     ]
    }
   ],
   "source": [
    "from llama_index import SimpleDirectoryReader\n",
    "\n",
    "# 문서 불러오기 (data 폴더에 문서를 넣어 두세요)\n",
    "documents = SimpleDirectoryReader(\"data\").load_data()"
   ]
  },
  {
   "cell_type": "code",
   "execution_count": 6,
   "metadata": {
    "id": "HCx0b5vkQC_G"
   },
   "outputs": [
    {
     "name": "stdout",
     "output_type": "stream",
     "text": [
      "INFO:faiss.loader:Loading faiss with AVX2 support.\n",
      "INFO:faiss.loader:Successfully loaded faiss with AVX2 support.\n"
     ]
    }
   ],
   "source": [
    "import faiss\n",
    "\n",
    "# faiss의 인덱스 생성\n",
    "faiss_index = faiss.IndexFlatL2(1536)"
   ]
  },
  {
   "cell_type": "code",
   "execution_count": 7,
   "metadata": {
    "id": "LTsXCjT_b4Db"
   },
   "outputs": [
    {
     "name": "stdout",
     "output_type": "stream",
     "text": [
      "DEBUG:urllib3.connectionpool:Starting new HTTPS connection (1): openaipublic.blob.core.windows.net:443\n",
      "DEBUG:urllib3.connectionpool:https://openaipublic.blob.core.windows.net:443 \"GET /gpt-2/encodings/main/vocab.bpe HTTP/1.1\" 200 456318\n",
      "DEBUG:urllib3.connectionpool:Starting new HTTPS connection (1): openaipublic.blob.core.windows.net:443\n",
      "DEBUG:urllib3.connectionpool:https://openaipublic.blob.core.windows.net:443 \"GET /gpt-2/encodings/main/encoder.json HTTP/1.1\" 200 1042301\n",
      "DEBUG:llama_index.node_parser.node_utils:> Adding chunk: 제1장: 데이터 프론트\n",
      "\n",
      "밤이 되면 반짝이는 네오 도쿄. 고층 빌딩이 늘어서고, 네온...\n",
      "DEBUG:llama_index.node_parser.node_utils:> Adding chunk: 제2장: 울프 코퍼레이션의 함정\n",
      "\n",
      "미코는 목적지인 술집 '할머니의 집'으로 향하는 길...\n",
      "DEBUG:llama_index.node_parser.node_utils:> Adding chunk: 제3장: 배신과 재회\n",
      "\n",
      "술집 '할머니의 집'에서 미코는 데이터를 받을 사람인 료를 기...\n",
      "DEBUG:llama_index.node_parser.node_utils:> Adding chunk: 제4장: 울프 코퍼레이션의 붕괴\n",
      "\n",
      "미코와 료는 해커 집단과 함께 울프 코퍼레이션에 대...\n",
      "DEBUG:llama_index.node_parser.node_utils:> Adding chunk: 제5장: 결전의 순간\n",
      "\n",
      "미코와 료는 마침내 울프 코퍼레이션의 최상층에 도착해 CEO인...\n",
      "DEBUG:llama_index.node_parser.node_utils:> Adding chunk: 제6장: 진실의 해방\n",
      "\n",
      "미코는 울프 박사의 약점을 파고들어 그를 쓰러뜨리는데 성공한다...\n",
      "DEBUG:llama_index.node_parser.node_utils:> Adding chunk: 제7장: 새로운 시작\n",
      "\n",
      "울프 코퍼레이션이 무너진 후, 미코와 료는 서로의 과거를 용서...\n",
      "DEBUG:openai:message='Request to OpenAI API' method=post path=https://api.openai.com/v1/embeddings\n",
      "DEBUG:openai:api_version=None data='{\"input\": [\"\\\\uc81c1\\\\uc7a5: \\\\ub370\\\\uc774\\\\ud130 \\\\ud504\\\\ub860\\\\ud2b8  \\\\ubc24\\\\uc774 \\\\ub418\\\\uba74 \\\\ubc18\\\\uc9dd\\\\uc774\\\\ub294 \\\\ub124\\\\uc624 \\\\ub3c4\\\\ucfc4. \\\\uace0\\\\uce35 \\\\ube4c\\\\ub529\\\\uc774 \\\\ub298\\\\uc5b4\\\\uc11c\\\\uace0, \\\\ub124\\\\uc628\\\\uc0ac\\\\uc778\\\\uc774 \\\\uac70\\\\ub9ac\\\\ub97c \\\\uc218\\\\ub193\\\\ub294\\\\ub2e4. \\\\uadf8 \\\\uac70\\\\ub9ac\\\\uc5d0\\\\uc11c \\\\ube68\\\\uac04 \\\\ub450\\\\uac74\\\\uc744 \\\\uc4f4 \\\\uc18c\\\\ub140 \\\\ubbf8\\\\ucf54\\\\ub294 \\\\ubd88\\\\ubc95 \\\\ub370\\\\uc774\\\\ud130 \\\\uce74\\\\uc6b0\\\\ub9ac\\\\uc544\\\\ub97c \\\\uc6b4\\\\ubc18\\\\ud558\\\\ub294 \\\\ubc30\\\\ub2ec\\\\uc6d0\\\\uc73c\\\\ub85c \\\\uc77c\\\\ud558\\\\uace0 \\\\uc788\\\\uc5c8\\\\ub2e4. \\\\uadf8\\\\ub140\\\\ub294 \\\\uc5b4\\\\uba38\\\\ub2c8\\\\uac00 \\\\ubcd1\\\\uc5d0 \\\\uac78\\\\ub824 \\\\uce58\\\\ub8cc\\\\ube44\\\\ub97c \\\\ubc8c\\\\uae30 \\\\uc704\\\\ud574 \\\\ub370\\\\uc774\\\\ud130\\\\uce74\\\\uc6b0\\\\ub9ac\\\\uc544\\\\uc5d0 \\\\ubab8\\\\uc744 \\\\ub358\\\\uc9c0\\\\uace0 \\\\uc788\\\\uc5c8\\\\ub2e4.  \\\\uadf8\\\\ub7ec\\\\ub358 \\\\uc5b4\\\\ub290 \\\\ub0a0, \\\\ubbf8\\\\ucf54\\\\ub294 \\\\uc911\\\\uc694\\\\ud55c \\\\ub370\\\\uc774\\\\ud130\\\\ub97c \\\\uc6b4\\\\ubc18\\\\ud558\\\\ub294 \\\\uc784\\\\ubb34\\\\ub97c \\\\ub9e1\\\\uac8c \\\\ub41c\\\\ub2e4. \\\\uadf8 \\\\ub370\\\\uc774\\\\ud130\\\\uc5d0\\\\ub294 \\\\uac70\\\\ub300 \\\\uae30\\\\uc5c5 \\'\\\\uc6b8\\\\ud504 \\\\ucf54\\\\ud37c\\\\ub808\\\\uc774\\\\uc158\\'\\\\uc758 \\\\uc2dc\\\\ubbfc\\\\uc5d0 \\\\ub300\\\\ud55c \\\\uc545\\\\ub784\\\\ud55c \\\\uc9c0\\\\ubc30\\\\ub97c \\\\ud3ed\\\\ub85c\\\\ud558\\\\ub294 \\\\uc815\\\\ubcf4\\\\uac00 \\\\ub2f4\\\\uaca8 \\\\uc788\\\\uc5c8\\\\ub2e4. \\\\uadf8\\\\ub140\\\\ub294 \\\\ub370\\\\uc774\\\\ud130\\\\ub97c \\\\ubc1b\\\\uc544 \\\\ubaa9\\\\uc801\\\\uc9c0\\\\ub85c \\\\ud5a5\\\\ud55c\\\\ub2e4. \", \"\\\\uc81c2\\\\uc7a5: \\\\uc6b8\\\\ud504 \\\\ucf54\\\\ud37c\\\\ub808\\\\uc774\\\\uc158\\\\uc758 \\\\ud568\\\\uc815  \\\\ubbf8\\\\ucf54\\\\ub294 \\\\ubaa9\\\\uc801\\\\uc9c0\\\\uc778 \\\\uc220\\\\uc9d1 \\'\\\\ud560\\\\uba38\\\\ub2c8\\\\uc758 \\\\uc9d1\\'\\\\uc73c\\\\ub85c \\\\ud5a5\\\\ud558\\\\ub294 \\\\uae38\\\\uc5d0 \\\\uc6b8\\\\ud504 \\\\ucf54\\\\ud37c\\\\ub808\\\\uc774\\\\uc158\\\\uc758 \\\\uc694\\\\uc6d0\\\\ub4e4\\\\uc5d0\\\\uac8c \\\\ucad3\\\\uae30\\\\uac8c \\\\ub41c\\\\ub2e4. \\\\uadf8\\\\ub4e4\\\\uc740 \\'\\\\ube68\\\\uac04 \\\\ub9dd\\\\ud1a0\\'\\\\ub77c\\\\ub294 \\\\ub370\\\\uc774\\\\ud130 \\\\uce74\\\\uc6b0\\\\ub9ac\\\\uc544\\\\uc5d0 \\\\ub300\\\\ud55c \\\\uc18c\\\\ubb38\\\\uc744 \\\\ub4e3\\\\uace0 \\\\ub370\\\\uc774\\\\ud130\\\\ub97c \\\\ud0c8\\\\ucde8\\\\ud558\\\\ub824 \\\\ud588\\\\ub2e4. \\\\ubbf8\\\\ucf54\\\\ub294 \\\\uad50\\\\ubb18\\\\ud558\\\\uac8c \\\\uc694\\\\uc6d0\\\\ub4e4\\\\uc744 \\\\ud769\\\\ubfcc\\\\ub9ac\\\\uace0 \\\\uc220\\\\uc9d1\\\\uc5d0 \\\\ub3c4\\\\ucc29\\\\ud55c\\\\ub2e4. \", \"\\\\uc81c3\\\\uc7a5: \\\\ubc30\\\\uc2e0\\\\uacfc \\\\uc7ac\\\\ud68c  \\\\uc220\\\\uc9d1 \\'\\\\ud560\\\\uba38\\\\ub2c8\\\\uc758 \\\\uc9d1\\'\\\\uc5d0\\\\uc11c \\\\ubbf8\\\\ucf54\\\\ub294 \\\\ub370\\\\uc774\\\\ud130\\\\ub97c \\\\ubc1b\\\\uc744 \\\\uc0ac\\\\ub78c\\\\uc778 \\\\ub8cc\\\\ub97c \\\\uae30\\\\ub2e4\\\\ub9ac\\\\uace0 \\\\uc788\\\\uc5c8\\\\ub2e4. \\\\ub8cc\\\\ub294 \\\\uadf8\\\\ub140\\\\uc758 \\\\uc5b4\\\\ub9b4 \\\\uc801 \\\\uce5c\\\\uad6c\\\\uc774\\\\uc790 \\\\uadf8 \\\\uc5ed\\\\uc2dc \\\\uc6b8\\\\ud504 \\\\ucf54\\\\ud37c\\\\ub808\\\\uc774\\\\uc158\\\\uacfc \\\\uc2f8\\\\uc6b0\\\\ub294 \\\\ud574\\\\ucee4 \\\\uc9d1\\\\ub2e8\\\\uc758 \\\\uc77c\\\\uc6d0\\\\uc774\\\\uc5c8\\\\ub2e4. \\\\ud558\\\\uc9c0\\\\ub9cc \\\\ub8cc\\\\ub294 \\\\ubbf8\\\\ucf54\\\\uc5d0\\\\uac8c \\\\ubc30\\\\uc2e0\\\\uac10\\\\uc744 \\\\ub290\\\\uaf08\\\\uace0, \\\\uadf8\\\\ub140\\\\uac00 \\\\ub370\\\\uc774\\\\ud130 \\\\uce74\\\\uc6b0\\\\ub9ac\\\\uc544\\\\uc5d0 \\\\ubab8\\\\uc744 \\\\ub358\\\\uc9c4 \\\\uac83\\\\uc5d0 \\\\ud654\\\\uac00 \\\\ub0ac\\\\ub2e4.  \\\\uadf8\\\\ub7fc\\\\uc5d0\\\\ub3c4 \\\\ubd88\\\\uad6c\\\\ud558\\\\uace0 \\\\ubbf8\\\\ucf54\\\\ub294 \\\\ub8cc\\\\uc5d0\\\\uac8c \\\\ub370\\\\uc774\\\\ud130\\\\ub97c \\\\uac74\\\\ub124\\\\uba70 \\\\uc6b8\\\\ud504 \\\\ucf54\\\\ud37c\\\\ub808\\\\uc774\\\\uc158\\\\uc5d0 \\\\ub300\\\\ud55c \\\\ubc18\\\\uaca9\\\\uc744 \\\\ubbff\\\\uae30\\\\ub85c \\\\ud55c\\\\ub2e4. \\\\ub450 \\\\uc0ac\\\\ub78c\\\\uc740 \\\\ud568\\\\uaed8 \\\\uc6b8\\\\ud504 \\\\ucf54\\\\ud37c\\\\ub808\\\\uc774\\\\uc158\\\\uc758 \\\\uc74c\\\\ubaa8\\\\ub97c \\\\ubc1d\\\\ud600\\\\ub0b4\\\\uace0 \\\\uc2dc\\\\ubbfc\\\\ub4e4\\\\uc744 \\\\uad6c\\\\ud558\\\\uae30\\\\ub85c \\\\uacb0\\\\uc2ec\\\\ud55c\\\\ub2e4. \", \"\\\\uc81c4\\\\uc7a5: \\\\uc6b8\\\\ud504 \\\\ucf54\\\\ud37c\\\\ub808\\\\uc774\\\\uc158\\\\uc758 \\\\ubd95\\\\uad34  \\\\ubbf8\\\\ucf54\\\\uc640 \\\\ub8cc\\\\ub294 \\\\ud574\\\\ucee4 \\\\uc9d1\\\\ub2e8\\\\uacfc \\\\ud568\\\\uaed8 \\\\uc6b8\\\\ud504 \\\\ucf54\\\\ud37c\\\\ub808\\\\uc774\\\\uc158\\\\uc5d0 \\\\ub300\\\\ud55c \\\\ucd5c\\\\ud6c4\\\\uc758 \\\\uacb0\\\\uc804\\\\uc744 \\\\ubc8c\\\\uc778\\\\ub2e4. \\\\ub2a5\\\\uc219\\\\ud55c \\\\ud574\\\\ud0b9 \\\\uae30\\\\uc220\\\\uacfc \\\\uc2e0\\\\uccb4 \\\\ub2a5\\\\ub825\\\\uc73c\\\\ub85c \\\\uadf8\\\\ub4e4\\\\uc740 \\\\uc6b8\\\\ud504 \\\\ucf54\\\\ud37c\\\\ub808\\\\uc774\\\\uc158\\\\uc758 \\\\ubcf4\\\\uc548\\\\uc744 \\\\ucc28\\\\ub840\\\\ub85c \\\\ub6ab\\\\uc5b4 \\\\ub098\\\\uac04\\\\ub2e4. \\\\uadf8 \\\\uacfc\\\\uc815\\\\uc5d0\\\\uc11c \\\\ubbf8\\\\ucf54\\\\ub294 \\\\uc6b8\\\\ud504 \\\\ucf54\\\\ud37c\\\\ub808\\\\uc774\\\\uc158\\\\uc774 \\\\uc5b4\\\\uba38\\\\ub2c8\\\\uc758 \\\\ubcd1\\\\uc5d0 \\\\uad00\\\\uc5ec\\\\ud558\\\\uace0 \\\\uc788\\\\ub2e4\\\\ub294 \\\\uc0ac\\\\uc2e4\\\\uc744 \\\\uc54c\\\\uac8c \\\\ub41c\\\\ub2e4. \\\\uadf8\\\\ub140\\\\ub294 \\\\ubd84\\\\ub178\\\\uc5d0 \\\\ud729\\\\uc2f8\\\\uc5ec \\\\uc6b8\\\\ud504\\\\ucf54\\\\ud37c\\\\ub808\\\\uc774\\\\uc158\\\\uc5d0 \\\\ub300\\\\ud55c \\\\ubcf5\\\\uc218\\\\ub97c \\\\ub2e4\\\\uc9d0\\\\ud55c\\\\ub2e4. \", \"\\\\uc81c5\\\\uc7a5: \\\\uacb0\\\\uc804\\\\uc758 \\\\uc21c\\\\uac04  \\\\ubbf8\\\\ucf54\\\\uc640 \\\\ub8cc\\\\ub294 \\\\ub9c8\\\\uce68\\\\ub0b4 \\\\uc6b8\\\\ud504 \\\\ucf54\\\\ud37c\\\\ub808\\\\uc774\\\\uc158\\\\uc758 \\\\ucd5c\\\\uc0c1\\\\uce35\\\\uc5d0 \\\\ub3c4\\\\ucc29\\\\ud574 CEO\\\\uc778 \\\\uad50\\\\ud65c\\\\ud55c \\\\uc6b8\\\\ud504 \\\\ubc15\\\\uc0ac\\\\uc640 \\\\ub300\\\\uba74\\\\ud55c\\\\ub2e4. \\\\uc6b8\\\\ud504 \\\\ubc15\\\\uc0ac\\\\ub294 \\\\uc2dc\\\\ubbfc\\\\uc744 \\\\uc9c0\\\\ubc30\\\\ud558\\\\ub824\\\\ub294 \\\\uc0ac\\\\uc545\\\\ud55c \\\\uc57c\\\\ub9dd\\\\uc744 \\\\ub4dc\\\\ub7ec\\\\ub0b4\\\\uba70 \\\\uc790\\\\uc2e0\\\\uc758 \\\\uc555\\\\ub3c4\\\\uc801\\\\uc778 \\\\ud798\\\\uc744 \\\\uacfc\\\\uc2dc\\\\ud55c\\\\ub2e4. \\\\ud558\\\\uc9c0\\\\ub9cc \\\\ubbf8\\\\ucf54\\\\uc640 \\\\ub8cc\\\\ub294 \\\\uc11c\\\\ub85c\\\\ub97c \\\\ub3c4\\\\uc640\\\\uac00\\\\uba70 \\\\uc6b8\\\\ud504 \\\\ubc15\\\\uc0ac\\\\uc640 \\\\uc2f8\\\\uc6b0\\\\uace0 \\\\uadf8\\\\uc758 \\\\uc57d\\\\uc810\\\\uc744 \\\\ucc3e\\\\uc544\\\\ub0b8\\\\ub2e4. \", \"\\\\uc81c6\\\\uc7a5: \\\\uc9c4\\\\uc2e4\\\\uc758 \\\\ud574\\\\ubc29  \\\\ubbf8\\\\ucf54\\\\ub294 \\\\uc6b8\\\\ud504 \\\\ubc15\\\\uc0ac\\\\uc758 \\\\uc57d\\\\uc810\\\\uc744 \\\\ud30c\\\\uace0\\\\ub4e4\\\\uc5b4 \\\\uadf8\\\\ub97c \\\\uc4f0\\\\ub7ec\\\\ub728\\\\ub9ac\\\\ub294\\\\ub370 \\\\uc131\\\\uacf5\\\\ud55c\\\\ub2e4. \\\\uadf8\\\\ub9ac\\\\uace0 \\\\ud574\\\\ucee4 \\\\uc9d1\\\\ub2e8\\\\uacfc \\\\ud568\\\\uaed8 \\\\uc6b8\\\\ud504 \\\\ucf54\\\\ud37c\\\\ub808\\\\uc774\\\\uc158\\\\uc758 \\\\uc545\\\\ud589\\\\uc744 \\\\uc138\\\\uc0c1\\\\uc5d0 \\\\uacf5\\\\uac1c\\\\ud558\\\\uace0 \\\\uc2dc\\\\ubbfc\\\\ub4e4\\\\uc744 \\\\ud574\\\\ubc29\\\\uc2dc\\\\ud0a8\\\\ub2e4. \\\\uc774 \\\\uc2b9\\\\ub9ac\\\\ub85c \\\\ubbf8\\\\ucf54\\\\uc758 \\\\uc5b4\\\\uba38\\\\ub2c8\\\\uc758 \\\\uce58\\\\ub8cc\\\\ubc95\\\\ub3c4 \\\\ucc3e\\\\uc544\\\\ub0b4\\\\uace0, \\\\uadf8\\\\ub140\\\\uc758 \\\\ubcd1\\\\uc740 \\\\uc644\\\\uce58\\\\ub41c\\\\ub2e4. \", \"\\\\uc81c7\\\\uc7a5: \\\\uc0c8\\\\ub85c\\\\uc6b4 \\\\uc2dc\\\\uc791  \\\\uc6b8\\\\ud504 \\\\ucf54\\\\ud37c\\\\ub808\\\\uc774\\\\uc158\\\\uc774 \\\\ubb34\\\\ub108\\\\uc9c4 \\\\ud6c4, \\\\ubbf8\\\\ucf54\\\\uc640 \\\\ub8cc\\\\ub294 \\\\uc11c\\\\ub85c\\\\uc758 \\\\uacfc\\\\uac70\\\\ub97c \\\\uc6a9\\\\uc11c\\\\ud558\\\\uace0 \\\\ub2e4\\\\uc2dc \\\\uc6b0\\\\uc815\\\\uc744 \\\\ud68c\\\\ubcf5\\\\ud55c\\\\ub2e4. \\\\ubbf8\\\\ucf54\\\\ub294 \\\\ub370\\\\uc774\\\\ud130\\\\uce74\\\\uc6b0\\\\ub9ac\\\\uc544\\\\ub97c \\\\uadf8\\\\ub9cc\\\\ub450\\\\uace0 \\\\ub8cc\\\\uc640 \\\\ud568\\\\uaed8 \\\\uc0c8\\\\ub85c\\\\uc6b4 \\\\uae38\\\\uc744 \\\\uac77\\\\uae30 \\\\uc2dc\\\\uc791\\\\ud55c\\\\ub2e4. \\\\uadf8\\\\ub4e4\\\\uc740 \\\\uc2a4\\\\uc2a4\\\\ub85c\\\\uc758 \\\\ud798\\\\uc73c\\\\ub85c \\\\ubbf8\\\\ub798\\\\uc758 \\\\ub124\\\\uc624 \\\\ub3c4\\\\ucfc4\\\\ub97c \\\\ub354 \\\\ub098\\\\uc740 \\\\ub3c4\\\\uc2dc\\\\ub85c \\\\ubc14\\\\uafb8\\\\uc5b4 \\\\ub098\\\\uac08 \\\\uac83\\\\uc744 \\\\ub2e4\\\\uc9d0\\\\ud55c\\\\ub2e4. \\\\uc774\\\\uac83\\\\uc740 \\\\ubbf8\\\\ucf54\\\\uc640 \\\\ub8cc, \\\\uadf8\\\\ub9ac\\\\uace0 \\\\uc804\\\\ub1cc \\\\ube68\\\\uac04 \\\\ub9dd\\\\ud1a0\\\\uc758 \\\\uc0c8\\\\ub85c\\\\uc6b4 \\\\ubaa8\\\\ud5d8\\\\uc758 \\\\uc2dc\\\\uc791\\\\uc774\\\\uc5c8\\\\ub2e4. \"], \"model\": \"text-embedding-ada-002\", \"encoding_format\": \"base64\"}' message='Post details'\n"
     ]
    },
    {
     "name": "stdout",
     "output_type": "stream",
     "text": [
      "DEBUG:urllib3.util.retry:Converted retries value: 2 -> Retry(total=2, connect=None, read=None, redirect=None, status=None)\n",
      "DEBUG:urllib3.connectionpool:Starting new HTTPS connection (1): api.openai.com:443\n",
      "DEBUG:urllib3.connectionpool:https://api.openai.com:443 \"POST /v1/embeddings HTTP/1.1\" 200 None\n",
      "DEBUG:openai:message='OpenAI API response' path=https://api.openai.com/v1/embeddings processing_ms=68 request_id=b10707a3d8abaa90576d75c8330cc546 response_code=200\n",
      "INFO:llama_index.token_counter.token_counter:> [build_index_from_nodes] Total LLM token usage: 0 tokens\n",
      "INFO:llama_index.token_counter.token_counter:> [build_index_from_nodes] Total embedding token usage: 2888 tokens\n"
     ]
    }
   ],
   "source": [
    "from llama_index import GPTVectorStoreIndex, StorageContext\n",
    "from llama_index.vector_stores.faiss import FaissVectorStore\n",
    "\n",
    "# 인덱스 생성\n",
    "vector_store = FaissVectorStore(faiss_index=faiss_index)\n",
    "storage_context = StorageContext.from_defaults(vector_store=vector_store)\n",
    "index = GPTVectorStoreIndex.from_documents(\n",
    "    documents, \n",
    "    storage_context=storage_context\n",
    ")"
   ]
  },
  {
   "cell_type": "code",
   "execution_count": 8,
   "metadata": {
    "id": "8shbHdPgcziH"
   },
   "outputs": [],
   "source": [
    "# 쿼리 엔진 생성\n",
    "query_engine = index.as_query_engine()"
   ]
  },
  {
   "cell_type": "code",
   "execution_count": 9,
   "metadata": {
    "id": "yABLhKVzRamX"
   },
   "outputs": [
    {
     "name": "stdout",
     "output_type": "stream",
     "text": [
      "DEBUG:openai:message='Request to OpenAI API' method=post path=https://api.openai.com/v1/embeddings\n",
      "DEBUG:openai:api_version=None data='{\"input\": [\"\\\\ubbf8\\\\ucf54\\\\uc758 \\\\uc18c\\\\uafc9\\\\uce5c\\\\uad6c \\\\uc774\\\\ub984\\\\uc740?\"], \"model\": \"text-embedding-ada-002\", \"encoding_format\": \"base64\"}' message='Post details'\n",
      "DEBUG:urllib3.connectionpool:https://api.openai.com:443 \"POST /v1/embeddings HTTP/1.1\" 200 None\n",
      "DEBUG:openai:message='OpenAI API response' path=https://api.openai.com/v1/embeddings processing_ms=31 request_id=97584c9c3df4712c085dd334a96c7ed9 response_code=200\n",
      "DEBUG:llama_index.indices.utils:> Top 2 nodes:\n",
      "> [Node 4] [Similarity score:             0.336006] 제5장: 결전의 순간\n",
      "\n",
      "미코와 료는 마침내 울프 코퍼레이션의 최상층에 도착해 CEO인 교활한 울프 박사와 대면한다. 울프 박사는 시민을 지배하려는 사악한 야망을 드러내며 자신...\n",
      "> [Node 2] [Similarity score:             0.343525] 제3장: 배신과 재회\n",
      "\n",
      "술집 '할머니의 집'에서 미코는 데이터를 받을 사람인 료를 기다리고 있었다. 료는 그녀의 어릴 적 친구이자 그 역시 울프 코퍼레이션과 싸우는 해커 집단...\n",
      "INFO:llama_index.token_counter.token_counter:> [retrieve] Total LLM token usage: 0 tokens\n",
      "INFO:llama_index.token_counter.token_counter:> [retrieve] Total embedding token usage: 29 tokens\n",
      "DEBUG:openai:message='Request to OpenAI API' method=post path=https://api.openai.com/v1/completions\n",
      "DEBUG:openai:api_version=None data='{\"prompt\": [\"Context information is below. \\\\n---------------------\\\\n\\\\uc81c5\\\\uc7a5: \\\\uacb0\\\\uc804\\\\uc758 \\\\uc21c\\\\uac04\\\\n\\\\n\\\\ubbf8\\\\ucf54\\\\uc640 \\\\ub8cc\\\\ub294 \\\\ub9c8\\\\uce68\\\\ub0b4 \\\\uc6b8\\\\ud504 \\\\ucf54\\\\ud37c\\\\ub808\\\\uc774\\\\uc158\\\\uc758 \\\\ucd5c\\\\uc0c1\\\\uce35\\\\uc5d0 \\\\ub3c4\\\\ucc29\\\\ud574 CEO\\\\uc778 \\\\uad50\\\\ud65c\\\\ud55c \\\\uc6b8\\\\ud504 \\\\ubc15\\\\uc0ac\\\\uc640 \\\\ub300\\\\uba74\\\\ud55c\\\\ub2e4. \\\\uc6b8\\\\ud504 \\\\ubc15\\\\uc0ac\\\\ub294 \\\\uc2dc\\\\ubbfc\\\\uc744 \\\\uc9c0\\\\ubc30\\\\ud558\\\\ub824\\\\ub294 \\\\uc0ac\\\\uc545\\\\ud55c \\\\uc57c\\\\ub9dd\\\\uc744 \\\\ub4dc\\\\ub7ec\\\\ub0b4\\\\uba70 \\\\uc790\\\\uc2e0\\\\uc758 \\\\uc555\\\\ub3c4\\\\uc801\\\\uc778 \\\\ud798\\\\uc744 \\\\uacfc\\\\uc2dc\\\\ud55c\\\\ub2e4. \\\\ud558\\\\uc9c0\\\\ub9cc \\\\ubbf8\\\\ucf54\\\\uc640 \\\\ub8cc\\\\ub294 \\\\uc11c\\\\ub85c\\\\ub97c \\\\ub3c4\\\\uc640\\\\uac00\\\\uba70 \\\\uc6b8\\\\ud504 \\\\ubc15\\\\uc0ac\\\\uc640 \\\\uc2f8\\\\uc6b0\\\\uace0 \\\\uadf8\\\\uc758 \\\\uc57d\\\\uc810\\\\uc744 \\\\ucc3e\\\\uc544\\\\ub0b8\\\\ub2e4.\\\\n\\\\n\\\\uc81c3\\\\uc7a5: \\\\ubc30\\\\uc2e0\\\\uacfc \\\\uc7ac\\\\ud68c\\\\n\\\\n\\\\uc220\\\\uc9d1 \\'\\\\ud560\\\\uba38\\\\ub2c8\\\\uc758 \\\\uc9d1\\'\\\\uc5d0\\\\uc11c \\\\ubbf8\\\\ucf54\\\\ub294 \\\\ub370\\\\uc774\\\\ud130\\\\ub97c \\\\ubc1b\\\\uc744 \\\\uc0ac\\\\ub78c\\\\uc778 \\\\ub8cc\\\\ub97c \\\\uae30\\\\ub2e4\\\\ub9ac\\\\uace0 \\\\uc788\\\\uc5c8\\\\ub2e4. \\\\ub8cc\\\\ub294 \\\\uadf8\\\\ub140\\\\uc758 \\\\uc5b4\\\\ub9b4 \\\\uc801 \\\\uce5c\\\\uad6c\\\\uc774\\\\uc790 \\\\uadf8 \\\\uc5ed\\\\uc2dc \\\\uc6b8\\\\ud504 \\\\ucf54\\\\ud37c\\\\ub808\\\\uc774\\\\uc158\\\\uacfc \\\\uc2f8\\\\uc6b0\\\\ub294 \\\\ud574\\\\ucee4 \\\\uc9d1\\\\ub2e8\\\\uc758 \\\\uc77c\\\\uc6d0\\\\uc774\\\\uc5c8\\\\ub2e4. \\\\ud558\\\\uc9c0\\\\ub9cc \\\\ub8cc\\\\ub294 \\\\ubbf8\\\\ucf54\\\\uc5d0\\\\uac8c \\\\ubc30\\\\uc2e0\\\\uac10\\\\uc744 \\\\ub290\\\\uaf08\\\\uace0, \\\\uadf8\\\\ub140\\\\uac00 \\\\ub370\\\\uc774\\\\ud130 \\\\uce74\\\\uc6b0\\\\ub9ac\\\\uc544\\\\uc5d0 \\\\ubab8\\\\uc744 \\\\ub358\\\\uc9c4 \\\\uac83\\\\uc5d0 \\\\ud654\\\\uac00 \\\\ub0ac\\\\ub2e4.\\\\n\\\\n\\\\uadf8\\\\ub7fc\\\\uc5d0\\\\ub3c4 \\\\ubd88\\\\uad6c\\\\ud558\\\\uace0 \\\\ubbf8\\\\ucf54\\\\ub294 \\\\ub8cc\\\\uc5d0\\\\uac8c \\\\ub370\\\\uc774\\\\ud130\\\\ub97c \\\\uac74\\\\ub124\\\\uba70 \\\\uc6b8\\\\ud504 \\\\ucf54\\\\ud37c\\\\ub808\\\\uc774\\\\uc158\\\\uc5d0 \\\\ub300\\\\ud55c \\\\ubc18\\\\uaca9\\\\uc744 \\\\ubbff\\\\uae30\\\\ub85c \\\\ud55c\\\\ub2e4. \\\\ub450 \\\\uc0ac\\\\ub78c\\\\uc740 \\\\ud568\\\\uaed8 \\\\uc6b8\\\\ud504 \\\\ucf54\\\\ud37c\\\\ub808\\\\uc774\\\\uc158\\\\uc758 \\\\uc74c\\\\ubaa8\\\\ub97c \\\\ubc1d\\\\ud600\\\\ub0b4\\\\uace0 \\\\uc2dc\\\\ubbfc\\\\ub4e4\\\\uc744 \\\\uad6c\\\\ud558\\\\uae30\\\\ub85c \\\\uacb0\\\\uc2ec\\\\ud55c\\\\ub2e4.\\\\n---------------------\\\\nGiven the context information and not prior knowledge, answer the question: \\\\ubbf8\\\\ucf54\\\\uc758 \\\\uc18c\\\\uafc9\\\\uce5c\\\\uad6c \\\\uc774\\\\ub984\\\\uc740?\\\\n\"], \"model\": \"text-davinci-003\", \"temperature\": 0.0, \"max_tokens\": 256, \"top_p\": 1, \"frequency_penalty\": 0, \"presence_penalty\": 0, \"n\": 1, \"logit_bias\": {}}' message='Post details'\n",
      "DEBUG:urllib3.connectionpool:https://api.openai.com:443 \"POST /v1/completions HTTP/1.1\" 200 None\n",
      "DEBUG:openai:message='OpenAI API response' path=https://api.openai.com/v1/completions processing_ms=603 request_id=5a48648aa5dc5aca242931e13d31b590 response_code=200\n",
      "DEBUG:llama_index.llm_predictor.base:\n",
      "료.\n",
      "DEBUG:llama_index.indices.response.base_builder:> Initial prompt template: Context information is below. \n",
      "---------------------\n",
      "제5장: 결전의 순간\n",
      "\n",
      "미코와 료는 마침내 울프 코퍼레이션의 최상층에 도착해 CEO인 교활한 울프 박사와 대면한다. 울프 박사는 시민을 지배하려는 사악한 야망을 드러내며 자신의 압도적인 힘을 과시한다. 하지만 미코와 료는 서로를 도와가며 울프 박사와 싸우고 그의 약점을 찾아낸다.\n",
      "\n",
      "제3장: 배신과 재회\n",
      "\n",
      "술집 '할머니의 집'에서 미코는 데이터를 받을 사람인 료를 기다리고 있었다. 료는 그녀의 어릴 적 친구이자 그 역시 울프 코퍼레이션과 싸우는 해커 집단의 일원이었다. 하지만 료는 미코에게 배신감을 느꼈고, 그녀가 데이터 카우리아에 몸을 던진 것에 화가 났다.\n",
      "\n",
      "그럼에도 불구하고 미코는 료에게 데이터를 건네며 울프 코퍼레이션에 대한 반격을 믿기로 한다. 두 사람은 함께 울프 코퍼레이션의 음모를 밝혀내고 시민들을 구하기로 결심한다.\n",
      "---------------------\n",
      "Given the context information and not prior knowledge, answer the question: 미코의 소꿉친구 이름은?\n",
      "\n",
      "DEBUG:llama_index.indices.response.base_builder:> Initial response: \n",
      "료.\n",
      "INFO:llama_index.token_counter.token_counter:> [get_response] Total LLM token usage: 920 tokens\n",
      "INFO:llama_index.token_counter.token_counter:> [get_response] Total embedding token usage: 0 tokens\n",
      "\n",
      "료.\n"
     ]
    }
   ],
   "source": [
    "# 질의응답\n",
    "print(query_engine.query(\"미코의 소꿉친구 이름은?\"))"
   ]
  },
  {
   "cell_type": "markdown",
   "metadata": {
    "id": "5wL-FfZDW4vK"
   },
   "source": [
    "# Pinecone을 활용한 질의응답"
   ]
  },
  {
   "cell_type": "code",
   "execution_count": 10,
   "metadata": {
    "id": "afD4q3YIFqmW"
   },
   "outputs": [
    {
     "name": "stdout",
     "output_type": "stream",
     "text": [
      "Collecting pinecone-client\n",
      "  Downloading pinecone_client-2.2.2-py3-none-any.whl (179 kB)\n",
      "                                              0.0/179.1 kB ? eta -:--:--\n",
      "     -------------------------------------- 179.1/179.1 kB 5.4 MB/s eta 0:00:00\n",
      "Requirement already satisfied: requests>=2.19.0 in c:\\users\\yong\\anaconda3\\envs\\llamaindex\\lib\\site-packages (from pinecone-client) (2.29.0)\n",
      "Requirement already satisfied: pyyaml>=5.4 in c:\\users\\yong\\anaconda3\\envs\\llamaindex\\lib\\site-packages (from pinecone-client) (6.0)\n",
      "Collecting loguru>=0.5.0 (from pinecone-client)\n",
      "  Downloading loguru-0.7.0-py3-none-any.whl (59 kB)\n",
      "                                              0.0/60.0 kB ? eta -:--:--\n",
      "     ---------------------------------------- 60.0/60.0 kB 3.3 MB/s eta 0:00:00\n",
      "Requirement already satisfied: typing-extensions>=3.7.4 in c:\\users\\yong\\anaconda3\\envs\\llamaindex\\lib\\site-packages (from pinecone-client) (4.5.0)\n",
      "Collecting dnspython>=2.0.0 (from pinecone-client)\n",
      "  Downloading dnspython-2.4.0-py3-none-any.whl (300 kB)\n",
      "                                              0.0/300.0 kB ? eta -:--:--\n",
      "     ------------------------------------- 300.0/300.0 kB 19.3 MB/s eta 0:00:00\n",
      "Requirement already satisfied: python-dateutil>=2.5.3 in c:\\users\\yong\\anaconda3\\envs\\llamaindex\\lib\\site-packages (from pinecone-client) (2.8.2)\n",
      "Requirement already satisfied: urllib3>=1.21.1 in c:\\users\\yong\\anaconda3\\envs\\llamaindex\\lib\\site-packages (from pinecone-client) (1.26.16)\n",
      "Requirement already satisfied: tqdm>=4.64.1 in c:\\users\\yong\\anaconda3\\envs\\llamaindex\\lib\\site-packages (from pinecone-client) (4.65.0)\n",
      "Requirement already satisfied: numpy>=1.22.0 in c:\\users\\yong\\anaconda3\\envs\\llamaindex\\lib\\site-packages (from pinecone-client) (1.25.1)\n",
      "Collecting httpcore>=0.17.3 (from dnspython>=2.0.0->pinecone-client)\n",
      "  Downloading httpcore-0.17.3-py3-none-any.whl (74 kB)\n",
      "                                              0.0/74.5 kB ? eta -:--:--\n",
      "     ---------------------------------------- 74.5/74.5 kB ? eta 0:00:00\n",
      "Requirement already satisfied: sniffio<2.0,>=1.1 in c:\\users\\yong\\anaconda3\\envs\\llamaindex\\lib\\site-packages (from dnspython>=2.0.0->pinecone-client) (1.2.0)\n",
      "Requirement already satisfied: colorama>=0.3.4 in c:\\users\\yong\\anaconda3\\envs\\llamaindex\\lib\\site-packages (from loguru>=0.5.0->pinecone-client) (0.4.6)\n",
      "Collecting win32-setctime>=1.0.0 (from loguru>=0.5.0->pinecone-client)\n",
      "  Downloading win32_setctime-1.1.0-py3-none-any.whl (3.6 kB)\n",
      "Requirement already satisfied: six>=1.5 in c:\\users\\yong\\anaconda3\\envs\\llamaindex\\lib\\site-packages (from python-dateutil>=2.5.3->pinecone-client) (1.16.0)\n",
      "Requirement already satisfied: charset-normalizer<4,>=2 in c:\\users\\yong\\anaconda3\\envs\\llamaindex\\lib\\site-packages (from requests>=2.19.0->pinecone-client) (2.0.4)\n",
      "Requirement already satisfied: idna<4,>=2.5 in c:\\users\\yong\\anaconda3\\envs\\llamaindex\\lib\\site-packages (from requests>=2.19.0->pinecone-client) (3.4)\n",
      "Requirement already satisfied: certifi>=2017.4.17 in c:\\users\\yong\\anaconda3\\envs\\llamaindex\\lib\\site-packages (from requests>=2.19.0->pinecone-client) (2023.5.7)\n",
      "Collecting h11<0.15,>=0.13 (from httpcore>=0.17.3->dnspython>=2.0.0->pinecone-client)\n",
      "  Using cached h11-0.14.0-py3-none-any.whl (58 kB)\n",
      "Requirement already satisfied: anyio<5.0,>=3.0 in c:\\users\\yong\\anaconda3\\envs\\llamaindex\\lib\\site-packages (from httpcore>=0.17.3->dnspython>=2.0.0->pinecone-client) (3.5.0)\n",
      "Installing collected packages: win32-setctime, h11, loguru, httpcore, dnspython, pinecone-client\n",
      "Successfully installed dnspython-2.4.0 h11-0.14.0 httpcore-0.17.3 loguru-0.7.0 pinecone-client-2.2.2 win32-setctime-1.1.0\n",
      "Collecting transformers\n",
      "  Downloading transformers-4.31.0-py3-none-any.whl (7.4 MB)\n",
      "                                              0.0/7.4 MB ? eta -:--:--\n",
      "     --                                       0.5/7.4 MB 10.9 MB/s eta 0:00:01\n",
      "     --------                                 1.5/7.4 MB 16.0 MB/s eta 0:00:01\n",
      "     ---------------                          2.9/7.4 MB 20.2 MB/s eta 0:00:01\n",
      "     -----------------------                  4.2/7.4 MB 22.5 MB/s eta 0:00:01\n",
      "     -------------------------------          5.8/7.4 MB 24.4 MB/s eta 0:00:01\n",
      "     ---------------------------------------  7.2/7.4 MB 25.8 MB/s eta 0:00:01\n",
      "     ---------------------------------------- 7.4/7.4 MB 23.6 MB/s eta 0:00:00\n",
      "Collecting filelock (from transformers)\n",
      "  Using cached filelock-3.12.2-py3-none-any.whl (10 kB)\n",
      "Collecting huggingface-hub<1.0,>=0.14.1 (from transformers)\n",
      "  Using cached huggingface_hub-0.16.4-py3-none-any.whl (268 kB)\n",
      "Requirement already satisfied: numpy>=1.17 in c:\\users\\yong\\anaconda3\\envs\\llamaindex\\lib\\site-packages (from transformers) (1.25.1)\n",
      "Requirement already satisfied: packaging>=20.0 in c:\\users\\yong\\anaconda3\\envs\\llamaindex\\lib\\site-packages (from transformers) (23.0)\n",
      "Requirement already satisfied: pyyaml>=5.1 in c:\\users\\yong\\anaconda3\\envs\\llamaindex\\lib\\site-packages (from transformers) (6.0)\n",
      "Requirement already satisfied: regex!=2019.12.17 in c:\\users\\yong\\anaconda3\\envs\\llamaindex\\lib\\site-packages (from transformers) (2023.6.3)\n",
      "Requirement already satisfied: requests in c:\\users\\yong\\anaconda3\\envs\\llamaindex\\lib\\site-packages (from transformers) (2.29.0)\n",
      "Collecting tokenizers!=0.11.3,<0.14,>=0.11.1 (from transformers)\n",
      "  Using cached tokenizers-0.13.3-cp311-cp311-win_amd64.whl (3.5 MB)\n",
      "Collecting safetensors>=0.3.1 (from transformers)\n",
      "  Using cached safetensors-0.3.1-cp311-cp311-win_amd64.whl (263 kB)\n",
      "Requirement already satisfied: tqdm>=4.27 in c:\\users\\yong\\anaconda3\\envs\\llamaindex\\lib\\site-packages (from transformers) (4.65.0)\n",
      "Requirement already satisfied: fsspec in c:\\users\\yong\\anaconda3\\envs\\llamaindex\\lib\\site-packages (from huggingface-hub<1.0,>=0.14.1->transformers) (2023.6.0)\n",
      "Requirement already satisfied: typing-extensions>=3.7.4.3 in c:\\users\\yong\\anaconda3\\envs\\llamaindex\\lib\\site-packages (from huggingface-hub<1.0,>=0.14.1->transformers) (4.5.0)\n",
      "Requirement already satisfied: colorama in c:\\users\\yong\\anaconda3\\envs\\llamaindex\\lib\\site-packages (from tqdm>=4.27->transformers) (0.4.6)\n",
      "Requirement already satisfied: charset-normalizer<4,>=2 in c:\\users\\yong\\anaconda3\\envs\\llamaindex\\lib\\site-packages (from requests->transformers) (2.0.4)\n",
      "Requirement already satisfied: idna<4,>=2.5 in c:\\users\\yong\\anaconda3\\envs\\llamaindex\\lib\\site-packages (from requests->transformers) (3.4)\n",
      "Requirement already satisfied: urllib3<1.27,>=1.21.1 in c:\\users\\yong\\anaconda3\\envs\\llamaindex\\lib\\site-packages (from requests->transformers) (1.26.16)\n",
      "Requirement already satisfied: certifi>=2017.4.17 in c:\\users\\yong\\anaconda3\\envs\\llamaindex\\lib\\site-packages (from requests->transformers) (2023.5.7)\n",
      "Installing collected packages: tokenizers, safetensors, filelock, huggingface-hub, transformers\n",
      "Successfully installed filelock-3.12.2 huggingface-hub-0.16.4 safetensors-0.3.1 tokenizers-0.13.3 transformers-4.31.0\n"
     ]
    }
   ],
   "source": [
    "# 패키지 설치\n",
    "!pip install pinecone-client\n",
    "!pip install transformers"
   ]
  },
  {
   "cell_type": "code",
   "execution_count": 11,
   "metadata": {
    "id": "ZLxjY4KG9ykX"
   },
   "outputs": [
    {
     "name": "stdout",
     "output_type": "stream",
     "text": [
      "DEBUG:llama_index.readers.file.base:> [SimpleDirectoryReader] Total files added: 7\n"
     ]
    }
   ],
   "source": [
    "from llama_index import SimpleDirectoryReader\n",
    "\n",
    "# 문서 불러오기 (data 폴더에 문서를 넣어 두세요)\n",
    "documents = SimpleDirectoryReader(\"data\").load_data()"
   ]
  },
  {
   "cell_type": "code",
   "execution_count": 12,
   "metadata": {
    "id": "8ijn0ZQ-FgZ_"
   },
   "outputs": [
    {
     "name": "stdout",
     "output_type": "stream",
     "text": [
      "DEBUG:urllib3.connectionpool:Starting new HTTPS connection (1): controller.us-west1-gcp.pinecone.io:443\n",
      "DEBUG:urllib3.connectionpool:https://controller.us-west1-gcp.pinecone.io:443 \"GET /actions/whoami HTTP/1.1\" 401 114\n"
     ]
    }
   ],
   "source": [
    "import pinecone\n",
    "\n",
    "# pinecone-client의 인덱스 생성\n",
    "api_key = \"<Pinecone API 키>\"\n",
    "pinecone.init(api_key=api_key, environment=\"asia-southeast1-gcp-free\")\n",
    "pinecone.create_index(\n",
    "    \"quickstart\",\n",
    "    dimension=1536,\n",
    "    metric=\"dotproduct\",\n",
    "    pod_type=\"p1\"\n",
    ")\n",
    "pinecone_index = pinecone.Index(\"quickstart\")"
   ]
  },
  {
   "cell_type": "code",
   "execution_count": 13,
   "metadata": {
    "id": "hXPc7ufhfeEk"
   },
   "outputs": [
    {
     "name": "stderr",
     "output_type": "stream",
     "text": [
      "None of PyTorch, TensorFlow >= 2.0, or Flax have been found. Models won't be available and only tokenizers, configuration and file/data utilities can be used.\n"
     ]
    },
    {
     "name": "stdout",
     "output_type": "stream",
     "text": [
      "DEBUG:llama_index.node_parser.node_utils:> Adding chunk: 제1장: 데이터 프론트\n",
      "\n",
      "밤이 되면 반짝이는 네오 도쿄. 고층 빌딩이 늘어서고, 네온...\n",
      "DEBUG:llama_index.node_parser.node_utils:> Adding chunk: 제2장: 울프 코퍼레이션의 함정\n",
      "\n",
      "미코는 목적지인 술집 '할머니의 집'으로 향하는 길...\n",
      "DEBUG:llama_index.node_parser.node_utils:> Adding chunk: 제3장: 배신과 재회\n",
      "\n",
      "술집 '할머니의 집'에서 미코는 데이터를 받을 사람인 료를 기...\n",
      "DEBUG:llama_index.node_parser.node_utils:> Adding chunk: 제4장: 울프 코퍼레이션의 붕괴\n",
      "\n",
      "미코와 료는 해커 집단과 함께 울프 코퍼레이션에 대...\n",
      "DEBUG:llama_index.node_parser.node_utils:> Adding chunk: 제5장: 결전의 순간\n",
      "\n",
      "미코와 료는 마침내 울프 코퍼레이션의 최상층에 도착해 CEO인...\n",
      "DEBUG:llama_index.node_parser.node_utils:> Adding chunk: 제6장: 진실의 해방\n",
      "\n",
      "미코는 울프 박사의 약점을 파고들어 그를 쓰러뜨리는데 성공한다...\n",
      "DEBUG:llama_index.node_parser.node_utils:> Adding chunk: 제7장: 새로운 시작\n",
      "\n",
      "울프 코퍼레이션이 무너진 후, 미코와 료는 서로의 과거를 용서...\n",
      "DEBUG:openai:message='Request to OpenAI API' method=post path=https://api.openai.com/v1/embeddings\n",
      "DEBUG:openai:api_version=None data='{\"input\": [\"\\\\uc81c1\\\\uc7a5: \\\\ub370\\\\uc774\\\\ud130 \\\\ud504\\\\ub860\\\\ud2b8  \\\\ubc24\\\\uc774 \\\\ub418\\\\uba74 \\\\ubc18\\\\uc9dd\\\\uc774\\\\ub294 \\\\ub124\\\\uc624 \\\\ub3c4\\\\ucfc4. \\\\uace0\\\\uce35 \\\\ube4c\\\\ub529\\\\uc774 \\\\ub298\\\\uc5b4\\\\uc11c\\\\uace0, \\\\ub124\\\\uc628\\\\uc0ac\\\\uc778\\\\uc774 \\\\uac70\\\\ub9ac\\\\ub97c \\\\uc218\\\\ub193\\\\ub294\\\\ub2e4. \\\\uadf8 \\\\uac70\\\\ub9ac\\\\uc5d0\\\\uc11c \\\\ube68\\\\uac04 \\\\ub450\\\\uac74\\\\uc744 \\\\uc4f4 \\\\uc18c\\\\ub140 \\\\ubbf8\\\\ucf54\\\\ub294 \\\\ubd88\\\\ubc95 \\\\ub370\\\\uc774\\\\ud130 \\\\uce74\\\\uc6b0\\\\ub9ac\\\\uc544\\\\ub97c \\\\uc6b4\\\\ubc18\\\\ud558\\\\ub294 \\\\ubc30\\\\ub2ec\\\\uc6d0\\\\uc73c\\\\ub85c \\\\uc77c\\\\ud558\\\\uace0 \\\\uc788\\\\uc5c8\\\\ub2e4. \\\\uadf8\\\\ub140\\\\ub294 \\\\uc5b4\\\\uba38\\\\ub2c8\\\\uac00 \\\\ubcd1\\\\uc5d0 \\\\uac78\\\\ub824 \\\\uce58\\\\ub8cc\\\\ube44\\\\ub97c \\\\ubc8c\\\\uae30 \\\\uc704\\\\ud574 \\\\ub370\\\\uc774\\\\ud130\\\\uce74\\\\uc6b0\\\\ub9ac\\\\uc544\\\\uc5d0 \\\\ubab8\\\\uc744 \\\\ub358\\\\uc9c0\\\\uace0 \\\\uc788\\\\uc5c8\\\\ub2e4.  \\\\uadf8\\\\ub7ec\\\\ub358 \\\\uc5b4\\\\ub290 \\\\ub0a0, \\\\ubbf8\\\\ucf54\\\\ub294 \\\\uc911\\\\uc694\\\\ud55c \\\\ub370\\\\uc774\\\\ud130\\\\ub97c \\\\uc6b4\\\\ubc18\\\\ud558\\\\ub294 \\\\uc784\\\\ubb34\\\\ub97c \\\\ub9e1\\\\uac8c \\\\ub41c\\\\ub2e4. \\\\uadf8 \\\\ub370\\\\uc774\\\\ud130\\\\uc5d0\\\\ub294 \\\\uac70\\\\ub300 \\\\uae30\\\\uc5c5 \\'\\\\uc6b8\\\\ud504 \\\\ucf54\\\\ud37c\\\\ub808\\\\uc774\\\\uc158\\'\\\\uc758 \\\\uc2dc\\\\ubbfc\\\\uc5d0 \\\\ub300\\\\ud55c \\\\uc545\\\\ub784\\\\ud55c \\\\uc9c0\\\\ubc30\\\\ub97c \\\\ud3ed\\\\ub85c\\\\ud558\\\\ub294 \\\\uc815\\\\ubcf4\\\\uac00 \\\\ub2f4\\\\uaca8 \\\\uc788\\\\uc5c8\\\\ub2e4. \\\\uadf8\\\\ub140\\\\ub294 \\\\ub370\\\\uc774\\\\ud130\\\\ub97c \\\\ubc1b\\\\uc544 \\\\ubaa9\\\\uc801\\\\uc9c0\\\\ub85c \\\\ud5a5\\\\ud55c\\\\ub2e4. \", \"\\\\uc81c2\\\\uc7a5: \\\\uc6b8\\\\ud504 \\\\ucf54\\\\ud37c\\\\ub808\\\\uc774\\\\uc158\\\\uc758 \\\\ud568\\\\uc815  \\\\ubbf8\\\\ucf54\\\\ub294 \\\\ubaa9\\\\uc801\\\\uc9c0\\\\uc778 \\\\uc220\\\\uc9d1 \\'\\\\ud560\\\\uba38\\\\ub2c8\\\\uc758 \\\\uc9d1\\'\\\\uc73c\\\\ub85c \\\\ud5a5\\\\ud558\\\\ub294 \\\\uae38\\\\uc5d0 \\\\uc6b8\\\\ud504 \\\\ucf54\\\\ud37c\\\\ub808\\\\uc774\\\\uc158\\\\uc758 \\\\uc694\\\\uc6d0\\\\ub4e4\\\\uc5d0\\\\uac8c \\\\ucad3\\\\uae30\\\\uac8c \\\\ub41c\\\\ub2e4. \\\\uadf8\\\\ub4e4\\\\uc740 \\'\\\\ube68\\\\uac04 \\\\ub9dd\\\\ud1a0\\'\\\\ub77c\\\\ub294 \\\\ub370\\\\uc774\\\\ud130 \\\\uce74\\\\uc6b0\\\\ub9ac\\\\uc544\\\\uc5d0 \\\\ub300\\\\ud55c \\\\uc18c\\\\ubb38\\\\uc744 \\\\ub4e3\\\\uace0 \\\\ub370\\\\uc774\\\\ud130\\\\ub97c \\\\ud0c8\\\\ucde8\\\\ud558\\\\ub824 \\\\ud588\\\\ub2e4. \\\\ubbf8\\\\ucf54\\\\ub294 \\\\uad50\\\\ubb18\\\\ud558\\\\uac8c \\\\uc694\\\\uc6d0\\\\ub4e4\\\\uc744 \\\\ud769\\\\ubfcc\\\\ub9ac\\\\uace0 \\\\uc220\\\\uc9d1\\\\uc5d0 \\\\ub3c4\\\\ucc29\\\\ud55c\\\\ub2e4. \", \"\\\\uc81c3\\\\uc7a5: \\\\ubc30\\\\uc2e0\\\\uacfc \\\\uc7ac\\\\ud68c  \\\\uc220\\\\uc9d1 \\'\\\\ud560\\\\uba38\\\\ub2c8\\\\uc758 \\\\uc9d1\\'\\\\uc5d0\\\\uc11c \\\\ubbf8\\\\ucf54\\\\ub294 \\\\ub370\\\\uc774\\\\ud130\\\\ub97c \\\\ubc1b\\\\uc744 \\\\uc0ac\\\\ub78c\\\\uc778 \\\\ub8cc\\\\ub97c \\\\uae30\\\\ub2e4\\\\ub9ac\\\\uace0 \\\\uc788\\\\uc5c8\\\\ub2e4. \\\\ub8cc\\\\ub294 \\\\uadf8\\\\ub140\\\\uc758 \\\\uc5b4\\\\ub9b4 \\\\uc801 \\\\uce5c\\\\uad6c\\\\uc774\\\\uc790 \\\\uadf8 \\\\uc5ed\\\\uc2dc \\\\uc6b8\\\\ud504 \\\\ucf54\\\\ud37c\\\\ub808\\\\uc774\\\\uc158\\\\uacfc \\\\uc2f8\\\\uc6b0\\\\ub294 \\\\ud574\\\\ucee4 \\\\uc9d1\\\\ub2e8\\\\uc758 \\\\uc77c\\\\uc6d0\\\\uc774\\\\uc5c8\\\\ub2e4. \\\\ud558\\\\uc9c0\\\\ub9cc \\\\ub8cc\\\\ub294 \\\\ubbf8\\\\ucf54\\\\uc5d0\\\\uac8c \\\\ubc30\\\\uc2e0\\\\uac10\\\\uc744 \\\\ub290\\\\uaf08\\\\uace0, \\\\uadf8\\\\ub140\\\\uac00 \\\\ub370\\\\uc774\\\\ud130 \\\\uce74\\\\uc6b0\\\\ub9ac\\\\uc544\\\\uc5d0 \\\\ubab8\\\\uc744 \\\\ub358\\\\uc9c4 \\\\uac83\\\\uc5d0 \\\\ud654\\\\uac00 \\\\ub0ac\\\\ub2e4.  \\\\uadf8\\\\ub7fc\\\\uc5d0\\\\ub3c4 \\\\ubd88\\\\uad6c\\\\ud558\\\\uace0 \\\\ubbf8\\\\ucf54\\\\ub294 \\\\ub8cc\\\\uc5d0\\\\uac8c \\\\ub370\\\\uc774\\\\ud130\\\\ub97c \\\\uac74\\\\ub124\\\\uba70 \\\\uc6b8\\\\ud504 \\\\ucf54\\\\ud37c\\\\ub808\\\\uc774\\\\uc158\\\\uc5d0 \\\\ub300\\\\ud55c \\\\ubc18\\\\uaca9\\\\uc744 \\\\ubbff\\\\uae30\\\\ub85c \\\\ud55c\\\\ub2e4. \\\\ub450 \\\\uc0ac\\\\ub78c\\\\uc740 \\\\ud568\\\\uaed8 \\\\uc6b8\\\\ud504 \\\\ucf54\\\\ud37c\\\\ub808\\\\uc774\\\\uc158\\\\uc758 \\\\uc74c\\\\ubaa8\\\\ub97c \\\\ubc1d\\\\ud600\\\\ub0b4\\\\uace0 \\\\uc2dc\\\\ubbfc\\\\ub4e4\\\\uc744 \\\\uad6c\\\\ud558\\\\uae30\\\\ub85c \\\\uacb0\\\\uc2ec\\\\ud55c\\\\ub2e4. \", \"\\\\uc81c4\\\\uc7a5: \\\\uc6b8\\\\ud504 \\\\ucf54\\\\ud37c\\\\ub808\\\\uc774\\\\uc158\\\\uc758 \\\\ubd95\\\\uad34  \\\\ubbf8\\\\ucf54\\\\uc640 \\\\ub8cc\\\\ub294 \\\\ud574\\\\ucee4 \\\\uc9d1\\\\ub2e8\\\\uacfc \\\\ud568\\\\uaed8 \\\\uc6b8\\\\ud504 \\\\ucf54\\\\ud37c\\\\ub808\\\\uc774\\\\uc158\\\\uc5d0 \\\\ub300\\\\ud55c \\\\ucd5c\\\\ud6c4\\\\uc758 \\\\uacb0\\\\uc804\\\\uc744 \\\\ubc8c\\\\uc778\\\\ub2e4. \\\\ub2a5\\\\uc219\\\\ud55c \\\\ud574\\\\ud0b9 \\\\uae30\\\\uc220\\\\uacfc \\\\uc2e0\\\\uccb4 \\\\ub2a5\\\\ub825\\\\uc73c\\\\ub85c \\\\uadf8\\\\ub4e4\\\\uc740 \\\\uc6b8\\\\ud504 \\\\ucf54\\\\ud37c\\\\ub808\\\\uc774\\\\uc158\\\\uc758 \\\\ubcf4\\\\uc548\\\\uc744 \\\\ucc28\\\\ub840\\\\ub85c \\\\ub6ab\\\\uc5b4 \\\\ub098\\\\uac04\\\\ub2e4. \\\\uadf8 \\\\uacfc\\\\uc815\\\\uc5d0\\\\uc11c \\\\ubbf8\\\\ucf54\\\\ub294 \\\\uc6b8\\\\ud504 \\\\ucf54\\\\ud37c\\\\ub808\\\\uc774\\\\uc158\\\\uc774 \\\\uc5b4\\\\uba38\\\\ub2c8\\\\uc758 \\\\ubcd1\\\\uc5d0 \\\\uad00\\\\uc5ec\\\\ud558\\\\uace0 \\\\uc788\\\\ub2e4\\\\ub294 \\\\uc0ac\\\\uc2e4\\\\uc744 \\\\uc54c\\\\uac8c \\\\ub41c\\\\ub2e4. \\\\uadf8\\\\ub140\\\\ub294 \\\\ubd84\\\\ub178\\\\uc5d0 \\\\ud729\\\\uc2f8\\\\uc5ec \\\\uc6b8\\\\ud504\\\\ucf54\\\\ud37c\\\\ub808\\\\uc774\\\\uc158\\\\uc5d0 \\\\ub300\\\\ud55c \\\\ubcf5\\\\uc218\\\\ub97c \\\\ub2e4\\\\uc9d0\\\\ud55c\\\\ub2e4. \", \"\\\\uc81c5\\\\uc7a5: \\\\uacb0\\\\uc804\\\\uc758 \\\\uc21c\\\\uac04  \\\\ubbf8\\\\ucf54\\\\uc640 \\\\ub8cc\\\\ub294 \\\\ub9c8\\\\uce68\\\\ub0b4 \\\\uc6b8\\\\ud504 \\\\ucf54\\\\ud37c\\\\ub808\\\\uc774\\\\uc158\\\\uc758 \\\\ucd5c\\\\uc0c1\\\\uce35\\\\uc5d0 \\\\ub3c4\\\\ucc29\\\\ud574 CEO\\\\uc778 \\\\uad50\\\\ud65c\\\\ud55c \\\\uc6b8\\\\ud504 \\\\ubc15\\\\uc0ac\\\\uc640 \\\\ub300\\\\uba74\\\\ud55c\\\\ub2e4. \\\\uc6b8\\\\ud504 \\\\ubc15\\\\uc0ac\\\\ub294 \\\\uc2dc\\\\ubbfc\\\\uc744 \\\\uc9c0\\\\ubc30\\\\ud558\\\\ub824\\\\ub294 \\\\uc0ac\\\\uc545\\\\ud55c \\\\uc57c\\\\ub9dd\\\\uc744 \\\\ub4dc\\\\ub7ec\\\\ub0b4\\\\uba70 \\\\uc790\\\\uc2e0\\\\uc758 \\\\uc555\\\\ub3c4\\\\uc801\\\\uc778 \\\\ud798\\\\uc744 \\\\uacfc\\\\uc2dc\\\\ud55c\\\\ub2e4. \\\\ud558\\\\uc9c0\\\\ub9cc \\\\ubbf8\\\\ucf54\\\\uc640 \\\\ub8cc\\\\ub294 \\\\uc11c\\\\ub85c\\\\ub97c \\\\ub3c4\\\\uc640\\\\uac00\\\\uba70 \\\\uc6b8\\\\ud504 \\\\ubc15\\\\uc0ac\\\\uc640 \\\\uc2f8\\\\uc6b0\\\\uace0 \\\\uadf8\\\\uc758 \\\\uc57d\\\\uc810\\\\uc744 \\\\ucc3e\\\\uc544\\\\ub0b8\\\\ub2e4. \", \"\\\\uc81c6\\\\uc7a5: \\\\uc9c4\\\\uc2e4\\\\uc758 \\\\ud574\\\\ubc29  \\\\ubbf8\\\\ucf54\\\\ub294 \\\\uc6b8\\\\ud504 \\\\ubc15\\\\uc0ac\\\\uc758 \\\\uc57d\\\\uc810\\\\uc744 \\\\ud30c\\\\uace0\\\\ub4e4\\\\uc5b4 \\\\uadf8\\\\ub97c \\\\uc4f0\\\\ub7ec\\\\ub728\\\\ub9ac\\\\ub294\\\\ub370 \\\\uc131\\\\uacf5\\\\ud55c\\\\ub2e4. \\\\uadf8\\\\ub9ac\\\\uace0 \\\\ud574\\\\ucee4 \\\\uc9d1\\\\ub2e8\\\\uacfc \\\\ud568\\\\uaed8 \\\\uc6b8\\\\ud504 \\\\ucf54\\\\ud37c\\\\ub808\\\\uc774\\\\uc158\\\\uc758 \\\\uc545\\\\ud589\\\\uc744 \\\\uc138\\\\uc0c1\\\\uc5d0 \\\\uacf5\\\\uac1c\\\\ud558\\\\uace0 \\\\uc2dc\\\\ubbfc\\\\ub4e4\\\\uc744 \\\\ud574\\\\ubc29\\\\uc2dc\\\\ud0a8\\\\ub2e4. \\\\uc774 \\\\uc2b9\\\\ub9ac\\\\ub85c \\\\ubbf8\\\\ucf54\\\\uc758 \\\\uc5b4\\\\uba38\\\\ub2c8\\\\uc758 \\\\uce58\\\\ub8cc\\\\ubc95\\\\ub3c4 \\\\ucc3e\\\\uc544\\\\ub0b4\\\\uace0, \\\\uadf8\\\\ub140\\\\uc758 \\\\ubcd1\\\\uc740 \\\\uc644\\\\uce58\\\\ub41c\\\\ub2e4. \", \"\\\\uc81c7\\\\uc7a5: \\\\uc0c8\\\\ub85c\\\\uc6b4 \\\\uc2dc\\\\uc791  \\\\uc6b8\\\\ud504 \\\\ucf54\\\\ud37c\\\\ub808\\\\uc774\\\\uc158\\\\uc774 \\\\ubb34\\\\ub108\\\\uc9c4 \\\\ud6c4, \\\\ubbf8\\\\ucf54\\\\uc640 \\\\ub8cc\\\\ub294 \\\\uc11c\\\\ub85c\\\\uc758 \\\\uacfc\\\\uac70\\\\ub97c \\\\uc6a9\\\\uc11c\\\\ud558\\\\uace0 \\\\ub2e4\\\\uc2dc \\\\uc6b0\\\\uc815\\\\uc744 \\\\ud68c\\\\ubcf5\\\\ud55c\\\\ub2e4. \\\\ubbf8\\\\ucf54\\\\ub294 \\\\ub370\\\\uc774\\\\ud130\\\\uce74\\\\uc6b0\\\\ub9ac\\\\uc544\\\\ub97c \\\\uadf8\\\\ub9cc\\\\ub450\\\\uace0 \\\\ub8cc\\\\uc640 \\\\ud568\\\\uaed8 \\\\uc0c8\\\\ub85c\\\\uc6b4 \\\\uae38\\\\uc744 \\\\uac77\\\\uae30 \\\\uc2dc\\\\uc791\\\\ud55c\\\\ub2e4. \\\\uadf8\\\\ub4e4\\\\uc740 \\\\uc2a4\\\\uc2a4\\\\ub85c\\\\uc758 \\\\ud798\\\\uc73c\\\\ub85c \\\\ubbf8\\\\ub798\\\\uc758 \\\\ub124\\\\uc624 \\\\ub3c4\\\\ucfc4\\\\ub97c \\\\ub354 \\\\ub098\\\\uc740 \\\\ub3c4\\\\uc2dc\\\\ub85c \\\\ubc14\\\\uafb8\\\\uc5b4 \\\\ub098\\\\uac08 \\\\uac83\\\\uc744 \\\\ub2e4\\\\uc9d0\\\\ud55c\\\\ub2e4. \\\\uc774\\\\uac83\\\\uc740 \\\\ubbf8\\\\ucf54\\\\uc640 \\\\ub8cc, \\\\uadf8\\\\ub9ac\\\\uace0 \\\\uc804\\\\ub1cc \\\\ube68\\\\uac04 \\\\ub9dd\\\\ud1a0\\\\uc758 \\\\uc0c8\\\\ub85c\\\\uc6b4 \\\\ubaa8\\\\ud5d8\\\\uc758 \\\\uc2dc\\\\uc791\\\\uc774\\\\uc5c8\\\\ub2e4. \"], \"model\": \"text-embedding-ada-002\", \"encoding_format\": \"base64\"}' message='Post details'\n"
     ]
    },
    {
     "name": "stdout",
     "output_type": "stream",
     "text": [
      "DEBUG:openai:message='OpenAI API response' path=https://api.openai.com/v1/embeddings processing_ms=36 request_id=36047b4ea6eb0dfb0c1c795d08ff4827 response_code=200\n",
      "INFO:llama_index.token_counter.token_counter:> [build_index_from_nodes] Total LLM token usage: 0 tokens\n",
      "INFO:llama_index.token_counter.token_counter:> [build_index_from_nodes] Total embedding token usage: 2888 tokens\n"
     ]
    }
   ],
   "source": [
    "from llama_index import GPTVectorStoreIndex, StorageContext\n",
    "from llama_index.vector_stores.pinecone import PineconeVectorStore\n",
    "\n",
    "# 인덱스 생성\n",
    "vector_store = PineconeVectorStore(pinecone_index=pinecone_index)\n",
    "storage_context = StorageContext.from_defaults(vector_store=vector_store)\n",
    "index = GPTVectorStoreIndex.from_documents(\n",
    "    documents, \n",
    "    storage_context=storage_context\n",
    ")"
   ]
  },
  {
   "cell_type": "code",
   "execution_count": 14,
   "metadata": {
    "id": "iYOxqmiEJxDj"
   },
   "outputs": [],
   "source": [
    "# 쿼리 엔진 생성\n",
    "query_engine = index.as_query_engine()"
   ]
  },
  {
   "cell_type": "code",
   "execution_count": 15,
   "metadata": {
    "id": "3rfcY_FPF4JB"
   },
   "outputs": [
    {
     "name": "stdout",
     "output_type": "stream",
     "text": [
      "DEBUG:openai:message='Request to OpenAI API' method=post path=https://api.openai.com/v1/embeddings\n",
      "DEBUG:openai:api_version=None data='{\"input\": [\"\\\\ubbf8\\\\ucf54\\\\uc758 \\\\uc18c\\\\uafc9\\\\uce5c\\\\uad6c \\\\uc774\\\\ub984\\\\uc740?\"], \"model\": \"text-embedding-ada-002\", \"encoding_format\": \"base64\"}' message='Post details'\n",
      "DEBUG:openai:message='OpenAI API response' path=https://api.openai.com/v1/embeddings processing_ms=318 request_id=dbff070d27a230ec298417180f6b8d6e response_code=200\n",
      "DEBUG:llama_index.indices.utils:> Top 2 nodes:\n",
      "> [Node a193cf2b-be53-438e-b121-b57eded478bd] [Similarity score:             0.831997] 제5장: 결전의 순간\n",
      "\n",
      "미코와 료는 마침내 울프 코퍼레이션의 최상층에 도착해 CEO인 교활한 울프 박사와 대면한다. 울프 박사는 시민을 지배하려는 사악한 야망을 드러내며 자신...\n",
      "> [Node 58cbd934-4340-4927-bcb3-654e7c8c0325] [Similarity score:             0.828237] 제3장: 배신과 재회\n",
      "\n",
      "술집 '할머니의 집'에서 미코는 데이터를 받을 사람인 료를 기다리고 있었다. 료는 그녀의 어릴 적 친구이자 그 역시 울프 코퍼레이션과 싸우는 해커 집단...\n",
      "INFO:llama_index.token_counter.token_counter:> [retrieve] Total LLM token usage: 0 tokens\n",
      "INFO:llama_index.token_counter.token_counter:> [retrieve] Total embedding token usage: 29 tokens\n",
      "DEBUG:openai:message='Request to OpenAI API' method=post path=https://api.openai.com/v1/completions\n",
      "DEBUG:openai:api_version=None data='{\"prompt\": [\"Context information is below. \\\\n---------------------\\\\n\\\\uc81c5\\\\uc7a5: \\\\uacb0\\\\uc804\\\\uc758 \\\\uc21c\\\\uac04\\\\n\\\\n\\\\ubbf8\\\\ucf54\\\\uc640 \\\\ub8cc\\\\ub294 \\\\ub9c8\\\\uce68\\\\ub0b4 \\\\uc6b8\\\\ud504 \\\\ucf54\\\\ud37c\\\\ub808\\\\uc774\\\\uc158\\\\uc758 \\\\ucd5c\\\\uc0c1\\\\uce35\\\\uc5d0 \\\\ub3c4\\\\ucc29\\\\ud574 CEO\\\\uc778 \\\\uad50\\\\ud65c\\\\ud55c \\\\uc6b8\\\\ud504 \\\\ubc15\\\\uc0ac\\\\uc640 \\\\ub300\\\\uba74\\\\ud55c\\\\ub2e4. \\\\uc6b8\\\\ud504 \\\\ubc15\\\\uc0ac\\\\ub294 \\\\uc2dc\\\\ubbfc\\\\uc744 \\\\uc9c0\\\\ubc30\\\\ud558\\\\ub824\\\\ub294 \\\\uc0ac\\\\uc545\\\\ud55c \\\\uc57c\\\\ub9dd\\\\uc744 \\\\ub4dc\\\\ub7ec\\\\ub0b4\\\\uba70 \\\\uc790\\\\uc2e0\\\\uc758 \\\\uc555\\\\ub3c4\\\\uc801\\\\uc778 \\\\ud798\\\\uc744 \\\\uacfc\\\\uc2dc\\\\ud55c\\\\ub2e4. \\\\ud558\\\\uc9c0\\\\ub9cc \\\\ubbf8\\\\ucf54\\\\uc640 \\\\ub8cc\\\\ub294 \\\\uc11c\\\\ub85c\\\\ub97c \\\\ub3c4\\\\uc640\\\\uac00\\\\uba70 \\\\uc6b8\\\\ud504 \\\\ubc15\\\\uc0ac\\\\uc640 \\\\uc2f8\\\\uc6b0\\\\uace0 \\\\uadf8\\\\uc758 \\\\uc57d\\\\uc810\\\\uc744 \\\\ucc3e\\\\uc544\\\\ub0b8\\\\ub2e4.\\\\n\\\\n\\\\uc81c3\\\\uc7a5: \\\\ubc30\\\\uc2e0\\\\uacfc \\\\uc7ac\\\\ud68c\\\\n\\\\n\\\\uc220\\\\uc9d1 \\'\\\\ud560\\\\uba38\\\\ub2c8\\\\uc758 \\\\uc9d1\\'\\\\uc5d0\\\\uc11c \\\\ubbf8\\\\ucf54\\\\ub294 \\\\ub370\\\\uc774\\\\ud130\\\\ub97c \\\\ubc1b\\\\uc744 \\\\uc0ac\\\\ub78c\\\\uc778 \\\\ub8cc\\\\ub97c \\\\uae30\\\\ub2e4\\\\ub9ac\\\\uace0 \\\\uc788\\\\uc5c8\\\\ub2e4. \\\\ub8cc\\\\ub294 \\\\uadf8\\\\ub140\\\\uc758 \\\\uc5b4\\\\ub9b4 \\\\uc801 \\\\uce5c\\\\uad6c\\\\uc774\\\\uc790 \\\\uadf8 \\\\uc5ed\\\\uc2dc \\\\uc6b8\\\\ud504 \\\\ucf54\\\\ud37c\\\\ub808\\\\uc774\\\\uc158\\\\uacfc \\\\uc2f8\\\\uc6b0\\\\ub294 \\\\ud574\\\\ucee4 \\\\uc9d1\\\\ub2e8\\\\uc758 \\\\uc77c\\\\uc6d0\\\\uc774\\\\uc5c8\\\\ub2e4. \\\\ud558\\\\uc9c0\\\\ub9cc \\\\ub8cc\\\\ub294 \\\\ubbf8\\\\ucf54\\\\uc5d0\\\\uac8c \\\\ubc30\\\\uc2e0\\\\uac10\\\\uc744 \\\\ub290\\\\uaf08\\\\uace0, \\\\uadf8\\\\ub140\\\\uac00 \\\\ub370\\\\uc774\\\\ud130 \\\\uce74\\\\uc6b0\\\\ub9ac\\\\uc544\\\\uc5d0 \\\\ubab8\\\\uc744 \\\\ub358\\\\uc9c4 \\\\uac83\\\\uc5d0 \\\\ud654\\\\uac00 \\\\ub0ac\\\\ub2e4.\\\\n\\\\n\\\\uadf8\\\\ub7fc\\\\uc5d0\\\\ub3c4 \\\\ubd88\\\\uad6c\\\\ud558\\\\uace0 \\\\ubbf8\\\\ucf54\\\\ub294 \\\\ub8cc\\\\uc5d0\\\\uac8c \\\\ub370\\\\uc774\\\\ud130\\\\ub97c \\\\uac74\\\\ub124\\\\uba70 \\\\uc6b8\\\\ud504 \\\\ucf54\\\\ud37c\\\\ub808\\\\uc774\\\\uc158\\\\uc5d0 \\\\ub300\\\\ud55c \\\\ubc18\\\\uaca9\\\\uc744 \\\\ubbff\\\\uae30\\\\ub85c \\\\ud55c\\\\ub2e4. \\\\ub450 \\\\uc0ac\\\\ub78c\\\\uc740 \\\\ud568\\\\uaed8 \\\\uc6b8\\\\ud504 \\\\ucf54\\\\ud37c\\\\ub808\\\\uc774\\\\uc158\\\\uc758 \\\\uc74c\\\\ubaa8\\\\ub97c \\\\ubc1d\\\\ud600\\\\ub0b4\\\\uace0 \\\\uc2dc\\\\ubbfc\\\\ub4e4\\\\uc744 \\\\uad6c\\\\ud558\\\\uae30\\\\ub85c \\\\uacb0\\\\uc2ec\\\\ud55c\\\\ub2e4.\\\\n---------------------\\\\nGiven the context information and not prior knowledge, answer the question: \\\\ubbf8\\\\ucf54\\\\uc758 \\\\uc18c\\\\uafc9\\\\uce5c\\\\uad6c \\\\uc774\\\\ub984\\\\uc740?\\\\n\"], \"model\": \"text-davinci-003\", \"temperature\": 0.0, \"max_tokens\": 256, \"top_p\": 1, \"frequency_penalty\": 0, \"presence_penalty\": 0, \"n\": 1, \"logit_bias\": {}}' message='Post details'\n",
      "DEBUG:openai:message='OpenAI API response' path=https://api.openai.com/v1/completions processing_ms=761 request_id=ad778995cefc9175ee316e476538c1b8 response_code=200\n",
      "DEBUG:llama_index.llm_predictor.base:\n",
      "료.\n",
      "DEBUG:llama_index.indices.response.base_builder:> Initial prompt template: Context information is below. \n",
      "---------------------\n",
      "제5장: 결전의 순간\n",
      "\n",
      "미코와 료는 마침내 울프 코퍼레이션의 최상층에 도착해 CEO인 교활한 울프 박사와 대면한다. 울프 박사는 시민을 지배하려는 사악한 야망을 드러내며 자신의 압도적인 힘을 과시한다. 하지만 미코와 료는 서로를 도와가며 울프 박사와 싸우고 그의 약점을 찾아낸다.\n",
      "\n",
      "제3장: 배신과 재회\n",
      "\n",
      "술집 '할머니의 집'에서 미코는 데이터를 받을 사람인 료를 기다리고 있었다. 료는 그녀의 어릴 적 친구이자 그 역시 울프 코퍼레이션과 싸우는 해커 집단의 일원이었다. 하지만 료는 미코에게 배신감을 느꼈고, 그녀가 데이터 카우리아에 몸을 던진 것에 화가 났다.\n",
      "\n",
      "그럼에도 불구하고 미코는 료에게 데이터를 건네며 울프 코퍼레이션에 대한 반격을 믿기로 한다. 두 사람은 함께 울프 코퍼레이션의 음모를 밝혀내고 시민들을 구하기로 결심한다.\n",
      "---------------------\n",
      "Given the context information and not prior knowledge, answer the question: 미코의 소꿉친구 이름은?\n",
      "\n",
      "DEBUG:llama_index.indices.response.base_builder:> Initial response: \n",
      "료.\n",
      "INFO:llama_index.token_counter.token_counter:> [get_response] Total LLM token usage: 920 tokens\n",
      "INFO:llama_index.token_counter.token_counter:> [get_response] Total embedding token usage: 0 tokens\n",
      "\n",
      "료.\n"
     ]
    }
   ],
   "source": [
    "# 질의응답\n",
    "print(query_engine.query(\"미코의 소꿉친구 이름은?\"))"
   ]
  },
  {
   "cell_type": "code",
   "execution_count": null,
   "metadata": {},
   "outputs": [],
   "source": []
  }
 ],
 "metadata": {
  "colab": {
   "authorship_tag": "ABX9TyMuLg5tEIiK8boUUsgfMd6U",
   "provenance": []
  },
  "kernelspec": {
   "display_name": "Python 3 (ipykernel)",
   "language": "python",
   "name": "python3"
  },
  "language_info": {
   "codemirror_mode": {
    "name": "ipython",
    "version": 3
   },
   "file_extension": ".py",
   "mimetype": "text/x-python",
   "name": "python",
   "nbconvert_exporter": "python",
   "pygments_lexer": "ipython3",
   "version": "3.11.4"
  }
 },
 "nbformat": 4,
 "nbformat_minor": 1
}
