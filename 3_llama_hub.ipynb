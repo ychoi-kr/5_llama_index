{
 "cells": [
  {
   "cell_type": "markdown",
   "metadata": {
    "id": "Qf_XcjXD89hw"
   },
   "source": [
    "# LlamaIndex의 사전 준비"
   ]
  },
  {
   "cell_type": "code",
   "execution_count": 1,
   "metadata": {
    "id": "mkPbwp6-ploX"
   },
   "outputs": [
    {
     "name": "stdout",
     "output_type": "stream",
     "text": [
      "Requirement already satisfied: llama-index==0.6.12 in c:\\users\\yong\\anaconda3\\envs\\llamaindex\\lib\\site-packages (0.6.12)\n",
      "Requirement already satisfied: dataclasses-json in c:\\users\\yong\\anaconda3\\envs\\llamaindex\\lib\\site-packages (from llama-index==0.6.12) (0.5.13)\n",
      "Requirement already satisfied: langchain>=0.0.154 in c:\\users\\yong\\anaconda3\\envs\\llamaindex\\lib\\site-packages (from llama-index==0.6.12) (0.0.238)\n",
      "Requirement already satisfied: sqlalchemy>=2.0.15 in c:\\users\\yong\\anaconda3\\envs\\llamaindex\\lib\\site-packages (from llama-index==0.6.12) (2.0.19)\n",
      "Requirement already satisfied: numpy in c:\\users\\yong\\anaconda3\\envs\\llamaindex\\lib\\site-packages (from llama-index==0.6.12) (1.25.1)\n",
      "Requirement already satisfied: tenacity<9.0.0,>=8.2.0 in c:\\users\\yong\\anaconda3\\envs\\llamaindex\\lib\\site-packages (from llama-index==0.6.12) (8.2.2)\n",
      "Requirement already satisfied: openai>=0.26.4 in c:\\users\\yong\\anaconda3\\envs\\llamaindex\\lib\\site-packages (from llama-index==0.6.12) (0.27.8)\n",
      "Requirement already satisfied: pandas in c:\\users\\yong\\anaconda3\\envs\\llamaindex\\lib\\site-packages (from llama-index==0.6.12) (2.0.3)\n",
      "Requirement already satisfied: urllib3<2 in c:\\users\\yong\\anaconda3\\envs\\llamaindex\\lib\\site-packages (from llama-index==0.6.12) (1.26.16)\n",
      "Requirement already satisfied: fsspec>=2023.5.0 in c:\\users\\yong\\anaconda3\\envs\\llamaindex\\lib\\site-packages (from llama-index==0.6.12) (2023.6.0)\n",
      "Requirement already satisfied: typing-inspect==0.8.0 in c:\\users\\yong\\anaconda3\\envs\\llamaindex\\lib\\site-packages (from llama-index==0.6.12) (0.8.0)\n",
      "Requirement already satisfied: typing-extensions==4.5.0 in c:\\users\\yong\\anaconda3\\envs\\llamaindex\\lib\\site-packages (from llama-index==0.6.12) (4.5.0)\n",
      "Requirement already satisfied: tiktoken in c:\\users\\yong\\anaconda3\\envs\\llamaindex\\lib\\site-packages (from llama-index==0.6.12) (0.4.0)\n",
      "Requirement already satisfied: mypy-extensions>=0.3.0 in c:\\users\\yong\\anaconda3\\envs\\llamaindex\\lib\\site-packages (from typing-inspect==0.8.0->llama-index==0.6.12) (1.0.0)\n",
      "Requirement already satisfied: PyYAML>=5.4.1 in c:\\users\\yong\\anaconda3\\envs\\llamaindex\\lib\\site-packages (from langchain>=0.0.154->llama-index==0.6.12) (6.0)\n",
      "Requirement already satisfied: aiohttp<4.0.0,>=3.8.3 in c:\\users\\yong\\anaconda3\\envs\\llamaindex\\lib\\site-packages (from langchain>=0.0.154->llama-index==0.6.12) (3.8.5)\n",
      "Requirement already satisfied: langsmith<0.1.0,>=0.0.11 in c:\\users\\yong\\anaconda3\\envs\\llamaindex\\lib\\site-packages (from langchain>=0.0.154->llama-index==0.6.12) (0.0.12)\n",
      "Requirement already satisfied: numexpr<3.0.0,>=2.8.4 in c:\\users\\yong\\anaconda3\\envs\\llamaindex\\lib\\site-packages (from langchain>=0.0.154->llama-index==0.6.12) (2.8.4)\n",
      "Requirement already satisfied: openapi-schema-pydantic<2.0,>=1.2 in c:\\users\\yong\\anaconda3\\envs\\llamaindex\\lib\\site-packages (from langchain>=0.0.154->llama-index==0.6.12) (1.2.4)\n",
      "Requirement already satisfied: pydantic<2,>=1 in c:\\users\\yong\\anaconda3\\envs\\llamaindex\\lib\\site-packages (from langchain>=0.0.154->llama-index==0.6.12) (1.10.11)\n",
      "Requirement already satisfied: requests<3,>=2 in c:\\users\\yong\\anaconda3\\envs\\llamaindex\\lib\\site-packages (from langchain>=0.0.154->llama-index==0.6.12) (2.29.0)\n",
      "Requirement already satisfied: marshmallow<4.0.0,>=3.18.0 in c:\\users\\yong\\anaconda3\\envs\\llamaindex\\lib\\site-packages (from dataclasses-json->llama-index==0.6.12) (3.20.1)\n",
      "Requirement already satisfied: tqdm in c:\\users\\yong\\anaconda3\\envs\\llamaindex\\lib\\site-packages (from openai>=0.26.4->llama-index==0.6.12) (4.65.0)\n",
      "Requirement already satisfied: greenlet!=0.4.17 in c:\\users\\yong\\anaconda3\\envs\\llamaindex\\lib\\site-packages (from sqlalchemy>=2.0.15->llama-index==0.6.12) (2.0.2)\n",
      "Requirement already satisfied: python-dateutil>=2.8.2 in c:\\users\\yong\\anaconda3\\envs\\llamaindex\\lib\\site-packages (from pandas->llama-index==0.6.12) (2.8.2)\n",
      "Requirement already satisfied: pytz>=2020.1 in c:\\users\\yong\\anaconda3\\envs\\llamaindex\\lib\\site-packages (from pandas->llama-index==0.6.12) (2022.7)\n",
      "Requirement already satisfied: tzdata>=2022.1 in c:\\users\\yong\\anaconda3\\envs\\llamaindex\\lib\\site-packages (from pandas->llama-index==0.6.12) (2023.3)\n",
      "Requirement already satisfied: regex>=2022.1.18 in c:\\users\\yong\\anaconda3\\envs\\llamaindex\\lib\\site-packages (from tiktoken->llama-index==0.6.12) (2023.6.3)\n",
      "Requirement already satisfied: attrs>=17.3.0 in c:\\users\\yong\\anaconda3\\envs\\llamaindex\\lib\\site-packages (from aiohttp<4.0.0,>=3.8.3->langchain>=0.0.154->llama-index==0.6.12) (22.1.0)\n",
      "Requirement already satisfied: charset-normalizer<4.0,>=2.0 in c:\\users\\yong\\anaconda3\\envs\\llamaindex\\lib\\site-packages (from aiohttp<4.0.0,>=3.8.3->langchain>=0.0.154->llama-index==0.6.12) (2.0.4)\n",
      "Requirement already satisfied: multidict<7.0,>=4.5 in c:\\users\\yong\\anaconda3\\envs\\llamaindex\\lib\\site-packages (from aiohttp<4.0.0,>=3.8.3->langchain>=0.0.154->llama-index==0.6.12) (6.0.4)\n",
      "Requirement already satisfied: async-timeout<5.0,>=4.0.0a3 in c:\\users\\yong\\anaconda3\\envs\\llamaindex\\lib\\site-packages (from aiohttp<4.0.0,>=3.8.3->langchain>=0.0.154->llama-index==0.6.12) (4.0.2)\n",
      "Requirement already satisfied: yarl<2.0,>=1.0 in c:\\users\\yong\\anaconda3\\envs\\llamaindex\\lib\\site-packages (from aiohttp<4.0.0,>=3.8.3->langchain>=0.0.154->llama-index==0.6.12) (1.9.2)\n",
      "Requirement already satisfied: frozenlist>=1.1.1 in c:\\users\\yong\\anaconda3\\envs\\llamaindex\\lib\\site-packages (from aiohttp<4.0.0,>=3.8.3->langchain>=0.0.154->llama-index==0.6.12) (1.4.0)\n",
      "Requirement already satisfied: aiosignal>=1.1.2 in c:\\users\\yong\\anaconda3\\envs\\llamaindex\\lib\\site-packages (from aiohttp<4.0.0,>=3.8.3->langchain>=0.0.154->llama-index==0.6.12) (1.3.1)\n",
      "Requirement already satisfied: packaging>=17.0 in c:\\users\\yong\\anaconda3\\envs\\llamaindex\\lib\\site-packages (from marshmallow<4.0.0,>=3.18.0->dataclasses-json->llama-index==0.6.12) (23.0)\n",
      "Requirement already satisfied: six>=1.5 in c:\\users\\yong\\anaconda3\\envs\\llamaindex\\lib\\site-packages (from python-dateutil>=2.8.2->pandas->llama-index==0.6.12) (1.16.0)\n",
      "Requirement already satisfied: idna<4,>=2.5 in c:\\users\\yong\\anaconda3\\envs\\llamaindex\\lib\\site-packages (from requests<3,>=2->langchain>=0.0.154->llama-index==0.6.12) (3.4)\n",
      "Requirement already satisfied: certifi>=2017.4.17 in c:\\users\\yong\\anaconda3\\envs\\llamaindex\\lib\\site-packages (from requests<3,>=2->langchain>=0.0.154->llama-index==0.6.12) (2023.5.7)\n",
      "Requirement already satisfied: colorama in c:\\users\\yong\\anaconda3\\envs\\llamaindex\\lib\\site-packages (from tqdm->openai>=0.26.4->llama-index==0.6.12) (0.4.6)\n"
     ]
    }
   ],
   "source": [
    "# 패키지 설치\n",
    "!pip install llama-index==0.6.12"
   ]
  },
  {
   "cell_type": "code",
   "execution_count": 2,
   "metadata": {
    "id": "_Gf8Rfw2MiG_"
   },
   "outputs": [],
   "source": [
    "# 환경 변수 준비\n",
    "import os\n",
    "os.environ[\"OPENAI_API_KEY\"] = \"<OpenAI_API의_API_키>\""
   ]
  },
  {
   "cell_type": "code",
   "execution_count": 3,
   "metadata": {
    "id": "g9Nyr59eqRUh"
   },
   "outputs": [],
   "source": [
    "import logging\n",
    "import sys\n",
    "\n",
    "# 로그 레벨 설정\n",
    "logging.basicConfig(stream=sys.stdout, level=logging.DEBUG, force=True)"
   ]
  },
  {
   "cell_type": "markdown",
   "metadata": {
    "id": "Gi1fnUzvgf_c"
   },
   "source": [
    "# 웹페이지에 대한 질문과 답변"
   ]
  },
  {
   "cell_type": "code",
   "execution_count": 4,
   "metadata": {
    "id": "0PZubJiMgvDu"
   },
   "outputs": [
    {
     "name": "stdout",
     "output_type": "stream",
     "text": [
      "INFO:numexpr.utils:Note: NumExpr detected 20 cores but \"NUMEXPR_MAX_THREADS\" not set, so enforcing safe limit of 8.\n",
      "INFO:numexpr.utils:NumExpr defaulting to 8 threads.\n",
      "DEBUG:urllib3.connectionpool:Starting new HTTPS connection (1): raw.githubusercontent.com:443\n",
      "DEBUG:urllib3.connectionpool:https://raw.githubusercontent.com:443 \"GET /emptycrown/loader-hub/main/loader_hub/library.json HTTP/1.1\" 404 14\n"
     ]
    },
    {
     "ename": "JSONDecodeError",
     "evalue": "Extra data: line 1 column 4 (char 3)",
     "output_type": "error",
     "traceback": [
      "\u001b[1;31m---------------------------------------------------------------------------\u001b[0m",
      "\u001b[1;31mJSONDecodeError\u001b[0m                           Traceback (most recent call last)",
      "Cell \u001b[1;32mIn[4], line 4\u001b[0m\n\u001b[0;32m      1\u001b[0m \u001b[38;5;28;01mfrom\u001b[39;00m \u001b[38;5;21;01mllama_index\u001b[39;00m \u001b[38;5;28;01mimport\u001b[39;00m download_loader\n\u001b[0;32m      3\u001b[0m \u001b[38;5;66;03m# 문서 불러오기\u001b[39;00m\n\u001b[1;32m----> 4\u001b[0m BeautifulSoupWebReader \u001b[38;5;241m=\u001b[39m download_loader(\u001b[38;5;124m\"\u001b[39m\u001b[38;5;124mBeautifulSoupWebReader\u001b[39m\u001b[38;5;124m\"\u001b[39m)\n\u001b[0;32m      5\u001b[0m loader \u001b[38;5;241m=\u001b[39m BeautifulSoupWebReader()\n\u001b[0;32m      6\u001b[0m documents \u001b[38;5;241m=\u001b[39m loader\u001b[38;5;241m.\u001b[39mload_data(urls\u001b[38;5;241m=\u001b[39m[\u001b[38;5;124m\"\u001b[39m\u001b[38;5;124mhttps://openai.com/blog/planning-for-agi-and-beyond\u001b[39m\u001b[38;5;124m\"\u001b[39m])\n",
      "File \u001b[1;32m~\\anaconda3\\envs\\llamaindex\\Lib\\site-packages\\llama_index\\readers\\download.py:133\u001b[0m, in \u001b[0;36mdownload_loader\u001b[1;34m(loader_class, loader_hub_url, refresh_cache, use_gpt_index_import, custom_path)\u001b[0m\n\u001b[0;32m    131\u001b[0m \u001b[38;5;28;01mif\u001b[39;00m loader_id \u001b[38;5;129;01mis\u001b[39;00m \u001b[38;5;28;01mNone\u001b[39;00m:\n\u001b[0;32m    132\u001b[0m     library_raw_content, _ \u001b[38;5;241m=\u001b[39m _get_file_content(loader_hub_url, \u001b[38;5;124m\"\u001b[39m\u001b[38;5;124m/library.json\u001b[39m\u001b[38;5;124m\"\u001b[39m)\n\u001b[1;32m--> 133\u001b[0m     library \u001b[38;5;241m=\u001b[39m json\u001b[38;5;241m.\u001b[39mloads(library_raw_content)\n\u001b[0;32m    134\u001b[0m     \u001b[38;5;28;01mif\u001b[39;00m loader_class \u001b[38;5;129;01mnot\u001b[39;00m \u001b[38;5;129;01min\u001b[39;00m library:\n\u001b[0;32m    135\u001b[0m         \u001b[38;5;28;01mraise\u001b[39;00m \u001b[38;5;167;01mValueError\u001b[39;00m(\u001b[38;5;124m\"\u001b[39m\u001b[38;5;124mLoader class name not found in library\u001b[39m\u001b[38;5;124m\"\u001b[39m)\n",
      "File \u001b[1;32m~\\anaconda3\\envs\\llamaindex\\Lib\\json\\__init__.py:346\u001b[0m, in \u001b[0;36mloads\u001b[1;34m(s, cls, object_hook, parse_float, parse_int, parse_constant, object_pairs_hook, **kw)\u001b[0m\n\u001b[0;32m    341\u001b[0m     s \u001b[38;5;241m=\u001b[39m s\u001b[38;5;241m.\u001b[39mdecode(detect_encoding(s), \u001b[38;5;124m'\u001b[39m\u001b[38;5;124msurrogatepass\u001b[39m\u001b[38;5;124m'\u001b[39m)\n\u001b[0;32m    343\u001b[0m \u001b[38;5;28;01mif\u001b[39;00m (\u001b[38;5;28mcls\u001b[39m \u001b[38;5;129;01mis\u001b[39;00m \u001b[38;5;28;01mNone\u001b[39;00m \u001b[38;5;129;01mand\u001b[39;00m object_hook \u001b[38;5;129;01mis\u001b[39;00m \u001b[38;5;28;01mNone\u001b[39;00m \u001b[38;5;129;01mand\u001b[39;00m\n\u001b[0;32m    344\u001b[0m         parse_int \u001b[38;5;129;01mis\u001b[39;00m \u001b[38;5;28;01mNone\u001b[39;00m \u001b[38;5;129;01mand\u001b[39;00m parse_float \u001b[38;5;129;01mis\u001b[39;00m \u001b[38;5;28;01mNone\u001b[39;00m \u001b[38;5;129;01mand\u001b[39;00m\n\u001b[0;32m    345\u001b[0m         parse_constant \u001b[38;5;129;01mis\u001b[39;00m \u001b[38;5;28;01mNone\u001b[39;00m \u001b[38;5;129;01mand\u001b[39;00m object_pairs_hook \u001b[38;5;129;01mis\u001b[39;00m \u001b[38;5;28;01mNone\u001b[39;00m \u001b[38;5;129;01mand\u001b[39;00m \u001b[38;5;129;01mnot\u001b[39;00m kw):\n\u001b[1;32m--> 346\u001b[0m     \u001b[38;5;28;01mreturn\u001b[39;00m _default_decoder\u001b[38;5;241m.\u001b[39mdecode(s)\n\u001b[0;32m    347\u001b[0m \u001b[38;5;28;01mif\u001b[39;00m \u001b[38;5;28mcls\u001b[39m \u001b[38;5;129;01mis\u001b[39;00m \u001b[38;5;28;01mNone\u001b[39;00m:\n\u001b[0;32m    348\u001b[0m     \u001b[38;5;28mcls\u001b[39m \u001b[38;5;241m=\u001b[39m JSONDecoder\n",
      "File \u001b[1;32m~\\anaconda3\\envs\\llamaindex\\Lib\\json\\decoder.py:340\u001b[0m, in \u001b[0;36mJSONDecoder.decode\u001b[1;34m(self, s, _w)\u001b[0m\n\u001b[0;32m    338\u001b[0m end \u001b[38;5;241m=\u001b[39m _w(s, end)\u001b[38;5;241m.\u001b[39mend()\n\u001b[0;32m    339\u001b[0m \u001b[38;5;28;01mif\u001b[39;00m end \u001b[38;5;241m!=\u001b[39m \u001b[38;5;28mlen\u001b[39m(s):\n\u001b[1;32m--> 340\u001b[0m     \u001b[38;5;28;01mraise\u001b[39;00m JSONDecodeError(\u001b[38;5;124m\"\u001b[39m\u001b[38;5;124mExtra data\u001b[39m\u001b[38;5;124m\"\u001b[39m, s, end)\n\u001b[0;32m    341\u001b[0m \u001b[38;5;28;01mreturn\u001b[39;00m obj\n",
      "\u001b[1;31mJSONDecodeError\u001b[0m: Extra data: line 1 column 4 (char 3)"
     ]
    }
   ],
   "source": [
    "from llama_index import download_loader\n",
    "\n",
    "# 문서 불러오기\n",
    "BeautifulSoupWebReader = download_loader(\"BeautifulSoupWebReader\")\n",
    "loader = BeautifulSoupWebReader()\n",
    "documents = loader.load_data(urls=[\"https://openai.com/blog/planning-for-agi-and-beyond\"])"
   ]
  },
  {
   "cell_type": "code",
   "execution_count": null,
   "metadata": {
    "id": "QM94qV6LgvNW"
   },
   "outputs": [],
   "source": [
    "from llama_index import GPTVectorStoreIndex\n",
    "\n",
    "# 인덱스 생성\n",
    "index = GPTVectorStoreIndex.from_documents(documents)"
   ]
  },
  {
   "cell_type": "code",
   "execution_count": null,
   "metadata": {
    "id": "mFu_QIR4aPFp"
   },
   "outputs": [],
   "source": [
    "# 쿼리 엔진 만들기\n",
    "query_engine = index.as_query_engine()"
   ]
  },
  {
   "cell_type": "code",
   "execution_count": null,
   "metadata": {
    "id": "QmLLuYFZgvSk"
   },
   "outputs": [],
   "source": [
    "# 질의응답\n",
    "print(query_engine.query(\"이 웹페이지에서 전하고 싶은 말은 무엇인가요? 한국어로 대답해 주세요.\"))"
   ]
  },
  {
   "cell_type": "markdown",
   "metadata": {
    "id": "5wL-FfZDW4vK"
   },
   "source": [
    "# 유튜브 동영상에 대한 질의응답"
   ]
  },
  {
   "cell_type": "code",
   "execution_count": 5,
   "metadata": {
    "id": "6K-q2N86mwOS"
   },
   "outputs": [
    {
     "name": "stdout",
     "output_type": "stream",
     "text": [
      "DEBUG:urllib3.connectionpool:Starting new HTTPS connection (1): raw.githubusercontent.com:443\n",
      "DEBUG:urllib3.connectionpool:https://raw.githubusercontent.com:443 \"GET /emptycrown/loader-hub/main/loader_hub/library.json HTTP/1.1\" 404 14\n"
     ]
    },
    {
     "ename": "JSONDecodeError",
     "evalue": "Extra data: line 1 column 4 (char 3)",
     "output_type": "error",
     "traceback": [
      "\u001b[1;31m---------------------------------------------------------------------------\u001b[0m",
      "\u001b[1;31mJSONDecodeError\u001b[0m                           Traceback (most recent call last)",
      "Cell \u001b[1;32mIn[5], line 4\u001b[0m\n\u001b[0;32m      1\u001b[0m \u001b[38;5;28;01mfrom\u001b[39;00m \u001b[38;5;21;01mllama_index\u001b[39;00m \u001b[38;5;28;01mimport\u001b[39;00m download_loader\n\u001b[0;32m      3\u001b[0m \u001b[38;5;66;03m# 문서 불러오기\u001b[39;00m\n\u001b[1;32m----> 4\u001b[0m YoutubeTranscriptReader \u001b[38;5;241m=\u001b[39m download_loader(\u001b[38;5;124m\"\u001b[39m\u001b[38;5;124mYoutubeTranscriptReader\u001b[39m\u001b[38;5;124m\"\u001b[39m)\n\u001b[0;32m      5\u001b[0m loader \u001b[38;5;241m=\u001b[39m YoutubeTranscriptReader()\n\u001b[0;32m      6\u001b[0m documents \u001b[38;5;241m=\u001b[39m loader\u001b[38;5;241m.\u001b[39mload_data(ytlinks\u001b[38;5;241m=\u001b[39m[\u001b[38;5;124m\"\u001b[39m\u001b[38;5;124mhttps://www.youtube.com/watch?v=oc6RV5c1yd0\u001b[39m\u001b[38;5;124m\"\u001b[39m])\n",
      "File \u001b[1;32m~\\anaconda3\\envs\\llamaindex\\Lib\\site-packages\\llama_index\\readers\\download.py:133\u001b[0m, in \u001b[0;36mdownload_loader\u001b[1;34m(loader_class, loader_hub_url, refresh_cache, use_gpt_index_import, custom_path)\u001b[0m\n\u001b[0;32m    131\u001b[0m \u001b[38;5;28;01mif\u001b[39;00m loader_id \u001b[38;5;129;01mis\u001b[39;00m \u001b[38;5;28;01mNone\u001b[39;00m:\n\u001b[0;32m    132\u001b[0m     library_raw_content, _ \u001b[38;5;241m=\u001b[39m _get_file_content(loader_hub_url, \u001b[38;5;124m\"\u001b[39m\u001b[38;5;124m/library.json\u001b[39m\u001b[38;5;124m\"\u001b[39m)\n\u001b[1;32m--> 133\u001b[0m     library \u001b[38;5;241m=\u001b[39m json\u001b[38;5;241m.\u001b[39mloads(library_raw_content)\n\u001b[0;32m    134\u001b[0m     \u001b[38;5;28;01mif\u001b[39;00m loader_class \u001b[38;5;129;01mnot\u001b[39;00m \u001b[38;5;129;01min\u001b[39;00m library:\n\u001b[0;32m    135\u001b[0m         \u001b[38;5;28;01mraise\u001b[39;00m \u001b[38;5;167;01mValueError\u001b[39;00m(\u001b[38;5;124m\"\u001b[39m\u001b[38;5;124mLoader class name not found in library\u001b[39m\u001b[38;5;124m\"\u001b[39m)\n",
      "File \u001b[1;32m~\\anaconda3\\envs\\llamaindex\\Lib\\json\\__init__.py:346\u001b[0m, in \u001b[0;36mloads\u001b[1;34m(s, cls, object_hook, parse_float, parse_int, parse_constant, object_pairs_hook, **kw)\u001b[0m\n\u001b[0;32m    341\u001b[0m     s \u001b[38;5;241m=\u001b[39m s\u001b[38;5;241m.\u001b[39mdecode(detect_encoding(s), \u001b[38;5;124m'\u001b[39m\u001b[38;5;124msurrogatepass\u001b[39m\u001b[38;5;124m'\u001b[39m)\n\u001b[0;32m    343\u001b[0m \u001b[38;5;28;01mif\u001b[39;00m (\u001b[38;5;28mcls\u001b[39m \u001b[38;5;129;01mis\u001b[39;00m \u001b[38;5;28;01mNone\u001b[39;00m \u001b[38;5;129;01mand\u001b[39;00m object_hook \u001b[38;5;129;01mis\u001b[39;00m \u001b[38;5;28;01mNone\u001b[39;00m \u001b[38;5;129;01mand\u001b[39;00m\n\u001b[0;32m    344\u001b[0m         parse_int \u001b[38;5;129;01mis\u001b[39;00m \u001b[38;5;28;01mNone\u001b[39;00m \u001b[38;5;129;01mand\u001b[39;00m parse_float \u001b[38;5;129;01mis\u001b[39;00m \u001b[38;5;28;01mNone\u001b[39;00m \u001b[38;5;129;01mand\u001b[39;00m\n\u001b[0;32m    345\u001b[0m         parse_constant \u001b[38;5;129;01mis\u001b[39;00m \u001b[38;5;28;01mNone\u001b[39;00m \u001b[38;5;129;01mand\u001b[39;00m object_pairs_hook \u001b[38;5;129;01mis\u001b[39;00m \u001b[38;5;28;01mNone\u001b[39;00m \u001b[38;5;129;01mand\u001b[39;00m \u001b[38;5;129;01mnot\u001b[39;00m kw):\n\u001b[1;32m--> 346\u001b[0m     \u001b[38;5;28;01mreturn\u001b[39;00m _default_decoder\u001b[38;5;241m.\u001b[39mdecode(s)\n\u001b[0;32m    347\u001b[0m \u001b[38;5;28;01mif\u001b[39;00m \u001b[38;5;28mcls\u001b[39m \u001b[38;5;129;01mis\u001b[39;00m \u001b[38;5;28;01mNone\u001b[39;00m:\n\u001b[0;32m    348\u001b[0m     \u001b[38;5;28mcls\u001b[39m \u001b[38;5;241m=\u001b[39m JSONDecoder\n",
      "File \u001b[1;32m~\\anaconda3\\envs\\llamaindex\\Lib\\json\\decoder.py:340\u001b[0m, in \u001b[0;36mJSONDecoder.decode\u001b[1;34m(self, s, _w)\u001b[0m\n\u001b[0;32m    338\u001b[0m end \u001b[38;5;241m=\u001b[39m _w(s, end)\u001b[38;5;241m.\u001b[39mend()\n\u001b[0;32m    339\u001b[0m \u001b[38;5;28;01mif\u001b[39;00m end \u001b[38;5;241m!=\u001b[39m \u001b[38;5;28mlen\u001b[39m(s):\n\u001b[1;32m--> 340\u001b[0m     \u001b[38;5;28;01mraise\u001b[39;00m JSONDecodeError(\u001b[38;5;124m\"\u001b[39m\u001b[38;5;124mExtra data\u001b[39m\u001b[38;5;124m\"\u001b[39m, s, end)\n\u001b[0;32m    341\u001b[0m \u001b[38;5;28;01mreturn\u001b[39;00m obj\n",
      "\u001b[1;31mJSONDecodeError\u001b[0m: Extra data: line 1 column 4 (char 3)"
     ]
    }
   ],
   "source": [
    "from llama_index import download_loader\n",
    "\n",
    "# 문서 불러오기\n",
    "YoutubeTranscriptReader = download_loader(\"YoutubeTranscriptReader\")\n",
    "loader = YoutubeTranscriptReader()\n",
    "documents = loader.load_data(ytlinks=[\"https://www.youtube.com/watch?v=oc6RV5c1yd0\"])"
   ]
  },
  {
   "cell_type": "code",
   "execution_count": null,
   "metadata": {
    "id": "WsBr4NJx50By"
   },
   "outputs": [],
   "source": [
    "from llama_index import GPTVectorStoreIndex\n",
    "\n",
    "# 인덱스 생성\n",
    "index = GPTVectorStoreIndex.from_documents(documents)"
   ]
  },
  {
   "cell_type": "code",
   "execution_count": null,
   "metadata": {
    "id": "P3u7gtP9ar2k"
   },
   "outputs": [],
   "source": [
    "# 쿼리 엔진 생성\n",
    "query_engine = index.as_query_engine()"
   ]
  },
  {
   "cell_type": "code",
   "execution_count": null,
   "metadata": {
    "id": "fVtBdcVHQHub"
   },
   "outputs": [],
   "source": [
    "# 질의응답\n",
    "print(query_engine.query(\"이 동영상에서 전하고 싶은 말은 무엇인가요? 한국어로 대답해 주세요.\"))"
   ]
  }
 ],
 "metadata": {
  "accelerator": "GPU",
  "colab": {
   "authorship_tag": "ABX9TyO5vPiDwtbBCC8IJtWVmpB9",
   "provenance": []
  },
  "gpuClass": "standard",
  "kernelspec": {
   "display_name": "Python 3 (ipykernel)",
   "language": "python",
   "name": "python3"
  },
  "language_info": {
   "codemirror_mode": {
    "name": "ipython",
    "version": 3
   },
   "file_extension": ".py",
   "mimetype": "text/x-python",
   "name": "python",
   "nbconvert_exporter": "python",
   "pygments_lexer": "ipython3",
   "version": "3.11.4"
  }
 },
 "nbformat": 4,
 "nbformat_minor": 1
}
