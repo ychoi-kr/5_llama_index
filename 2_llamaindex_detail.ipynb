{
 "cells": [
  {
   "cell_type": "markdown",
   "metadata": {
    "id": "Qf_XcjXD89hw"
   },
   "source": [
    "# LlamaIndex의 사전 준비"
   ]
  },
  {
   "cell_type": "code",
   "execution_count": 1,
   "metadata": {
    "id": "mkPbwp6-ploX"
   },
   "outputs": [
    {
     "name": "stdout",
     "output_type": "stream",
     "text": [
      "Collecting llama-index==0.6.12\n",
      "  Using cached llama_index-0.6.12-py3-none-any.whl (422 kB)\n",
      "Requirement already satisfied: dataclasses-json in c:\\users\\yong\\anaconda3\\envs\\llamaindex\\lib\\site-packages (from llama-index==0.6.12) (0.5.13)\n",
      "Requirement already satisfied: langchain>=0.0.154 in c:\\users\\yong\\anaconda3\\envs\\llamaindex\\lib\\site-packages (from llama-index==0.6.12) (0.0.238)\n",
      "Requirement already satisfied: sqlalchemy>=2.0.15 in c:\\users\\yong\\anaconda3\\envs\\llamaindex\\lib\\site-packages (from llama-index==0.6.12) (2.0.19)\n",
      "Requirement already satisfied: numpy in c:\\users\\yong\\anaconda3\\envs\\llamaindex\\lib\\site-packages (from llama-index==0.6.12) (1.25.1)\n",
      "Requirement already satisfied: tenacity<9.0.0,>=8.2.0 in c:\\users\\yong\\anaconda3\\envs\\llamaindex\\lib\\site-packages (from llama-index==0.6.12) (8.2.2)\n",
      "Requirement already satisfied: openai>=0.26.4 in c:\\users\\yong\\anaconda3\\envs\\llamaindex\\lib\\site-packages (from llama-index==0.6.12) (0.27.8)\n",
      "Requirement already satisfied: pandas in c:\\users\\yong\\anaconda3\\envs\\llamaindex\\lib\\site-packages (from llama-index==0.6.12) (2.0.3)\n",
      "Requirement already satisfied: urllib3<2 in c:\\users\\yong\\anaconda3\\envs\\llamaindex\\lib\\site-packages (from llama-index==0.6.12) (1.26.16)\n",
      "Requirement already satisfied: fsspec>=2023.5.0 in c:\\users\\yong\\anaconda3\\envs\\llamaindex\\lib\\site-packages (from llama-index==0.6.12) (2023.6.0)\n",
      "Requirement already satisfied: typing-inspect==0.8.0 in c:\\users\\yong\\anaconda3\\envs\\llamaindex\\lib\\site-packages (from llama-index==0.6.12) (0.8.0)\n",
      "Requirement already satisfied: typing-extensions==4.5.0 in c:\\users\\yong\\anaconda3\\envs\\llamaindex\\lib\\site-packages (from llama-index==0.6.12) (4.5.0)\n",
      "Requirement already satisfied: tiktoken in c:\\users\\yong\\anaconda3\\envs\\llamaindex\\lib\\site-packages (from llama-index==0.6.12) (0.4.0)\n",
      "Requirement already satisfied: mypy-extensions>=0.3.0 in c:\\users\\yong\\anaconda3\\envs\\llamaindex\\lib\\site-packages (from typing-inspect==0.8.0->llama-index==0.6.12) (1.0.0)\n",
      "Requirement already satisfied: PyYAML>=5.4.1 in c:\\users\\yong\\anaconda3\\envs\\llamaindex\\lib\\site-packages (from langchain>=0.0.154->llama-index==0.6.12) (6.0)\n",
      "Requirement already satisfied: aiohttp<4.0.0,>=3.8.3 in c:\\users\\yong\\anaconda3\\envs\\llamaindex\\lib\\site-packages (from langchain>=0.0.154->llama-index==0.6.12) (3.8.5)\n",
      "Requirement already satisfied: langsmith<0.1.0,>=0.0.11 in c:\\users\\yong\\anaconda3\\envs\\llamaindex\\lib\\site-packages (from langchain>=0.0.154->llama-index==0.6.12) (0.0.12)\n",
      "Requirement already satisfied: numexpr<3.0.0,>=2.8.4 in c:\\users\\yong\\anaconda3\\envs\\llamaindex\\lib\\site-packages (from langchain>=0.0.154->llama-index==0.6.12) (2.8.4)\n",
      "Requirement already satisfied: openapi-schema-pydantic<2.0,>=1.2 in c:\\users\\yong\\anaconda3\\envs\\llamaindex\\lib\\site-packages (from langchain>=0.0.154->llama-index==0.6.12) (1.2.4)\n",
      "Requirement already satisfied: pydantic<2,>=1 in c:\\users\\yong\\anaconda3\\envs\\llamaindex\\lib\\site-packages (from langchain>=0.0.154->llama-index==0.6.12) (1.10.11)\n",
      "Requirement already satisfied: requests<3,>=2 in c:\\users\\yong\\anaconda3\\envs\\llamaindex\\lib\\site-packages (from langchain>=0.0.154->llama-index==0.6.12) (2.29.0)\n",
      "Requirement already satisfied: marshmallow<4.0.0,>=3.18.0 in c:\\users\\yong\\anaconda3\\envs\\llamaindex\\lib\\site-packages (from dataclasses-json->llama-index==0.6.12) (3.20.1)\n",
      "Requirement already satisfied: tqdm in c:\\users\\yong\\anaconda3\\envs\\llamaindex\\lib\\site-packages (from openai>=0.26.4->llama-index==0.6.12) (4.65.0)\n",
      "Requirement already satisfied: greenlet!=0.4.17 in c:\\users\\yong\\anaconda3\\envs\\llamaindex\\lib\\site-packages (from sqlalchemy>=2.0.15->llama-index==0.6.12) (2.0.2)\n",
      "Requirement already satisfied: python-dateutil>=2.8.2 in c:\\users\\yong\\anaconda3\\envs\\llamaindex\\lib\\site-packages (from pandas->llama-index==0.6.12) (2.8.2)\n",
      "Requirement already satisfied: pytz>=2020.1 in c:\\users\\yong\\anaconda3\\envs\\llamaindex\\lib\\site-packages (from pandas->llama-index==0.6.12) (2022.7)\n",
      "Requirement already satisfied: tzdata>=2022.1 in c:\\users\\yong\\anaconda3\\envs\\llamaindex\\lib\\site-packages (from pandas->llama-index==0.6.12) (2023.3)\n",
      "Requirement already satisfied: regex>=2022.1.18 in c:\\users\\yong\\anaconda3\\envs\\llamaindex\\lib\\site-packages (from tiktoken->llama-index==0.6.12) (2023.6.3)\n",
      "Requirement already satisfied: attrs>=17.3.0 in c:\\users\\yong\\anaconda3\\envs\\llamaindex\\lib\\site-packages (from aiohttp<4.0.0,>=3.8.3->langchain>=0.0.154->llama-index==0.6.12) (22.1.0)\n",
      "Requirement already satisfied: charset-normalizer<4.0,>=2.0 in c:\\users\\yong\\anaconda3\\envs\\llamaindex\\lib\\site-packages (from aiohttp<4.0.0,>=3.8.3->langchain>=0.0.154->llama-index==0.6.12) (2.0.4)\n",
      "Requirement already satisfied: multidict<7.0,>=4.5 in c:\\users\\yong\\anaconda3\\envs\\llamaindex\\lib\\site-packages (from aiohttp<4.0.0,>=3.8.3->langchain>=0.0.154->llama-index==0.6.12) (6.0.4)\n",
      "Requirement already satisfied: async-timeout<5.0,>=4.0.0a3 in c:\\users\\yong\\anaconda3\\envs\\llamaindex\\lib\\site-packages (from aiohttp<4.0.0,>=3.8.3->langchain>=0.0.154->llama-index==0.6.12) (4.0.2)\n",
      "Requirement already satisfied: yarl<2.0,>=1.0 in c:\\users\\yong\\anaconda3\\envs\\llamaindex\\lib\\site-packages (from aiohttp<4.0.0,>=3.8.3->langchain>=0.0.154->llama-index==0.6.12) (1.9.2)\n",
      "Requirement already satisfied: frozenlist>=1.1.1 in c:\\users\\yong\\anaconda3\\envs\\llamaindex\\lib\\site-packages (from aiohttp<4.0.0,>=3.8.3->langchain>=0.0.154->llama-index==0.6.12) (1.4.0)\n",
      "Requirement already satisfied: aiosignal>=1.1.2 in c:\\users\\yong\\anaconda3\\envs\\llamaindex\\lib\\site-packages (from aiohttp<4.0.0,>=3.8.3->langchain>=0.0.154->llama-index==0.6.12) (1.3.1)\n",
      "Requirement already satisfied: packaging>=17.0 in c:\\users\\yong\\anaconda3\\envs\\llamaindex\\lib\\site-packages (from marshmallow<4.0.0,>=3.18.0->dataclasses-json->llama-index==0.6.12) (23.0)\n",
      "Requirement already satisfied: six>=1.5 in c:\\users\\yong\\anaconda3\\envs\\llamaindex\\lib\\site-packages (from python-dateutil>=2.8.2->pandas->llama-index==0.6.12) (1.16.0)\n",
      "Requirement already satisfied: idna<4,>=2.5 in c:\\users\\yong\\anaconda3\\envs\\llamaindex\\lib\\site-packages (from requests<3,>=2->langchain>=0.0.154->llama-index==0.6.12) (3.4)\n",
      "Requirement already satisfied: certifi>=2017.4.17 in c:\\users\\yong\\anaconda3\\envs\\llamaindex\\lib\\site-packages (from requests<3,>=2->langchain>=0.0.154->llama-index==0.6.12) (2023.5.7)\n",
      "Requirement already satisfied: colorama in c:\\users\\yong\\anaconda3\\envs\\llamaindex\\lib\\site-packages (from tqdm->openai>=0.26.4->llama-index==0.6.12) (0.4.6)\n",
      "Installing collected packages: llama-index\n",
      "  Attempting uninstall: llama-index\n",
      "    Found existing installation: llama-index 0.7.11.post1\n",
      "    Uninstalling llama-index-0.7.11.post1:\n",
      "      Successfully uninstalled llama-index-0.7.11.post1\n",
      "Successfully installed llama-index-0.6.12\n"
     ]
    }
   ],
   "source": [
    "# 패키지 설치\n",
    "!pip install llama-index==0.6.12"
   ]
  },
  {
   "cell_type": "code",
   "execution_count": 2,
   "metadata": {
    "id": "_Gf8Rfw2MiG_"
   },
   "outputs": [],
   "source": [
    "# 환경 변수 준비\n",
    "import os\n",
    "os.environ[\"OPENAI_API_KEY\"] = \"<OpenAI_API의_API_키>\""
   ]
  },
  {
   "cell_type": "code",
   "execution_count": 3,
   "metadata": {
    "id": "g9Nyr59eqRUh"
   },
   "outputs": [],
   "source": [
    "import logging\n",
    "import sys\n",
    "\n",
    "# 로그 레벨 설정\n",
    "logging.basicConfig(stream=sys.stdout, level=logging.DEBUG, force=True)"
   ]
  },
  {
   "cell_type": "markdown",
   "metadata": {
    "id": "sKqtnf0Gf24g"
   },
   "source": [
    "# 문서 불러오기\n"
   ]
  },
  {
   "cell_type": "code",
   "execution_count": 4,
   "metadata": {
    "id": "WsBr4NJx50By"
   },
   "outputs": [
    {
     "name": "stdout",
     "output_type": "stream",
     "text": [
      "INFO:numexpr.utils:Note: NumExpr detected 20 cores but \"NUMEXPR_MAX_THREADS\" not set, so enforcing safe limit of 8.\n",
      "INFO:numexpr.utils:NumExpr defaulting to 8 threads.\n",
      "DEBUG:llama_index.readers.file.base:> [SimpleDirectoryReader] Total files added: 7\n",
      "documents : [Document(text=\"제1장: 데이터 프론트\\n\\n밤이 되면 반짝이는 네오 도쿄. 고층 빌딩이 늘어서고, 네온사인이 거리를 수놓는다. 그 거리에서 빨간 두건을 쓴 소녀 미코는 불법 데이터 카우리아를 운반하는 배달원으로 일하고 있었다. 그녀는 어머니가 병에 걸려 치료비를 벌기 위해 데이터카우리아에 몸을 던지고 있었다.\\n\\n그러던 어느 날, 미코는 중요한 데이터를 운반하는 임무를 맡게 된다. 그 데이터에는 거대 기업 '울프 코퍼레이션'의 시민에 대한 악랄한 지배를 폭로하는 정보가 담겨 있었다. 그녀는 데이터를 받아 목적지로 향한다.\\n\", doc_id='b57c0a71-e32e-4d34-bbb9-f28b911aa093', embedding=None, doc_hash='52510777650f4b413312795352941f6a82bd21691af4f6174f027fed858966f6', extra_info=None), Document(text=\"제2장: 울프 코퍼레이션의 함정\\n\\n미코는 목적지인 술집 '할머니의 집'으로 향하는 길에 울프 코퍼레이션의 요원들에게 쫓기게 된다. 그들은 '빨간 망토'라는 데이터 카우리아에 대한 소문을 듣고 데이터를 탈취하려 했다. 미코는 교묘하게 요원들을 흩뿌리고 술집에 도착한다.\\n\", doc_id='5b4b03a7-5adf-46e3-b4ec-f2a4e6c94144', embedding=None, doc_hash='4f93a5aac9870e2050dad030493eb2191cca1bf0d3ee1ae07c4c3c19efe0b58e', extra_info=None), Document(text=\"제3장: 배신과 재회\\n\\n술집 '할머니의 집'에서 미코는 데이터를 받을 사람인 료를 기다리고 있었다. 료는 그녀의 어릴 적 친구이자 그 역시 울프 코퍼레이션과 싸우는 해커 집단의 일원이었다. 하지만 료는 미코에게 배신감을 느꼈고, 그녀가 데이터 카우리아에 몸을 던진 것에 화가 났다.\\n\\n그럼에도 불구하고 미코는 료에게 데이터를 건네며 울프 코퍼레이션에 대한 반격을 믿기로 한다. 두 사람은 함께 울프 코퍼레이션의 음모를 밝혀내고 시민들을 구하기로 결심한다.\\n\", doc_id='50dcae5c-2492-4f77-96c6-80981f17ac5a', embedding=None, doc_hash='87331b3208e9cf7e080383f7b156f81a7ae45b5c23e92df2d798fe78ce0b8752', extra_info=None), Document(text='제4장: 울프 코퍼레이션의 붕괴\\n\\n미코와 료는 해커 집단과 함께 울프 코퍼레이션에 대한 최후의 결전을 벌인다. 능숙한 해킹 기술과 신체 능력으로 그들은 울프 코퍼레이션의 보안을 차례로 뚫어 나간다. 그 과정에서 미코는 울프 코퍼레이션이 어머니의 병에 관여하고 있다는 사실을 알게 된다. 그녀는 분노에 휩싸여 울프코퍼레이션에 대한 복수를 다짐한다.\\n', doc_id='2e538959-8232-4e8e-8d76-1a7e11b1919b', embedding=None, doc_hash='8e489969a7c71276ea74b9b57f3f5c42327eaa10c80fe109abdd787e4ee9ec46', extra_info=None), Document(text='제5장: 결전의 순간\\n\\n미코와 료는 마침내 울프 코퍼레이션의 최상층에 도착해 CEO인 교활한 울프 박사와 대면한다. 울프 박사는 시민을 지배하려는 사악한 야망을 드러내며 자신의 압도적인 힘을 과시한다. 하지만 미코와 료는 서로를 도와가며 울프 박사와 싸우고 그의 약점을 찾아낸다.\\n', doc_id='9a374cb7-bdbe-4af3-a905-61d6c16b1b69', embedding=None, doc_hash='751d8b9d08df98417fd7c46dcb76c654e86a83a222af81815360ab1a6586ba52', extra_info=None), Document(text='제6장: 진실의 해방\\n\\n미코는 울프 박사의 약점을 파고들어 그를 쓰러뜨리는데 성공한다. 그리고 해커 집단과 함께 울프 코퍼레이션의 악행을 세상에 공개하고 시민들을 해방시킨다. 이 승리로 미코의 어머니의 치료법도 찾아내고, 그녀의 병은 완치된다.\\n', doc_id='954ab616-f03e-4ade-9d74-ceec2a8d1eef', embedding=None, doc_hash='72f641a4cbb6be35a1452c6b10682d11e7dfe9d4e6166608786416766fd3b8ef', extra_info=None), Document(text='제7장: 새로운 시작\\n\\n울프 코퍼레이션이 무너진 후, 미코와 료는 서로의 과거를 용서하고 다시 우정을 회복한다. 미코는 데이터카우리아를 그만두고 료와 함께 새로운 길을 걷기 시작한다. 그들은 스스로의 힘으로 미래의 네오 도쿄를 더 나은 도시로 바꾸어 나갈 것을 다짐한다. 이것은 미코와 료, 그리고 전뇌 빨간 망토의 새로운 모험의 시작이었다.\\n', doc_id='87c4a497-679b-4ea2-959a-d3ec07a07c31', embedding=None, doc_hash='a964394ddd734db0c238072cc755138157c2ad1e580750edabd5ea6862c73ced', extra_info=None)]\n"
     ]
    }
   ],
   "source": [
    "from llama_index import SimpleDirectoryReader\n",
    "\n",
    "# 문서 불러오기\n",
    "documents = SimpleDirectoryReader(\"data\").load_data()\n",
    "print(\"documents :\", documents)"
   ]
  },
  {
   "cell_type": "code",
   "execution_count": 5,
   "metadata": {
    "id": "fVtBdcVHQHub"
   },
   "outputs": [
    {
     "name": "stdout",
     "output_type": "stream",
     "text": [
      "documents : [Document(text='text1', doc_id='de9fcd5b-247e-4185-b06b-744cbcf275d1', embedding=None, doc_hash='4acd4b774fffdaf45630897b01c4f68316c5da9e1f5d2f1b34ec46aba14ecf4f', extra_info=None), Document(text='text2', doc_id='69b43910-b690-4d9e-a375-ee00d943497d', embedding=None, doc_hash='5af33d0dbd3518bcf38d390e29fb8ca581518ac5ab9c9ead68e118c2c351013c', extra_info=None), Document(text='text3', doc_id='3d481cda-288a-4188-a45d-85ac88077c19', embedding=None, doc_hash='4ade7a9005a517e64504d1979d3bc5d3bc2cbc91c322d5f200213664a3e53c4b', extra_info=None)]\n"
     ]
    }
   ],
   "source": [
    "from llama_index import Document\n",
    "\n",
    "# 수동으로 문서 작성\n",
    "texts = [\"text1\", \"text2\", \"text3\"]\n",
    "documents = [Document(t) for t in texts]\n",
    "print(\"documents :\", documents)"
   ]
  },
  {
   "cell_type": "code",
   "execution_count": 6,
   "metadata": {
    "id": "NueCxFlnQHwf"
   },
   "outputs": [
    {
     "name": "stdout",
     "output_type": "stream",
     "text": [
      "DEBUG:urllib3.connectionpool:Starting new HTTPS connection (1): openaipublic.blob.core.windows.net:443\n",
      "DEBUG:urllib3.connectionpool:https://openaipublic.blob.core.windows.net:443 \"GET /gpt-2/encodings/main/vocab.bpe HTTP/1.1\" 200 456318\n",
      "DEBUG:urllib3.connectionpool:Starting new HTTPS connection (1): openaipublic.blob.core.windows.net:443\n",
      "DEBUG:urllib3.connectionpool:https://openaipublic.blob.core.windows.net:443 \"GET /gpt-2/encodings/main/encoder.json HTTP/1.1\" 200 1042301\n",
      "DEBUG:llama_index.node_parser.node_utils:> Adding chunk: text1...\n",
      "DEBUG:llama_index.node_parser.node_utils:> Adding chunk: text2...\n",
      "DEBUG:llama_index.node_parser.node_utils:> Adding chunk: text3...\n",
      "DEBUG:openai:message='Request to OpenAI API' method=post path=https://api.openai.com/v1/embeddings\n",
      "DEBUG:openai:api_version=None data='{\"input\": [\"text1\", \"text2\", \"text3\"], \"model\": \"text-embedding-ada-002\", \"encoding_format\": \"base64\"}' message='Post details'\n",
      "DEBUG:urllib3.util.retry:Converted retries value: 2 -> Retry(total=2, connect=None, read=None, redirect=None, status=None)\n",
      "DEBUG:urllib3.connectionpool:Starting new HTTPS connection (1): api.openai.com:443\n",
      "DEBUG:urllib3.connectionpool:https://api.openai.com:443 \"POST /v1/embeddings HTTP/1.1\" 200 None\n",
      "DEBUG:openai:message='OpenAI API response' path=https://api.openai.com/v1/embeddings processing_ms=1393 request_id=3f331461a8d3b8b3d0ac1d61152af671 response_code=200\n",
      "INFO:llama_index.token_counter.token_counter:> [build_index_from_nodes] Total LLM token usage: 0 tokens\n",
      "INFO:llama_index.token_counter.token_counter:> [build_index_from_nodes] Total embedding token usage: 6 tokens\n"
     ]
    }
   ],
   "source": [
    "from llama_index import GPTVectorStoreIndex\n",
    "\n",
    "# 인덱스 생성\n",
    "index = GPTVectorStoreIndex.from_documents(documents)"
   ]
  },
  {
   "cell_type": "code",
   "execution_count": 7,
   "metadata": {
    "id": "mPvIHzB-QHyl"
   },
   "outputs": [
    {
     "name": "stdout",
     "output_type": "stream",
     "text": [
      "INFO:llama_index.token_counter.token_counter:> [build_index_from_nodes] Total LLM token usage: 0 tokens\n",
      "INFO:llama_index.token_counter.token_counter:> [build_index_from_nodes] Total embedding token usage: 0 tokens\n",
      "DEBUG:llama_index.node_parser.node_utils:> Adding chunk: text1...\n",
      "DEBUG:openai:message='Request to OpenAI API' method=post path=https://api.openai.com/v1/embeddings\n",
      "DEBUG:openai:api_version=None data='{\"input\": [\"text1\"], \"model\": \"text-embedding-ada-002\", \"encoding_format\": \"base64\"}' message='Post details'\n",
      "DEBUG:urllib3.connectionpool:https://api.openai.com:443 \"POST /v1/embeddings HTTP/1.1\" 200 None\n",
      "DEBUG:openai:message='OpenAI API response' path=https://api.openai.com/v1/embeddings processing_ms=97 request_id=faefc652384a90258c347497b05a90af response_code=200\n",
      "INFO:llama_index.token_counter.token_counter:> [insert] Total LLM token usage: 0 tokens\n",
      "INFO:llama_index.token_counter.token_counter:> [insert] Total embedding token usage: 2 tokens\n",
      "DEBUG:llama_index.node_parser.node_utils:> Adding chunk: text2...\n",
      "DEBUG:openai:message='Request to OpenAI API' method=post path=https://api.openai.com/v1/embeddings\n",
      "DEBUG:openai:api_version=None data='{\"input\": [\"text2\"], \"model\": \"text-embedding-ada-002\", \"encoding_format\": \"base64\"}' message='Post details'\n",
      "DEBUG:urllib3.connectionpool:https://api.openai.com:443 \"POST /v1/embeddings HTTP/1.1\" 200 None\n",
      "DEBUG:openai:message='OpenAI API response' path=https://api.openai.com/v1/embeddings processing_ms=30 request_id=674996fd0deac49d729188e0f8a4ef39 response_code=200\n",
      "INFO:llama_index.token_counter.token_counter:> [insert] Total LLM token usage: 0 tokens\n",
      "INFO:llama_index.token_counter.token_counter:> [insert] Total embedding token usage: 2 tokens\n",
      "DEBUG:llama_index.node_parser.node_utils:> Adding chunk: text3...\n",
      "DEBUG:openai:message='Request to OpenAI API' method=post path=https://api.openai.com/v1/embeddings\n",
      "DEBUG:openai:api_version=None data='{\"input\": [\"text3\"], \"model\": \"text-embedding-ada-002\", \"encoding_format\": \"base64\"}' message='Post details'\n",
      "DEBUG:urllib3.connectionpool:https://api.openai.com:443 \"POST /v1/embeddings HTTP/1.1\" 200 None\n",
      "DEBUG:openai:message='OpenAI API response' path=https://api.openai.com/v1/embeddings processing_ms=133 request_id=7a24fdb3a43f0bbfde49c8e2eb493585 response_code=200\n",
      "INFO:llama_index.token_counter.token_counter:> [insert] Total LLM token usage: 0 tokens\n",
      "INFO:llama_index.token_counter.token_counter:> [insert] Total embedding token usage: 2 tokens\n"
     ]
    }
   ],
   "source": [
    "from llama_index import GPTVectorStoreIndex\n",
    "\n",
    "# 빈 인덱스 생성\n",
    "index = GPTVectorStoreIndex.from_documents([])\n",
    "\n",
    "# 문서를 인덱스에 삽입\n",
    "for doc in documents:\n",
    "    index.insert(doc)"
   ]
  },
  {
   "cell_type": "code",
   "execution_count": 8,
   "metadata": {
    "id": "9cuUPtE1lRC2"
   },
   "outputs": [
    {
     "name": "stdout",
     "output_type": "stream",
     "text": [
      "DEBUG:llama_index.readers.file.base:> [SimpleDirectoryReader] Total files added: 7\n",
      "documents : [Document(text=\"제1장: 데이터 프론트\\n\\n밤이 되면 반짝이는 네오 도쿄. 고층 빌딩이 늘어서고, 네온사인이 거리를 수놓는다. 그 거리에서 빨간 두건을 쓴 소녀 미코는 불법 데이터 카우리아를 운반하는 배달원으로 일하고 있었다. 그녀는 어머니가 병에 걸려 치료비를 벌기 위해 데이터카우리아에 몸을 던지고 있었다.\\n\\n그러던 어느 날, 미코는 중요한 데이터를 운반하는 임무를 맡게 된다. 그 데이터에는 거대 기업 '울프 코퍼레이션'의 시민에 대한 악랄한 지배를 폭로하는 정보가 담겨 있었다. 그녀는 데이터를 받아 목적지로 향한다.\\n\", doc_id='ce33bbcd-d6a6-4c2c-91c8-706a06eaeb05', embedding=None, doc_hash='52510777650f4b413312795352941f6a82bd21691af4f6174f027fed858966f6', extra_info=None), Document(text=\"제2장: 울프 코퍼레이션의 함정\\n\\n미코는 목적지인 술집 '할머니의 집'으로 향하는 길에 울프 코퍼레이션의 요원들에게 쫓기게 된다. 그들은 '빨간 망토'라는 데이터 카우리아에 대한 소문을 듣고 데이터를 탈취하려 했다. 미코는 교묘하게 요원들을 흩뿌리고 술집에 도착한다.\\n\", doc_id='59baf4d5-9f49-4697-810a-ed47d745b9ed', embedding=None, doc_hash='4f93a5aac9870e2050dad030493eb2191cca1bf0d3ee1ae07c4c3c19efe0b58e', extra_info=None), Document(text=\"제3장: 배신과 재회\\n\\n술집 '할머니의 집'에서 미코는 데이터를 받을 사람인 료를 기다리고 있었다. 료는 그녀의 어릴 적 친구이자 그 역시 울프 코퍼레이션과 싸우는 해커 집단의 일원이었다. 하지만 료는 미코에게 배신감을 느꼈고, 그녀가 데이터 카우리아에 몸을 던진 것에 화가 났다.\\n\\n그럼에도 불구하고 미코는 료에게 데이터를 건네며 울프 코퍼레이션에 대한 반격을 믿기로 한다. 두 사람은 함께 울프 코퍼레이션의 음모를 밝혀내고 시민들을 구하기로 결심한다.\\n\", doc_id='8918c4c2-6891-4869-887c-7fc5b76f67d0', embedding=None, doc_hash='87331b3208e9cf7e080383f7b156f81a7ae45b5c23e92df2d798fe78ce0b8752', extra_info=None), Document(text='제4장: 울프 코퍼레이션의 붕괴\\n\\n미코와 료는 해커 집단과 함께 울프 코퍼레이션에 대한 최후의 결전을 벌인다. 능숙한 해킹 기술과 신체 능력으로 그들은 울프 코퍼레이션의 보안을 차례로 뚫어 나간다. 그 과정에서 미코는 울프 코퍼레이션이 어머니의 병에 관여하고 있다는 사실을 알게 된다. 그녀는 분노에 휩싸여 울프코퍼레이션에 대한 복수를 다짐한다.\\n', doc_id='f8f3b7da-4ddc-4100-8c72-3995bad15e19', embedding=None, doc_hash='8e489969a7c71276ea74b9b57f3f5c42327eaa10c80fe109abdd787e4ee9ec46', extra_info=None), Document(text='제5장: 결전의 순간\\n\\n미코와 료는 마침내 울프 코퍼레이션의 최상층에 도착해 CEO인 교활한 울프 박사와 대면한다. 울프 박사는 시민을 지배하려는 사악한 야망을 드러내며 자신의 압도적인 힘을 과시한다. 하지만 미코와 료는 서로를 도와가며 울프 박사와 싸우고 그의 약점을 찾아낸다.\\n', doc_id='49e15b8f-9a07-41fc-8ea6-cfa5166a6d49', embedding=None, doc_hash='751d8b9d08df98417fd7c46dcb76c654e86a83a222af81815360ab1a6586ba52', extra_info=None), Document(text='제6장: 진실의 해방\\n\\n미코는 울프 박사의 약점을 파고들어 그를 쓰러뜨리는데 성공한다. 그리고 해커 집단과 함께 울프 코퍼레이션의 악행을 세상에 공개하고 시민들을 해방시킨다. 이 승리로 미코의 어머니의 치료법도 찾아내고, 그녀의 병은 완치된다.\\n', doc_id='e0569aae-88cf-491f-9355-2335cdccb88e', embedding=None, doc_hash='72f641a4cbb6be35a1452c6b10682d11e7dfe9d4e6166608786416766fd3b8ef', extra_info=None), Document(text='제7장: 새로운 시작\\n\\n울프 코퍼레이션이 무너진 후, 미코와 료는 서로의 과거를 용서하고 다시 우정을 회복한다. 미코는 데이터카우리아를 그만두고 료와 함께 새로운 길을 걷기 시작한다. 그들은 스스로의 힘으로 미래의 네오 도쿄를 더 나은 도시로 바꾸어 나갈 것을 다짐한다. 이것은 미코와 료, 그리고 전뇌 빨간 망토의 새로운 모험의 시작이었다.\\n', doc_id='877c5bfb-5319-4649-8b29-831000c8df36', embedding=None, doc_hash='a964394ddd734db0c238072cc755138157c2ad1e580750edabd5ea6862c73ced', extra_info=None)]\n"
     ]
    }
   ],
   "source": [
    "from llama_index import SimpleDirectoryReader\n",
    "\n",
    "# 문서 불러오기\n",
    "documents = SimpleDirectoryReader(\"data\").load_data()\n",
    "print(\"documents :\", documents)"
   ]
  },
  {
   "cell_type": "code",
   "execution_count": 9,
   "metadata": {
    "id": "VfNBjpyaXC1N"
   },
   "outputs": [
    {
     "name": "stdout",
     "output_type": "stream",
     "text": [
      "WARNING:llama_index.llm_predictor.base:Unknown max input size for gpt-3.5-turbo, using defaults.\n",
      "DEBUG:llama_index.node_parser.node_utils:> Adding chunk: 제1장: 데이터 프론트\n",
      "\n",
      "밤이 되면 반짝이는 네오 도쿄. 고층 빌딩이 늘어서고, 네온...\n",
      "DEBUG:llama_index.node_parser.node_utils:> Adding chunk: 제2장: 울프 코퍼레이션의 함정\n",
      "\n",
      "미코는 목적지인 술집 '할머니의 집'으로 향하는 길...\n",
      "DEBUG:llama_index.node_parser.node_utils:> Adding chunk: 제3장: 배신과 재회\n",
      "\n",
      "술집 '할머니의 집'에서 미코는 데이터를 받을 사람인 료를 기...\n",
      "DEBUG:llama_index.node_parser.node_utils:> Adding chunk: 제4장: 울프 코퍼레이션의 붕괴\n",
      "\n",
      "미코와 료는 해커 집단과 함께 울프 코퍼레이션에 대...\n",
      "DEBUG:llama_index.node_parser.node_utils:> Adding chunk: 제5장: 결전의 순간\n",
      "\n",
      "미코와 료는 마침내 울프 코퍼레이션의 최상층에 도착해 CEO인...\n",
      "DEBUG:llama_index.node_parser.node_utils:> Adding chunk: 제6장: 진실의 해방\n",
      "\n",
      "미코는 울프 박사의 약점을 파고들어 그를 쓰러뜨리는데 성공한다...\n",
      "DEBUG:llama_index.node_parser.node_utils:> Adding chunk: 제7장: 새로운 시작\n",
      "\n",
      "울프 코퍼레이션이 무너진 후, 미코와 료는 서로의 과거를 용서...\n",
      "DEBUG:openai:message='Request to OpenAI API' method=post path=https://api.openai.com/v1/embeddings\n",
      "DEBUG:openai:api_version=None data='{\"input\": [\"\\\\uc81c1\\\\uc7a5: \\\\ub370\\\\uc774\\\\ud130 \\\\ud504\\\\ub860\\\\ud2b8  \\\\ubc24\\\\uc774 \\\\ub418\\\\uba74 \\\\ubc18\\\\uc9dd\\\\uc774\\\\ub294 \\\\ub124\\\\uc624 \\\\ub3c4\\\\ucfc4. \\\\uace0\\\\uce35 \\\\ube4c\\\\ub529\\\\uc774 \\\\ub298\\\\uc5b4\\\\uc11c\\\\uace0, \\\\ub124\\\\uc628\\\\uc0ac\\\\uc778\\\\uc774 \\\\uac70\\\\ub9ac\\\\ub97c \\\\uc218\\\\ub193\\\\ub294\\\\ub2e4. \\\\uadf8 \\\\uac70\\\\ub9ac\\\\uc5d0\\\\uc11c \\\\ube68\\\\uac04 \\\\ub450\\\\uac74\\\\uc744 \\\\uc4f4 \\\\uc18c\\\\ub140 \\\\ubbf8\\\\ucf54\\\\ub294 \\\\ubd88\\\\ubc95 \\\\ub370\\\\uc774\\\\ud130 \\\\uce74\\\\uc6b0\\\\ub9ac\\\\uc544\\\\ub97c \\\\uc6b4\\\\ubc18\\\\ud558\\\\ub294 \\\\ubc30\\\\ub2ec\\\\uc6d0\\\\uc73c\\\\ub85c \\\\uc77c\\\\ud558\\\\uace0 \\\\uc788\\\\uc5c8\\\\ub2e4. \\\\uadf8\\\\ub140\\\\ub294 \\\\uc5b4\\\\uba38\\\\ub2c8\\\\uac00 \\\\ubcd1\\\\uc5d0 \\\\uac78\\\\ub824 \\\\uce58\\\\ub8cc\\\\ube44\\\\ub97c \\\\ubc8c\\\\uae30 \\\\uc704\\\\ud574 \\\\ub370\\\\uc774\\\\ud130\\\\uce74\\\\uc6b0\\\\ub9ac\\\\uc544\\\\uc5d0 \\\\ubab8\\\\uc744 \\\\ub358\\\\uc9c0\\\\uace0 \\\\uc788\\\\uc5c8\\\\ub2e4.  \\\\uadf8\\\\ub7ec\\\\ub358 \\\\uc5b4\\\\ub290 \\\\ub0a0, \\\\ubbf8\\\\ucf54\\\\ub294 \\\\uc911\\\\uc694\\\\ud55c \\\\ub370\\\\uc774\\\\ud130\\\\ub97c \\\\uc6b4\\\\ubc18\\\\ud558\\\\ub294 \\\\uc784\\\\ubb34\\\\ub97c \\\\ub9e1\\\\uac8c \\\\ub41c\\\\ub2e4. \\\\uadf8 \\\\ub370\\\\uc774\\\\ud130\\\\uc5d0\\\\ub294 \\\\uac70\\\\ub300 \\\\uae30\\\\uc5c5 \\'\\\\uc6b8\\\\ud504 \\\\ucf54\\\\ud37c\\\\ub808\\\\uc774\\\\uc158\\'\\\\uc758 \\\\uc2dc\\\\ubbfc\\\\uc5d0 \\\\ub300\\\\ud55c \\\\uc545\\\\ub784\\\\ud55c \\\\uc9c0\\\\ubc30\\\\ub97c \\\\ud3ed\\\\ub85c\\\\ud558\\\\ub294 \\\\uc815\\\\ubcf4\\\\uac00 \\\\ub2f4\\\\uaca8 \\\\uc788\\\\uc5c8\\\\ub2e4. \\\\uadf8\\\\ub140\\\\ub294 \\\\ub370\\\\uc774\\\\ud130\\\\ub97c \\\\ubc1b\\\\uc544 \\\\ubaa9\\\\uc801\\\\uc9c0\\\\ub85c \\\\ud5a5\\\\ud55c\\\\ub2e4. \", \"\\\\uc81c2\\\\uc7a5: \\\\uc6b8\\\\ud504 \\\\ucf54\\\\ud37c\\\\ub808\\\\uc774\\\\uc158\\\\uc758 \\\\ud568\\\\uc815  \\\\ubbf8\\\\ucf54\\\\ub294 \\\\ubaa9\\\\uc801\\\\uc9c0\\\\uc778 \\\\uc220\\\\uc9d1 \\'\\\\ud560\\\\uba38\\\\ub2c8\\\\uc758 \\\\uc9d1\\'\\\\uc73c\\\\ub85c \\\\ud5a5\\\\ud558\\\\ub294 \\\\uae38\\\\uc5d0 \\\\uc6b8\\\\ud504 \\\\ucf54\\\\ud37c\\\\ub808\\\\uc774\\\\uc158\\\\uc758 \\\\uc694\\\\uc6d0\\\\ub4e4\\\\uc5d0\\\\uac8c \\\\ucad3\\\\uae30\\\\uac8c \\\\ub41c\\\\ub2e4. \\\\uadf8\\\\ub4e4\\\\uc740 \\'\\\\ube68\\\\uac04 \\\\ub9dd\\\\ud1a0\\'\\\\ub77c\\\\ub294 \\\\ub370\\\\uc774\\\\ud130 \\\\uce74\\\\uc6b0\\\\ub9ac\\\\uc544\\\\uc5d0 \\\\ub300\\\\ud55c \\\\uc18c\\\\ubb38\\\\uc744 \\\\ub4e3\\\\uace0 \\\\ub370\\\\uc774\\\\ud130\\\\ub97c \\\\ud0c8\\\\ucde8\\\\ud558\\\\ub824 \\\\ud588\\\\ub2e4. \\\\ubbf8\\\\ucf54\\\\ub294 \\\\uad50\\\\ubb18\\\\ud558\\\\uac8c \\\\uc694\\\\uc6d0\\\\ub4e4\\\\uc744 \\\\ud769\\\\ubfcc\\\\ub9ac\\\\uace0 \\\\uc220\\\\uc9d1\\\\uc5d0 \\\\ub3c4\\\\ucc29\\\\ud55c\\\\ub2e4. \", \"\\\\uc81c3\\\\uc7a5: \\\\ubc30\\\\uc2e0\\\\uacfc \\\\uc7ac\\\\ud68c  \\\\uc220\\\\uc9d1 \\'\\\\ud560\\\\uba38\\\\ub2c8\\\\uc758 \\\\uc9d1\\'\\\\uc5d0\\\\uc11c \\\\ubbf8\\\\ucf54\\\\ub294 \\\\ub370\\\\uc774\\\\ud130\\\\ub97c \\\\ubc1b\\\\uc744 \\\\uc0ac\\\\ub78c\\\\uc778 \\\\ub8cc\\\\ub97c \\\\uae30\\\\ub2e4\\\\ub9ac\\\\uace0 \\\\uc788\\\\uc5c8\\\\ub2e4. \\\\ub8cc\\\\ub294 \\\\uadf8\\\\ub140\\\\uc758 \\\\uc5b4\\\\ub9b4 \\\\uc801 \\\\uce5c\\\\uad6c\\\\uc774\\\\uc790 \\\\uadf8 \\\\uc5ed\\\\uc2dc \\\\uc6b8\\\\ud504 \\\\ucf54\\\\ud37c\\\\ub808\\\\uc774\\\\uc158\\\\uacfc \\\\uc2f8\\\\uc6b0\\\\ub294 \\\\ud574\\\\ucee4 \\\\uc9d1\\\\ub2e8\\\\uc758 \\\\uc77c\\\\uc6d0\\\\uc774\\\\uc5c8\\\\ub2e4. \\\\ud558\\\\uc9c0\\\\ub9cc \\\\ub8cc\\\\ub294 \\\\ubbf8\\\\ucf54\\\\uc5d0\\\\uac8c \\\\ubc30\\\\uc2e0\\\\uac10\\\\uc744 \\\\ub290\\\\uaf08\\\\uace0, \\\\uadf8\\\\ub140\\\\uac00 \\\\ub370\\\\uc774\\\\ud130 \\\\uce74\\\\uc6b0\\\\ub9ac\\\\uc544\\\\uc5d0 \\\\ubab8\\\\uc744 \\\\ub358\\\\uc9c4 \\\\uac83\\\\uc5d0 \\\\ud654\\\\uac00 \\\\ub0ac\\\\ub2e4.  \\\\uadf8\\\\ub7fc\\\\uc5d0\\\\ub3c4 \\\\ubd88\\\\uad6c\\\\ud558\\\\uace0 \\\\ubbf8\\\\ucf54\\\\ub294 \\\\ub8cc\\\\uc5d0\\\\uac8c \\\\ub370\\\\uc774\\\\ud130\\\\ub97c \\\\uac74\\\\ub124\\\\uba70 \\\\uc6b8\\\\ud504 \\\\ucf54\\\\ud37c\\\\ub808\\\\uc774\\\\uc158\\\\uc5d0 \\\\ub300\\\\ud55c \\\\ubc18\\\\uaca9\\\\uc744 \\\\ubbff\\\\uae30\\\\ub85c \\\\ud55c\\\\ub2e4. \\\\ub450 \\\\uc0ac\\\\ub78c\\\\uc740 \\\\ud568\\\\uaed8 \\\\uc6b8\\\\ud504 \\\\ucf54\\\\ud37c\\\\ub808\\\\uc774\\\\uc158\\\\uc758 \\\\uc74c\\\\ubaa8\\\\ub97c \\\\ubc1d\\\\ud600\\\\ub0b4\\\\uace0 \\\\uc2dc\\\\ubbfc\\\\ub4e4\\\\uc744 \\\\uad6c\\\\ud558\\\\uae30\\\\ub85c \\\\uacb0\\\\uc2ec\\\\ud55c\\\\ub2e4. \", \"\\\\uc81c4\\\\uc7a5: \\\\uc6b8\\\\ud504 \\\\ucf54\\\\ud37c\\\\ub808\\\\uc774\\\\uc158\\\\uc758 \\\\ubd95\\\\uad34  \\\\ubbf8\\\\ucf54\\\\uc640 \\\\ub8cc\\\\ub294 \\\\ud574\\\\ucee4 \\\\uc9d1\\\\ub2e8\\\\uacfc \\\\ud568\\\\uaed8 \\\\uc6b8\\\\ud504 \\\\ucf54\\\\ud37c\\\\ub808\\\\uc774\\\\uc158\\\\uc5d0 \\\\ub300\\\\ud55c \\\\ucd5c\\\\ud6c4\\\\uc758 \\\\uacb0\\\\uc804\\\\uc744 \\\\ubc8c\\\\uc778\\\\ub2e4. \\\\ub2a5\\\\uc219\\\\ud55c \\\\ud574\\\\ud0b9 \\\\uae30\\\\uc220\\\\uacfc \\\\uc2e0\\\\uccb4 \\\\ub2a5\\\\ub825\\\\uc73c\\\\ub85c \\\\uadf8\\\\ub4e4\\\\uc740 \\\\uc6b8\\\\ud504 \\\\ucf54\\\\ud37c\\\\ub808\\\\uc774\\\\uc158\\\\uc758 \\\\ubcf4\\\\uc548\\\\uc744 \\\\ucc28\\\\ub840\\\\ub85c \\\\ub6ab\\\\uc5b4 \\\\ub098\\\\uac04\\\\ub2e4. \\\\uadf8 \\\\uacfc\\\\uc815\\\\uc5d0\\\\uc11c \\\\ubbf8\\\\ucf54\\\\ub294 \\\\uc6b8\\\\ud504 \\\\ucf54\\\\ud37c\\\\ub808\\\\uc774\\\\uc158\\\\uc774 \\\\uc5b4\\\\uba38\\\\ub2c8\\\\uc758 \\\\ubcd1\\\\uc5d0 \\\\uad00\\\\uc5ec\\\\ud558\\\\uace0 \\\\uc788\\\\ub2e4\\\\ub294 \\\\uc0ac\\\\uc2e4\\\\uc744 \\\\uc54c\\\\uac8c \\\\ub41c\\\\ub2e4. \\\\uadf8\\\\ub140\\\\ub294 \\\\ubd84\\\\ub178\\\\uc5d0 \\\\ud729\\\\uc2f8\\\\uc5ec \\\\uc6b8\\\\ud504\\\\ucf54\\\\ud37c\\\\ub808\\\\uc774\\\\uc158\\\\uc5d0 \\\\ub300\\\\ud55c \\\\ubcf5\\\\uc218\\\\ub97c \\\\ub2e4\\\\uc9d0\\\\ud55c\\\\ub2e4. \", \"\\\\uc81c5\\\\uc7a5: \\\\uacb0\\\\uc804\\\\uc758 \\\\uc21c\\\\uac04  \\\\ubbf8\\\\ucf54\\\\uc640 \\\\ub8cc\\\\ub294 \\\\ub9c8\\\\uce68\\\\ub0b4 \\\\uc6b8\\\\ud504 \\\\ucf54\\\\ud37c\\\\ub808\\\\uc774\\\\uc158\\\\uc758 \\\\ucd5c\\\\uc0c1\\\\uce35\\\\uc5d0 \\\\ub3c4\\\\ucc29\\\\ud574 CEO\\\\uc778 \\\\uad50\\\\ud65c\\\\ud55c \\\\uc6b8\\\\ud504 \\\\ubc15\\\\uc0ac\\\\uc640 \\\\ub300\\\\uba74\\\\ud55c\\\\ub2e4. \\\\uc6b8\\\\ud504 \\\\ubc15\\\\uc0ac\\\\ub294 \\\\uc2dc\\\\ubbfc\\\\uc744 \\\\uc9c0\\\\ubc30\\\\ud558\\\\ub824\\\\ub294 \\\\uc0ac\\\\uc545\\\\ud55c \\\\uc57c\\\\ub9dd\\\\uc744 \\\\ub4dc\\\\ub7ec\\\\ub0b4\\\\uba70 \\\\uc790\\\\uc2e0\\\\uc758 \\\\uc555\\\\ub3c4\\\\uc801\\\\uc778 \\\\ud798\\\\uc744 \\\\uacfc\\\\uc2dc\\\\ud55c\\\\ub2e4. \\\\ud558\\\\uc9c0\\\\ub9cc \\\\ubbf8\\\\ucf54\\\\uc640 \\\\ub8cc\\\\ub294 \\\\uc11c\\\\ub85c\\\\ub97c \\\\ub3c4\\\\uc640\\\\uac00\\\\uba70 \\\\uc6b8\\\\ud504 \\\\ubc15\\\\uc0ac\\\\uc640 \\\\uc2f8\\\\uc6b0\\\\uace0 \\\\uadf8\\\\uc758 \\\\uc57d\\\\uc810\\\\uc744 \\\\ucc3e\\\\uc544\\\\ub0b8\\\\ub2e4. \", \"\\\\uc81c6\\\\uc7a5: \\\\uc9c4\\\\uc2e4\\\\uc758 \\\\ud574\\\\ubc29  \\\\ubbf8\\\\ucf54\\\\ub294 \\\\uc6b8\\\\ud504 \\\\ubc15\\\\uc0ac\\\\uc758 \\\\uc57d\\\\uc810\\\\uc744 \\\\ud30c\\\\uace0\\\\ub4e4\\\\uc5b4 \\\\uadf8\\\\ub97c \\\\uc4f0\\\\ub7ec\\\\ub728\\\\ub9ac\\\\ub294\\\\ub370 \\\\uc131\\\\uacf5\\\\ud55c\\\\ub2e4. \\\\uadf8\\\\ub9ac\\\\uace0 \\\\ud574\\\\ucee4 \\\\uc9d1\\\\ub2e8\\\\uacfc \\\\ud568\\\\uaed8 \\\\uc6b8\\\\ud504 \\\\ucf54\\\\ud37c\\\\ub808\\\\uc774\\\\uc158\\\\uc758 \\\\uc545\\\\ud589\\\\uc744 \\\\uc138\\\\uc0c1\\\\uc5d0 \\\\uacf5\\\\uac1c\\\\ud558\\\\uace0 \\\\uc2dc\\\\ubbfc\\\\ub4e4\\\\uc744 \\\\ud574\\\\ubc29\\\\uc2dc\\\\ud0a8\\\\ub2e4. \\\\uc774 \\\\uc2b9\\\\ub9ac\\\\ub85c \\\\ubbf8\\\\ucf54\\\\uc758 \\\\uc5b4\\\\uba38\\\\ub2c8\\\\uc758 \\\\uce58\\\\ub8cc\\\\ubc95\\\\ub3c4 \\\\ucc3e\\\\uc544\\\\ub0b4\\\\uace0, \\\\uadf8\\\\ub140\\\\uc758 \\\\ubcd1\\\\uc740 \\\\uc644\\\\uce58\\\\ub41c\\\\ub2e4. \", \"\\\\uc81c7\\\\uc7a5: \\\\uc0c8\\\\ub85c\\\\uc6b4 \\\\uc2dc\\\\uc791  \\\\uc6b8\\\\ud504 \\\\ucf54\\\\ud37c\\\\ub808\\\\uc774\\\\uc158\\\\uc774 \\\\ubb34\\\\ub108\\\\uc9c4 \\\\ud6c4, \\\\ubbf8\\\\ucf54\\\\uc640 \\\\ub8cc\\\\ub294 \\\\uc11c\\\\ub85c\\\\uc758 \\\\uacfc\\\\uac70\\\\ub97c \\\\uc6a9\\\\uc11c\\\\ud558\\\\uace0 \\\\ub2e4\\\\uc2dc \\\\uc6b0\\\\uc815\\\\uc744 \\\\ud68c\\\\ubcf5\\\\ud55c\\\\ub2e4. \\\\ubbf8\\\\ucf54\\\\ub294 \\\\ub370\\\\uc774\\\\ud130\\\\uce74\\\\uc6b0\\\\ub9ac\\\\uc544\\\\ub97c \\\\uadf8\\\\ub9cc\\\\ub450\\\\uace0 \\\\ub8cc\\\\uc640 \\\\ud568\\\\uaed8 \\\\uc0c8\\\\ub85c\\\\uc6b4 \\\\uae38\\\\uc744 \\\\uac77\\\\uae30 \\\\uc2dc\\\\uc791\\\\ud55c\\\\ub2e4. \\\\uadf8\\\\ub4e4\\\\uc740 \\\\uc2a4\\\\uc2a4\\\\ub85c\\\\uc758 \\\\ud798\\\\uc73c\\\\ub85c \\\\ubbf8\\\\ub798\\\\uc758 \\\\ub124\\\\uc624 \\\\ub3c4\\\\ucfc4\\\\ub97c \\\\ub354 \\\\ub098\\\\uc740 \\\\ub3c4\\\\uc2dc\\\\ub85c \\\\ubc14\\\\uafb8\\\\uc5b4 \\\\ub098\\\\uac08 \\\\uac83\\\\uc744 \\\\ub2e4\\\\uc9d0\\\\ud55c\\\\ub2e4. \\\\uc774\\\\uac83\\\\uc740 \\\\ubbf8\\\\ucf54\\\\uc640 \\\\ub8cc, \\\\uadf8\\\\ub9ac\\\\uace0 \\\\uc804\\\\ub1cc \\\\ube68\\\\uac04 \\\\ub9dd\\\\ud1a0\\\\uc758 \\\\uc0c8\\\\ub85c\\\\uc6b4 \\\\ubaa8\\\\ud5d8\\\\uc758 \\\\uc2dc\\\\uc791\\\\uc774\\\\uc5c8\\\\ub2e4. \"], \"model\": \"text-embedding-ada-002\", \"encoding_format\": \"base64\"}' message='Post details'\n"
     ]
    },
    {
     "name": "stdout",
     "output_type": "stream",
     "text": [
      "DEBUG:urllib3.connectionpool:https://api.openai.com:443 \"POST /v1/embeddings HTTP/1.1\" 200 None\n",
      "DEBUG:openai:message='OpenAI API response' path=https://api.openai.com/v1/embeddings processing_ms=82 request_id=2acdda58d77abdb8596a6551fad31c19 response_code=200\n",
      "INFO:llama_index.token_counter.token_counter:> [build_index_from_nodes] Total LLM token usage: 0 tokens\n",
      "INFO:llama_index.token_counter.token_counter:> [build_index_from_nodes] Total embedding token usage: 2888 tokens\n"
     ]
    }
   ],
   "source": [
    "from llama_index import LLMPredictor, ServiceContext\n",
    "from langchain.chat_models import ChatOpenAI\n",
    "\n",
    "# LLMPredictor 준비\n",
    "llm_predictor = LLMPredictor(llm=ChatOpenAI(\n",
    "    temperature=0,  # 온도\n",
    "    model_name=\"gpt-3.5-turbo\" # 모델명\n",
    "))\n",
    "\n",
    "# ServiceContext 준비\n",
    "service_context = ServiceContext.from_defaults(\n",
    "    llm_predictor=llm_predictor, \n",
    ")\n",
    "\n",
    "# 인덱스 생성\n",
    "index = GPTVectorStoreIndex.from_documents(\n",
    "    documents, \n",
    "    service_context=service_context, \n",
    ")"
   ]
  },
  {
   "cell_type": "code",
   "execution_count": 10,
   "metadata": {
    "id": "1DVw2eyN_SMk"
   },
   "outputs": [
    {
     "name": "stdout",
     "output_type": "stream",
     "text": [
      "DEBUG:llama_index.node_parser.node_utils:> Adding chunk: 제1장: 데이터 프론트\n",
      "\n",
      "밤이 되면 반짝이는 네오 도쿄. 고층 빌딩이 늘어서고, 네온...\n",
      "DEBUG:llama_index.node_parser.node_utils:> Adding chunk: 제2장: 울프 코퍼레이션의 함정\n",
      "\n",
      "미코는 목적지인 술집 '할머니의 집'으로 향하는 길...\n",
      "DEBUG:llama_index.node_parser.node_utils:> Adding chunk: 제3장: 배신과 재회\n",
      "\n",
      "술집 '할머니의 집'에서 미코는 데이터를 받을 사람인 료를 기...\n",
      "DEBUG:llama_index.node_parser.node_utils:> Adding chunk: 제4장: 울프 코퍼레이션의 붕괴\n",
      "\n",
      "미코와 료는 해커 집단과 함께 울프 코퍼레이션에 대...\n",
      "DEBUG:llama_index.node_parser.node_utils:> Adding chunk: 제5장: 결전의 순간\n",
      "\n",
      "미코와 료는 마침내 울프 코퍼레이션의 최상층에 도착해 CEO인...\n",
      "DEBUG:llama_index.node_parser.node_utils:> Adding chunk: 제6장: 진실의 해방\n",
      "\n",
      "미코는 울프 박사의 약점을 파고들어 그를 쓰러뜨리는데 성공한다...\n",
      "DEBUG:llama_index.node_parser.node_utils:> Adding chunk: 제7장: 새로운 시작\n",
      "\n",
      "울프 코퍼레이션이 무너진 후, 미코와 료는 서로의 과거를 용서...\n",
      "DEBUG:openai:message='Request to OpenAI API' method=post path=https://api.openai.com/v1/embeddings\n",
      "DEBUG:openai:api_version=None data='{\"input\": [\"\\\\uc81c1\\\\uc7a5: \\\\ub370\\\\uc774\\\\ud130 \\\\ud504\\\\ub860\\\\ud2b8  \\\\ubc24\\\\uc774 \\\\ub418\\\\uba74 \\\\ubc18\\\\uc9dd\\\\uc774\\\\ub294 \\\\ub124\\\\uc624 \\\\ub3c4\\\\ucfc4. \\\\uace0\\\\uce35 \\\\ube4c\\\\ub529\\\\uc774 \\\\ub298\\\\uc5b4\\\\uc11c\\\\uace0, \\\\ub124\\\\uc628\\\\uc0ac\\\\uc778\\\\uc774 \\\\uac70\\\\ub9ac\\\\ub97c \\\\uc218\\\\ub193\\\\ub294\\\\ub2e4. \\\\uadf8 \\\\uac70\\\\ub9ac\\\\uc5d0\\\\uc11c \\\\ube68\\\\uac04 \\\\ub450\\\\uac74\\\\uc744 \\\\uc4f4 \\\\uc18c\\\\ub140 \\\\ubbf8\\\\ucf54\\\\ub294 \\\\ubd88\\\\ubc95 \\\\ub370\\\\uc774\\\\ud130 \\\\uce74\\\\uc6b0\\\\ub9ac\\\\uc544\\\\ub97c \\\\uc6b4\\\\ubc18\\\\ud558\\\\ub294 \\\\ubc30\\\\ub2ec\\\\uc6d0\\\\uc73c\\\\ub85c \\\\uc77c\\\\ud558\\\\uace0 \\\\uc788\\\\uc5c8\\\\ub2e4. \\\\uadf8\\\\ub140\\\\ub294 \\\\uc5b4\\\\uba38\\\\ub2c8\\\\uac00 \\\\ubcd1\\\\uc5d0 \\\\uac78\\\\ub824 \\\\uce58\\\\ub8cc\\\\ube44\\\\ub97c \\\\ubc8c\\\\uae30 \\\\uc704\\\\ud574 \\\\ub370\\\\uc774\\\\ud130\\\\uce74\\\\uc6b0\\\\ub9ac\\\\uc544\\\\uc5d0 \\\\ubab8\\\\uc744 \\\\ub358\\\\uc9c0\\\\uace0 \\\\uc788\\\\uc5c8\\\\ub2e4.  \\\\uadf8\\\\ub7ec\\\\ub358 \\\\uc5b4\\\\ub290 \\\\ub0a0, \\\\ubbf8\\\\ucf54\\\\ub294 \\\\uc911\\\\uc694\\\\ud55c \\\\ub370\\\\uc774\\\\ud130\\\\ub97c \\\\uc6b4\\\\ubc18\\\\ud558\\\\ub294 \\\\uc784\\\\ubb34\\\\ub97c \\\\ub9e1\\\\uac8c \\\\ub41c\\\\ub2e4. \\\\uadf8 \\\\ub370\\\\uc774\\\\ud130\\\\uc5d0\\\\ub294 \\\\uac70\\\\ub300 \\\\uae30\\\\uc5c5 \\'\\\\uc6b8\\\\ud504 \\\\ucf54\\\\ud37c\\\\ub808\\\\uc774\\\\uc158\\'\\\\uc758 \\\\uc2dc\\\\ubbfc\\\\uc5d0 \\\\ub300\\\\ud55c \\\\uc545\\\\ub784\\\\ud55c \\\\uc9c0\\\\ubc30\\\\ub97c \\\\ud3ed\\\\ub85c\\\\ud558\\\\ub294 \\\\uc815\\\\ubcf4\\\\uac00 \\\\ub2f4\\\\uaca8 \\\\uc788\\\\uc5c8\\\\ub2e4. \\\\uadf8\\\\ub140\\\\ub294 \\\\ub370\\\\uc774\\\\ud130\\\\ub97c \\\\ubc1b\\\\uc544 \\\\ubaa9\\\\uc801\\\\uc9c0\\\\ub85c \\\\ud5a5\\\\ud55c\\\\ub2e4. \", \"\\\\uc81c2\\\\uc7a5: \\\\uc6b8\\\\ud504 \\\\ucf54\\\\ud37c\\\\ub808\\\\uc774\\\\uc158\\\\uc758 \\\\ud568\\\\uc815  \\\\ubbf8\\\\ucf54\\\\ub294 \\\\ubaa9\\\\uc801\\\\uc9c0\\\\uc778 \\\\uc220\\\\uc9d1 \\'\\\\ud560\\\\uba38\\\\ub2c8\\\\uc758 \\\\uc9d1\\'\\\\uc73c\\\\ub85c \\\\ud5a5\\\\ud558\\\\ub294 \\\\uae38\\\\uc5d0 \\\\uc6b8\\\\ud504 \\\\ucf54\\\\ud37c\\\\ub808\\\\uc774\\\\uc158\\\\uc758 \\\\uc694\\\\uc6d0\\\\ub4e4\\\\uc5d0\\\\uac8c \\\\ucad3\\\\uae30\\\\uac8c \\\\ub41c\\\\ub2e4. \\\\uadf8\\\\ub4e4\\\\uc740 \\'\\\\ube68\\\\uac04 \\\\ub9dd\\\\ud1a0\\'\\\\ub77c\\\\ub294 \\\\ub370\\\\uc774\\\\ud130 \\\\uce74\\\\uc6b0\\\\ub9ac\\\\uc544\\\\uc5d0 \\\\ub300\\\\ud55c \\\\uc18c\\\\ubb38\\\\uc744 \\\\ub4e3\\\\uace0 \\\\ub370\\\\uc774\\\\ud130\\\\ub97c \\\\ud0c8\\\\ucde8\\\\ud558\\\\ub824 \\\\ud588\\\\ub2e4. \\\\ubbf8\\\\ucf54\\\\ub294 \\\\uad50\\\\ubb18\\\\ud558\\\\uac8c \\\\uc694\\\\uc6d0\\\\ub4e4\\\\uc744 \\\\ud769\\\\ubfcc\\\\ub9ac\\\\uace0 \\\\uc220\\\\uc9d1\\\\uc5d0 \\\\ub3c4\\\\ucc29\\\\ud55c\\\\ub2e4. \", \"\\\\uc81c3\\\\uc7a5: \\\\ubc30\\\\uc2e0\\\\uacfc \\\\uc7ac\\\\ud68c  \\\\uc220\\\\uc9d1 \\'\\\\ud560\\\\uba38\\\\ub2c8\\\\uc758 \\\\uc9d1\\'\\\\uc5d0\\\\uc11c \\\\ubbf8\\\\ucf54\\\\ub294 \\\\ub370\\\\uc774\\\\ud130\\\\ub97c \\\\ubc1b\\\\uc744 \\\\uc0ac\\\\ub78c\\\\uc778 \\\\ub8cc\\\\ub97c \\\\uae30\\\\ub2e4\\\\ub9ac\\\\uace0 \\\\uc788\\\\uc5c8\\\\ub2e4. \\\\ub8cc\\\\ub294 \\\\uadf8\\\\ub140\\\\uc758 \\\\uc5b4\\\\ub9b4 \\\\uc801 \\\\uce5c\\\\uad6c\\\\uc774\\\\uc790 \\\\uadf8 \\\\uc5ed\\\\uc2dc \\\\uc6b8\\\\ud504 \\\\ucf54\\\\ud37c\\\\ub808\\\\uc774\\\\uc158\\\\uacfc \\\\uc2f8\\\\uc6b0\\\\ub294 \\\\ud574\\\\ucee4 \\\\uc9d1\\\\ub2e8\\\\uc758 \\\\uc77c\\\\uc6d0\\\\uc774\\\\uc5c8\\\\ub2e4. \\\\ud558\\\\uc9c0\\\\ub9cc \\\\ub8cc\\\\ub294 \\\\ubbf8\\\\ucf54\\\\uc5d0\\\\uac8c \\\\ubc30\\\\uc2e0\\\\uac10\\\\uc744 \\\\ub290\\\\uaf08\\\\uace0, \\\\uadf8\\\\ub140\\\\uac00 \\\\ub370\\\\uc774\\\\ud130 \\\\uce74\\\\uc6b0\\\\ub9ac\\\\uc544\\\\uc5d0 \\\\ubab8\\\\uc744 \\\\ub358\\\\uc9c4 \\\\uac83\\\\uc5d0 \\\\ud654\\\\uac00 \\\\ub0ac\\\\ub2e4.  \\\\uadf8\\\\ub7fc\\\\uc5d0\\\\ub3c4 \\\\ubd88\\\\uad6c\\\\ud558\\\\uace0 \\\\ubbf8\\\\ucf54\\\\ub294 \\\\ub8cc\\\\uc5d0\\\\uac8c \\\\ub370\\\\uc774\\\\ud130\\\\ub97c \\\\uac74\\\\ub124\\\\uba70 \\\\uc6b8\\\\ud504 \\\\ucf54\\\\ud37c\\\\ub808\\\\uc774\\\\uc158\\\\uc5d0 \\\\ub300\\\\ud55c \\\\ubc18\\\\uaca9\\\\uc744 \\\\ubbff\\\\uae30\\\\ub85c \\\\ud55c\\\\ub2e4. \\\\ub450 \\\\uc0ac\\\\ub78c\\\\uc740 \\\\ud568\\\\uaed8 \\\\uc6b8\\\\ud504 \\\\ucf54\\\\ud37c\\\\ub808\\\\uc774\\\\uc158\\\\uc758 \\\\uc74c\\\\ubaa8\\\\ub97c \\\\ubc1d\\\\ud600\\\\ub0b4\\\\uace0 \\\\uc2dc\\\\ubbfc\\\\ub4e4\\\\uc744 \\\\uad6c\\\\ud558\\\\uae30\\\\ub85c \\\\uacb0\\\\uc2ec\\\\ud55c\\\\ub2e4. \", \"\\\\uc81c4\\\\uc7a5: \\\\uc6b8\\\\ud504 \\\\ucf54\\\\ud37c\\\\ub808\\\\uc774\\\\uc158\\\\uc758 \\\\ubd95\\\\uad34  \\\\ubbf8\\\\ucf54\\\\uc640 \\\\ub8cc\\\\ub294 \\\\ud574\\\\ucee4 \\\\uc9d1\\\\ub2e8\\\\uacfc \\\\ud568\\\\uaed8 \\\\uc6b8\\\\ud504 \\\\ucf54\\\\ud37c\\\\ub808\\\\uc774\\\\uc158\\\\uc5d0 \\\\ub300\\\\ud55c \\\\ucd5c\\\\ud6c4\\\\uc758 \\\\uacb0\\\\uc804\\\\uc744 \\\\ubc8c\\\\uc778\\\\ub2e4. \\\\ub2a5\\\\uc219\\\\ud55c \\\\ud574\\\\ud0b9 \\\\uae30\\\\uc220\\\\uacfc \\\\uc2e0\\\\uccb4 \\\\ub2a5\\\\ub825\\\\uc73c\\\\ub85c \\\\uadf8\\\\ub4e4\\\\uc740 \\\\uc6b8\\\\ud504 \\\\ucf54\\\\ud37c\\\\ub808\\\\uc774\\\\uc158\\\\uc758 \\\\ubcf4\\\\uc548\\\\uc744 \\\\ucc28\\\\ub840\\\\ub85c \\\\ub6ab\\\\uc5b4 \\\\ub098\\\\uac04\\\\ub2e4. \\\\uadf8 \\\\uacfc\\\\uc815\\\\uc5d0\\\\uc11c \\\\ubbf8\\\\ucf54\\\\ub294 \\\\uc6b8\\\\ud504 \\\\ucf54\\\\ud37c\\\\ub808\\\\uc774\\\\uc158\\\\uc774 \\\\uc5b4\\\\uba38\\\\ub2c8\\\\uc758 \\\\ubcd1\\\\uc5d0 \\\\uad00\\\\uc5ec\\\\ud558\\\\uace0 \\\\uc788\\\\ub2e4\\\\ub294 \\\\uc0ac\\\\uc2e4\\\\uc744 \\\\uc54c\\\\uac8c \\\\ub41c\\\\ub2e4. \\\\uadf8\\\\ub140\\\\ub294 \\\\ubd84\\\\ub178\\\\uc5d0 \\\\ud729\\\\uc2f8\\\\uc5ec \\\\uc6b8\\\\ud504\\\\ucf54\\\\ud37c\\\\ub808\\\\uc774\\\\uc158\\\\uc5d0 \\\\ub300\\\\ud55c \\\\ubcf5\\\\uc218\\\\ub97c \\\\ub2e4\\\\uc9d0\\\\ud55c\\\\ub2e4. \", \"\\\\uc81c5\\\\uc7a5: \\\\uacb0\\\\uc804\\\\uc758 \\\\uc21c\\\\uac04  \\\\ubbf8\\\\ucf54\\\\uc640 \\\\ub8cc\\\\ub294 \\\\ub9c8\\\\uce68\\\\ub0b4 \\\\uc6b8\\\\ud504 \\\\ucf54\\\\ud37c\\\\ub808\\\\uc774\\\\uc158\\\\uc758 \\\\ucd5c\\\\uc0c1\\\\uce35\\\\uc5d0 \\\\ub3c4\\\\ucc29\\\\ud574 CEO\\\\uc778 \\\\uad50\\\\ud65c\\\\ud55c \\\\uc6b8\\\\ud504 \\\\ubc15\\\\uc0ac\\\\uc640 \\\\ub300\\\\uba74\\\\ud55c\\\\ub2e4. \\\\uc6b8\\\\ud504 \\\\ubc15\\\\uc0ac\\\\ub294 \\\\uc2dc\\\\ubbfc\\\\uc744 \\\\uc9c0\\\\ubc30\\\\ud558\\\\ub824\\\\ub294 \\\\uc0ac\\\\uc545\\\\ud55c \\\\uc57c\\\\ub9dd\\\\uc744 \\\\ub4dc\\\\ub7ec\\\\ub0b4\\\\uba70 \\\\uc790\\\\uc2e0\\\\uc758 \\\\uc555\\\\ub3c4\\\\uc801\\\\uc778 \\\\ud798\\\\uc744 \\\\uacfc\\\\uc2dc\\\\ud55c\\\\ub2e4. \\\\ud558\\\\uc9c0\\\\ub9cc \\\\ubbf8\\\\ucf54\\\\uc640 \\\\ub8cc\\\\ub294 \\\\uc11c\\\\ub85c\\\\ub97c \\\\ub3c4\\\\uc640\\\\uac00\\\\uba70 \\\\uc6b8\\\\ud504 \\\\ubc15\\\\uc0ac\\\\uc640 \\\\uc2f8\\\\uc6b0\\\\uace0 \\\\uadf8\\\\uc758 \\\\uc57d\\\\uc810\\\\uc744 \\\\ucc3e\\\\uc544\\\\ub0b8\\\\ub2e4. \", \"\\\\uc81c6\\\\uc7a5: \\\\uc9c4\\\\uc2e4\\\\uc758 \\\\ud574\\\\ubc29  \\\\ubbf8\\\\ucf54\\\\ub294 \\\\uc6b8\\\\ud504 \\\\ubc15\\\\uc0ac\\\\uc758 \\\\uc57d\\\\uc810\\\\uc744 \\\\ud30c\\\\uace0\\\\ub4e4\\\\uc5b4 \\\\uadf8\\\\ub97c \\\\uc4f0\\\\ub7ec\\\\ub728\\\\ub9ac\\\\ub294\\\\ub370 \\\\uc131\\\\uacf5\\\\ud55c\\\\ub2e4. \\\\uadf8\\\\ub9ac\\\\uace0 \\\\ud574\\\\ucee4 \\\\uc9d1\\\\ub2e8\\\\uacfc \\\\ud568\\\\uaed8 \\\\uc6b8\\\\ud504 \\\\ucf54\\\\ud37c\\\\ub808\\\\uc774\\\\uc158\\\\uc758 \\\\uc545\\\\ud589\\\\uc744 \\\\uc138\\\\uc0c1\\\\uc5d0 \\\\uacf5\\\\uac1c\\\\ud558\\\\uace0 \\\\uc2dc\\\\ubbfc\\\\ub4e4\\\\uc744 \\\\ud574\\\\ubc29\\\\uc2dc\\\\ud0a8\\\\ub2e4. \\\\uc774 \\\\uc2b9\\\\ub9ac\\\\ub85c \\\\ubbf8\\\\ucf54\\\\uc758 \\\\uc5b4\\\\uba38\\\\ub2c8\\\\uc758 \\\\uce58\\\\ub8cc\\\\ubc95\\\\ub3c4 \\\\ucc3e\\\\uc544\\\\ub0b4\\\\uace0, \\\\uadf8\\\\ub140\\\\uc758 \\\\ubcd1\\\\uc740 \\\\uc644\\\\uce58\\\\ub41c\\\\ub2e4. \", \"\\\\uc81c7\\\\uc7a5: \\\\uc0c8\\\\ub85c\\\\uc6b4 \\\\uc2dc\\\\uc791  \\\\uc6b8\\\\ud504 \\\\ucf54\\\\ud37c\\\\ub808\\\\uc774\\\\uc158\\\\uc774 \\\\ubb34\\\\ub108\\\\uc9c4 \\\\ud6c4, \\\\ubbf8\\\\ucf54\\\\uc640 \\\\ub8cc\\\\ub294 \\\\uc11c\\\\ub85c\\\\uc758 \\\\uacfc\\\\uac70\\\\ub97c \\\\uc6a9\\\\uc11c\\\\ud558\\\\uace0 \\\\ub2e4\\\\uc2dc \\\\uc6b0\\\\uc815\\\\uc744 \\\\ud68c\\\\ubcf5\\\\ud55c\\\\ub2e4. \\\\ubbf8\\\\ucf54\\\\ub294 \\\\ub370\\\\uc774\\\\ud130\\\\uce74\\\\uc6b0\\\\ub9ac\\\\uc544\\\\ub97c \\\\uadf8\\\\ub9cc\\\\ub450\\\\uace0 \\\\ub8cc\\\\uc640 \\\\ud568\\\\uaed8 \\\\uc0c8\\\\ub85c\\\\uc6b4 \\\\uae38\\\\uc744 \\\\uac77\\\\uae30 \\\\uc2dc\\\\uc791\\\\ud55c\\\\ub2e4. \\\\uadf8\\\\ub4e4\\\\uc740 \\\\uc2a4\\\\uc2a4\\\\ub85c\\\\uc758 \\\\ud798\\\\uc73c\\\\ub85c \\\\ubbf8\\\\ub798\\\\uc758 \\\\ub124\\\\uc624 \\\\ub3c4\\\\ucfc4\\\\ub97c \\\\ub354 \\\\ub098\\\\uc740 \\\\ub3c4\\\\uc2dc\\\\ub85c \\\\ubc14\\\\uafb8\\\\uc5b4 \\\\ub098\\\\uac08 \\\\uac83\\\\uc744 \\\\ub2e4\\\\uc9d0\\\\ud55c\\\\ub2e4. \\\\uc774\\\\uac83\\\\uc740 \\\\ubbf8\\\\ucf54\\\\uc640 \\\\ub8cc, \\\\uadf8\\\\ub9ac\\\\uace0 \\\\uc804\\\\ub1cc \\\\ube68\\\\uac04 \\\\ub9dd\\\\ud1a0\\\\uc758 \\\\uc0c8\\\\ub85c\\\\uc6b4 \\\\ubaa8\\\\ud5d8\\\\uc758 \\\\uc2dc\\\\uc791\\\\uc774\\\\uc5c8\\\\ub2e4. \"], \"model\": \"text-embedding-ada-002\", \"encoding_format\": \"base64\"}' message='Post details'\n"
     ]
    },
    {
     "name": "stdout",
     "output_type": "stream",
     "text": [
      "DEBUG:urllib3.connectionpool:https://api.openai.com:443 \"POST /v1/embeddings HTTP/1.1\" 200 None\n",
      "DEBUG:openai:message='OpenAI API response' path=https://api.openai.com/v1/embeddings processing_ms=125 request_id=c9d347c6ada23df48a0d7ea2459433b7 response_code=200\n",
      "INFO:llama_index.token_counter.token_counter:> [build_index_from_nodes] Total LLM token usage: 0 tokens\n",
      "INFO:llama_index.token_counter.token_counter:> [build_index_from_nodes] Total embedding token usage: 2888 tokens\n"
     ]
    }
   ],
   "source": [
    "from llama_index import GPTVectorStoreIndex, PromptHelper, ServiceContext\n",
    "\n",
    "# PromptHelper 준비\n",
    "prompt_helper=PromptHelper(\n",
    "    max_input_size=4096,  # LLM 입력의 최대 토큰 수\n",
    "    num_output=256,  # LLM 출력의 토큰 수\n",
    "    max_chunk_overlap=20,  # 청크 오버랩의 최대 토큰 개수\n",
    ")\n",
    "\n",
    "# ServiceContext 준비\n",
    "service_context = ServiceContext.from_defaults(\n",
    "    prompt_helper=prompt_helper\n",
    ")\n",
    "\n",
    "# 인덱스 생성\n",
    "index = GPTVectorStoreIndex.from_documents(\n",
    "    documents,\n",
    "    service_context=service_context,\n",
    ")"
   ]
  },
  {
   "cell_type": "code",
   "execution_count": 11,
   "metadata": {
    "id": "PE70f8ro9DNH"
   },
   "outputs": [
    {
     "name": "stdout",
     "output_type": "stream",
     "text": [
      "Requirement already satisfied: sentence_transformers in c:\\users\\yong\\anaconda3\\envs\\llamaindex\\lib\\site-packages (2.2.2)\n",
      "Requirement already satisfied: transformers<5.0.0,>=4.6.0 in c:\\users\\yong\\anaconda3\\envs\\llamaindex\\lib\\site-packages (from sentence_transformers) (4.31.0)\n",
      "Requirement already satisfied: tqdm in c:\\users\\yong\\anaconda3\\envs\\llamaindex\\lib\\site-packages (from sentence_transformers) (4.65.0)\n",
      "Requirement already satisfied: torch>=1.6.0 in c:\\users\\yong\\anaconda3\\envs\\llamaindex\\lib\\site-packages (from sentence_transformers) (2.0.1)\n",
      "Requirement already satisfied: torchvision in c:\\users\\yong\\anaconda3\\envs\\llamaindex\\lib\\site-packages (from sentence_transformers) (0.15.2)\n",
      "Requirement already satisfied: numpy in c:\\users\\yong\\anaconda3\\envs\\llamaindex\\lib\\site-packages (from sentence_transformers) (1.25.1)\n",
      "Requirement already satisfied: scikit-learn in c:\\users\\yong\\anaconda3\\envs\\llamaindex\\lib\\site-packages (from sentence_transformers) (1.3.0)\n",
      "Requirement already satisfied: scipy in c:\\users\\yong\\anaconda3\\envs\\llamaindex\\lib\\site-packages (from sentence_transformers) (1.11.1)\n",
      "Requirement already satisfied: nltk in c:\\users\\yong\\anaconda3\\envs\\llamaindex\\lib\\site-packages (from sentence_transformers) (3.8.1)\n",
      "Requirement already satisfied: sentencepiece in c:\\users\\yong\\anaconda3\\envs\\llamaindex\\lib\\site-packages (from sentence_transformers) (0.1.99)\n",
      "Requirement already satisfied: huggingface-hub>=0.4.0 in c:\\users\\yong\\anaconda3\\envs\\llamaindex\\lib\\site-packages (from sentence_transformers) (0.16.4)\n",
      "Requirement already satisfied: filelock in c:\\users\\yong\\anaconda3\\envs\\llamaindex\\lib\\site-packages (from huggingface-hub>=0.4.0->sentence_transformers) (3.12.2)\n",
      "Requirement already satisfied: fsspec in c:\\users\\yong\\anaconda3\\envs\\llamaindex\\lib\\site-packages (from huggingface-hub>=0.4.0->sentence_transformers) (2023.6.0)\n",
      "Requirement already satisfied: requests in c:\\users\\yong\\anaconda3\\envs\\llamaindex\\lib\\site-packages (from huggingface-hub>=0.4.0->sentence_transformers) (2.29.0)\n",
      "Requirement already satisfied: pyyaml>=5.1 in c:\\users\\yong\\anaconda3\\envs\\llamaindex\\lib\\site-packages (from huggingface-hub>=0.4.0->sentence_transformers) (6.0)\n",
      "Requirement already satisfied: typing-extensions>=3.7.4.3 in c:\\users\\yong\\anaconda3\\envs\\llamaindex\\lib\\site-packages (from huggingface-hub>=0.4.0->sentence_transformers) (4.5.0)\n",
      "Requirement already satisfied: packaging>=20.9 in c:\\users\\yong\\anaconda3\\envs\\llamaindex\\lib\\site-packages (from huggingface-hub>=0.4.0->sentence_transformers) (23.0)\n",
      "Requirement already satisfied: sympy in c:\\users\\yong\\anaconda3\\envs\\llamaindex\\lib\\site-packages (from torch>=1.6.0->sentence_transformers) (1.12)\n",
      "Requirement already satisfied: networkx in c:\\users\\yong\\anaconda3\\envs\\llamaindex\\lib\\site-packages (from torch>=1.6.0->sentence_transformers) (3.1)\n",
      "Requirement already satisfied: jinja2 in c:\\users\\yong\\anaconda3\\envs\\llamaindex\\lib\\site-packages (from torch>=1.6.0->sentence_transformers) (3.1.2)\n",
      "Requirement already satisfied: colorama in c:\\users\\yong\\anaconda3\\envs\\llamaindex\\lib\\site-packages (from tqdm->sentence_transformers) (0.4.6)\n",
      "Requirement already satisfied: regex!=2019.12.17 in c:\\users\\yong\\anaconda3\\envs\\llamaindex\\lib\\site-packages (from transformers<5.0.0,>=4.6.0->sentence_transformers) (2023.6.3)\n",
      "Requirement already satisfied: tokenizers!=0.11.3,<0.14,>=0.11.1 in c:\\users\\yong\\anaconda3\\envs\\llamaindex\\lib\\site-packages (from transformers<5.0.0,>=4.6.0->sentence_transformers) (0.13.3)\n",
      "Requirement already satisfied: safetensors>=0.3.1 in c:\\users\\yong\\anaconda3\\envs\\llamaindex\\lib\\site-packages (from transformers<5.0.0,>=4.6.0->sentence_transformers) (0.3.1)\n",
      "Requirement already satisfied: click in c:\\users\\yong\\anaconda3\\envs\\llamaindex\\lib\\site-packages (from nltk->sentence_transformers) (8.1.6)\n",
      "Requirement already satisfied: joblib in c:\\users\\yong\\anaconda3\\envs\\llamaindex\\lib\\site-packages (from nltk->sentence_transformers) (1.3.1)\n",
      "Requirement already satisfied: threadpoolctl>=2.0.0 in c:\\users\\yong\\anaconda3\\envs\\llamaindex\\lib\\site-packages (from scikit-learn->sentence_transformers) (3.2.0)\n",
      "Requirement already satisfied: pillow!=8.3.*,>=5.3.0 in c:\\users\\yong\\anaconda3\\envs\\llamaindex\\lib\\site-packages (from torchvision->sentence_transformers) (10.0.0)\n",
      "Requirement already satisfied: MarkupSafe>=2.0 in c:\\users\\yong\\anaconda3\\envs\\llamaindex\\lib\\site-packages (from jinja2->torch>=1.6.0->sentence_transformers) (2.1.1)\n",
      "Requirement already satisfied: charset-normalizer<4,>=2 in c:\\users\\yong\\anaconda3\\envs\\llamaindex\\lib\\site-packages (from requests->huggingface-hub>=0.4.0->sentence_transformers) (2.0.4)\n",
      "Requirement already satisfied: idna<4,>=2.5 in c:\\users\\yong\\anaconda3\\envs\\llamaindex\\lib\\site-packages (from requests->huggingface-hub>=0.4.0->sentence_transformers) (3.4)\n",
      "Requirement already satisfied: urllib3<1.27,>=1.21.1 in c:\\users\\yong\\anaconda3\\envs\\llamaindex\\lib\\site-packages (from requests->huggingface-hub>=0.4.0->sentence_transformers) (1.26.16)\n",
      "Requirement already satisfied: certifi>=2017.4.17 in c:\\users\\yong\\anaconda3\\envs\\llamaindex\\lib\\site-packages (from requests->huggingface-hub>=0.4.0->sentence_transformers) (2023.5.7)\n",
      "Requirement already satisfied: mpmath>=0.19 in c:\\users\\yong\\anaconda3\\envs\\llamaindex\\lib\\site-packages (from sympy->torch>=1.6.0->sentence_transformers) (1.3.0)\n"
     ]
    }
   ],
   "source": [
    "# sentence_transformers 패키지 설치\n",
    "!pip install sentence_transformers"
   ]
  },
  {
   "cell_type": "code",
   "execution_count": 12,
   "metadata": {
    "id": "GuD55tAFQH2O"
   },
   "outputs": [
    {
     "name": "stdout",
     "output_type": "stream",
     "text": [
      "INFO:sentence_transformers.SentenceTransformer:Load pretrained SentenceTransformer: bongsoo/moco-sentencedistilbertV2.1\n",
      "DEBUG:urllib3.connectionpool:Starting new HTTPS connection (1): huggingface.co:443\n",
      "DEBUG:urllib3.connectionpool:https://huggingface.co:443 \"GET /api/models/bongsoo/moco-sentencedistilbertV2.1 HTTP/1.1\" 200 2089\n",
      "DEBUG:urllib3.connectionpool:https://huggingface.co:443 \"HEAD /bongsoo/moco-sentencedistilbertV2.1/resolve/833552d2a5421a8756ed6e1301dac4b3d84d621b/.gitattributes HTTP/1.1\" 200 0\n",
      "DEBUG:filelock:Attempting to acquire lock 2747855164112 on C:\\Users\\yong/.cache\\torch\\sentence_transformers\\bongsoo_moco-sentencedistilbertV2.1\\.gitattributes.lock\n",
      "DEBUG:filelock:Lock 2747855164112 acquired on C:\\Users\\yong/.cache\\torch\\sentence_transformers\\bongsoo_moco-sentencedistilbertV2.1\\.gitattributes.lock\n",
      "DEBUG:urllib3.connectionpool:https://huggingface.co:443 \"GET /bongsoo/moco-sentencedistilbertV2.1/resolve/833552d2a5421a8756ed6e1301dac4b3d84d621b/.gitattributes HTTP/1.1\" 200 1384\n"
     ]
    },
    {
     "data": {
      "application/vnd.jupyter.widget-view+json": {
       "model_id": "bafd28b7cbc24e43b7018677f917bc4e",
       "version_major": 2,
       "version_minor": 0
      },
      "text/plain": [
       "Downloading (…)d621b/.gitattributes:   0%|          | 0.00/1.38k [00:00<?, ?B/s]"
      ]
     },
     "metadata": {},
     "output_type": "display_data"
    },
    {
     "name": "stdout",
     "output_type": "stream",
     "text": [
      "DEBUG:filelock:Attempting to release lock 2747855164112 on C:\\Users\\yong/.cache\\torch\\sentence_transformers\\bongsoo_moco-sentencedistilbertV2.1\\.gitattributes.lock\n",
      "DEBUG:filelock:Lock 2747855164112 released on C:\\Users\\yong/.cache\\torch\\sentence_transformers\\bongsoo_moco-sentencedistilbertV2.1\\.gitattributes.lock\n",
      "DEBUG:urllib3.connectionpool:https://huggingface.co:443 \"HEAD /bongsoo/moco-sentencedistilbertV2.1/resolve/833552d2a5421a8756ed6e1301dac4b3d84d621b/1_Pooling/config.json HTTP/1.1\" 200 0\n",
      "DEBUG:filelock:Attempting to acquire lock 2747855213712 on C:\\Users\\yong/.cache\\torch\\sentence_transformers\\bongsoo_moco-sentencedistilbertV2.1\\1_Pooling\\config.json.lock\n",
      "DEBUG:filelock:Lock 2747855213712 acquired on C:\\Users\\yong/.cache\\torch\\sentence_transformers\\bongsoo_moco-sentencedistilbertV2.1\\1_Pooling\\config.json.lock\n",
      "DEBUG:urllib3.connectionpool:https://huggingface.co:443 \"GET /bongsoo/moco-sentencedistilbertV2.1/resolve/833552d2a5421a8756ed6e1301dac4b3d84d621b/1_Pooling/config.json HTTP/1.1\" 200 190\n"
     ]
    },
    {
     "data": {
      "application/vnd.jupyter.widget-view+json": {
       "model_id": "617cc1327f88414fb2585c2445eb064c",
       "version_major": 2,
       "version_minor": 0
      },
      "text/plain": [
       "Downloading (…)_Pooling/config.json:   0%|          | 0.00/190 [00:00<?, ?B/s]"
      ]
     },
     "metadata": {},
     "output_type": "display_data"
    },
    {
     "name": "stdout",
     "output_type": "stream",
     "text": [
      "DEBUG:filelock:Attempting to release lock 2747855213712 on C:\\Users\\yong/.cache\\torch\\sentence_transformers\\bongsoo_moco-sentencedistilbertV2.1\\1_Pooling\\config.json.lock\n",
      "DEBUG:filelock:Lock 2747855213712 released on C:\\Users\\yong/.cache\\torch\\sentence_transformers\\bongsoo_moco-sentencedistilbertV2.1\\1_Pooling\\config.json.lock\n",
      "DEBUG:urllib3.connectionpool:https://huggingface.co:443 \"HEAD /bongsoo/moco-sentencedistilbertV2.1/resolve/833552d2a5421a8756ed6e1301dac4b3d84d621b/README.md HTTP/1.1\" 200 0\n",
      "DEBUG:filelock:Attempting to acquire lock 2747855166224 on C:\\Users\\yong/.cache\\torch\\sentence_transformers\\bongsoo_moco-sentencedistilbertV2.1\\README.md.lock\n",
      "DEBUG:filelock:Lock 2747855166224 acquired on C:\\Users\\yong/.cache\\torch\\sentence_transformers\\bongsoo_moco-sentencedistilbertV2.1\\README.md.lock\n",
      "DEBUG:urllib3.connectionpool:https://huggingface.co:443 \"GET /bongsoo/moco-sentencedistilbertV2.1/resolve/833552d2a5421a8756ed6e1301dac4b3d84d621b/README.md HTTP/1.1\" 200 10644\n"
     ]
    },
    {
     "data": {
      "application/vnd.jupyter.widget-view+json": {
       "model_id": "177eca56be8b4ca9a215ff1320896dfd",
       "version_major": 2,
       "version_minor": 0
      },
      "text/plain": [
       "Downloading (…)b3d84d621b/README.md:   0%|          | 0.00/10.6k [00:00<?, ?B/s]"
      ]
     },
     "metadata": {},
     "output_type": "display_data"
    },
    {
     "name": "stdout",
     "output_type": "stream",
     "text": [
      "DEBUG:filelock:Attempting to release lock 2747855166224 on C:\\Users\\yong/.cache\\torch\\sentence_transformers\\bongsoo_moco-sentencedistilbertV2.1\\README.md.lock\n",
      "DEBUG:filelock:Lock 2747855166224 released on C:\\Users\\yong/.cache\\torch\\sentence_transformers\\bongsoo_moco-sentencedistilbertV2.1\\README.md.lock\n",
      "DEBUG:urllib3.connectionpool:https://huggingface.co:443 \"HEAD /bongsoo/moco-sentencedistilbertV2.1/resolve/833552d2a5421a8756ed6e1301dac4b3d84d621b/config.json HTTP/1.1\" 200 0\n",
      "DEBUG:filelock:Attempting to acquire lock 2747855261648 on C:\\Users\\yong/.cache\\torch\\sentence_transformers\\bongsoo_moco-sentencedistilbertV2.1\\config.json.lock\n",
      "DEBUG:filelock:Lock 2747855261648 acquired on C:\\Users\\yong/.cache\\torch\\sentence_transformers\\bongsoo_moco-sentencedistilbertV2.1\\config.json.lock\n",
      "DEBUG:urllib3.connectionpool:https://huggingface.co:443 \"GET /bongsoo/moco-sentencedistilbertV2.1/resolve/833552d2a5421a8756ed6e1301dac4b3d84d621b/config.json HTTP/1.1\" 200 600\n"
     ]
    },
    {
     "data": {
      "application/vnd.jupyter.widget-view+json": {
       "model_id": "7ea83f6b3235499987dffe21b1d4c4b2",
       "version_major": 2,
       "version_minor": 0
      },
      "text/plain": [
       "Downloading (…)d84d621b/config.json:   0%|          | 0.00/600 [00:00<?, ?B/s]"
      ]
     },
     "metadata": {},
     "output_type": "display_data"
    },
    {
     "name": "stdout",
     "output_type": "stream",
     "text": [
      "DEBUG:filelock:Attempting to release lock 2747855261648 on C:\\Users\\yong/.cache\\torch\\sentence_transformers\\bongsoo_moco-sentencedistilbertV2.1\\config.json.lock\n",
      "DEBUG:filelock:Lock 2747855261648 released on C:\\Users\\yong/.cache\\torch\\sentence_transformers\\bongsoo_moco-sentencedistilbertV2.1\\config.json.lock\n",
      "DEBUG:urllib3.connectionpool:https://huggingface.co:443 \"HEAD /bongsoo/moco-sentencedistilbertV2.1/resolve/833552d2a5421a8756ed6e1301dac4b3d84d621b/config_sentence_transformers.json HTTP/1.1\" 200 0\n",
      "DEBUG:filelock:Attempting to acquire lock 2747855221712 on C:\\Users\\yong/.cache\\torch\\sentence_transformers\\bongsoo_moco-sentencedistilbertV2.1\\config_sentence_transformers.json.lock\n",
      "DEBUG:filelock:Lock 2747855221712 acquired on C:\\Users\\yong/.cache\\torch\\sentence_transformers\\bongsoo_moco-sentencedistilbertV2.1\\config_sentence_transformers.json.lock\n",
      "DEBUG:urllib3.connectionpool:https://huggingface.co:443 \"GET /bongsoo/moco-sentencedistilbertV2.1/resolve/833552d2a5421a8756ed6e1301dac4b3d84d621b/config_sentence_transformers.json HTTP/1.1\" 200 118\n"
     ]
    },
    {
     "data": {
      "application/vnd.jupyter.widget-view+json": {
       "model_id": "7aeed104d4f54b5392ed2c0373cf20cb",
       "version_major": 2,
       "version_minor": 0
      },
      "text/plain": [
       "Downloading (…)ce_transformers.json:   0%|          | 0.00/118 [00:00<?, ?B/s]"
      ]
     },
     "metadata": {},
     "output_type": "display_data"
    },
    {
     "name": "stdout",
     "output_type": "stream",
     "text": [
      "DEBUG:filelock:Attempting to release lock 2747855221712 on C:\\Users\\yong/.cache\\torch\\sentence_transformers\\bongsoo_moco-sentencedistilbertV2.1\\config_sentence_transformers.json.lock\n",
      "DEBUG:filelock:Lock 2747855221712 released on C:\\Users\\yong/.cache\\torch\\sentence_transformers\\bongsoo_moco-sentencedistilbertV2.1\\config_sentence_transformers.json.lock\n",
      "DEBUG:urllib3.connectionpool:https://huggingface.co:443 \"HEAD /bongsoo/moco-sentencedistilbertV2.1/resolve/833552d2a5421a8756ed6e1301dac4b3d84d621b/pytorch_model.bin HTTP/1.1\" 302 0\n",
      "DEBUG:filelock:Attempting to acquire lock 2747855621968 on C:\\Users\\yong/.cache\\torch\\sentence_transformers\\bongsoo_moco-sentencedistilbertV2.1\\pytorch_model.bin.lock\n",
      "DEBUG:filelock:Lock 2747855621968 acquired on C:\\Users\\yong/.cache\\torch\\sentence_transformers\\bongsoo_moco-sentencedistilbertV2.1\\pytorch_model.bin.lock\n",
      "DEBUG:urllib3.connectionpool:Starting new HTTPS connection (1): cdn-lfs.huggingface.co:443\n",
      "DEBUG:urllib3.connectionpool:https://cdn-lfs.huggingface.co:443 \"GET /repos/a0/6d/a06d988e5e2f91a11fefab63ca42494cac2b7bccd5c1420bc327b86a6ab1554e/725da1e6316422cbca4b37b6ba9c905973ccd80bd8f7f0ab72e963d9276e1c79?response-content-disposition=attachment%3B+filename*%3DUTF-8%27%27pytorch_model.bin%3B+filename%3D%22pytorch_model.bin%22%3B&response-content-type=application%2Foctet-stream&Expires=1690528465&Policy=eyJTdGF0ZW1lbnQiOlt7IkNvbmRpdGlvbiI6eyJEYXRlTGVzc1RoYW4iOnsiQVdTOkVwb2NoVGltZSI6MTY5MDUyODQ2NX19LCJSZXNvdXJjZSI6Imh0dHBzOi8vY2RuLWxmcy5odWdnaW5nZmFjZS5jby9yZXBvcy9hMC82ZC9hMDZkOTg4ZTVlMmY5MWExMWZlZmFiNjNjYTQyNDk0Y2FjMmI3YmNjZDVjMTQyMGJjMzI3Yjg2YTZhYjE1NTRlLzcyNWRhMWU2MzE2NDIyY2JjYTRiMzdiNmJhOWM5MDU5NzNjY2Q4MGJkOGY3ZjBhYjcyZTk2M2Q5Mjc2ZTFjNzk~cmVzcG9uc2UtY29udGVudC1kaXNwb3NpdGlvbj0qJnJlc3BvbnNlLWNvbnRlbnQtdHlwZT0qIn1dfQ__&Signature=osnpyXl7bJY0U0JCSQppmKt3qXZ35kcUEOnlNQggR9M6~Cmzkd6M~2TleiJ2WHRtromwX1iDUfOtmqRkD4GK97lQhaYW-pwoh1bunP0si9ovW1t-IZJvUyhZbrOPKbTTuZtg~2aiQNihHYSumzFikUhmAHgro65KCEdjdKyX4MVsDdznUnpZ9RDWKJ4i3pQ02F03WwJ14ieCmrbMjXY4lBOIe9u7PEcWvd1QuuexCj59pwt3EFinHjj5iCgaeGU093TU~vOkc~GcP7VhgpqibiIXT-j6lsc1Uc-2exNMIxWlxvMe1UuGM2nDDjmuTvymyoVv-mmTqaJxDzs143sOWw__&Key-Pair-Id=KVTP0A1DKRTAX HTTP/1.1\" 200 640313593\n"
     ]
    },
    {
     "data": {
      "application/vnd.jupyter.widget-view+json": {
       "model_id": "86e4777f96194d6bb07996a965369b0e",
       "version_major": 2,
       "version_minor": 0
      },
      "text/plain": [
       "Downloading pytorch_model.bin:   0%|          | 0.00/640M [00:00<?, ?B/s]"
      ]
     },
     "metadata": {},
     "output_type": "display_data"
    },
    {
     "name": "stdout",
     "output_type": "stream",
     "text": [
      "DEBUG:filelock:Attempting to release lock 2747855621968 on C:\\Users\\yong/.cache\\torch\\sentence_transformers\\bongsoo_moco-sentencedistilbertV2.1\\pytorch_model.bin.lock\n",
      "DEBUG:filelock:Lock 2747855621968 released on C:\\Users\\yong/.cache\\torch\\sentence_transformers\\bongsoo_moco-sentencedistilbertV2.1\\pytorch_model.bin.lock\n",
      "DEBUG:urllib3.connectionpool:https://huggingface.co:443 \"HEAD /bongsoo/moco-sentencedistilbertV2.1/resolve/833552d2a5421a8756ed6e1301dac4b3d84d621b/sentence_bert_config.json HTTP/1.1\" 200 0\n",
      "DEBUG:filelock:Attempting to acquire lock 2747855731600 on C:\\Users\\yong/.cache\\torch\\sentence_transformers\\bongsoo_moco-sentencedistilbertV2.1\\sentence_bert_config.json.lock\n",
      "DEBUG:filelock:Lock 2747855731600 acquired on C:\\Users\\yong/.cache\\torch\\sentence_transformers\\bongsoo_moco-sentencedistilbertV2.1\\sentence_bert_config.json.lock\n",
      "DEBUG:urllib3.connectionpool:https://huggingface.co:443 \"GET /bongsoo/moco-sentencedistilbertV2.1/resolve/833552d2a5421a8756ed6e1301dac4b3d84d621b/sentence_bert_config.json HTTP/1.1\" 200 53\n"
     ]
    },
    {
     "data": {
      "application/vnd.jupyter.widget-view+json": {
       "model_id": "49e792a289c2470882a47b74440e0cec",
       "version_major": 2,
       "version_minor": 0
      },
      "text/plain": [
       "Downloading (…)nce_bert_config.json:   0%|          | 0.00/53.0 [00:00<?, ?B/s]"
      ]
     },
     "metadata": {},
     "output_type": "display_data"
    },
    {
     "name": "stdout",
     "output_type": "stream",
     "text": [
      "DEBUG:filelock:Attempting to release lock 2747855731600 on C:\\Users\\yong/.cache\\torch\\sentence_transformers\\bongsoo_moco-sentencedistilbertV2.1\\sentence_bert_config.json.lock\n",
      "DEBUG:filelock:Lock 2747855731600 released on C:\\Users\\yong/.cache\\torch\\sentence_transformers\\bongsoo_moco-sentencedistilbertV2.1\\sentence_bert_config.json.lock\n",
      "DEBUG:urllib3.connectionpool:https://huggingface.co:443 \"HEAD /bongsoo/moco-sentencedistilbertV2.1/resolve/833552d2a5421a8756ed6e1301dac4b3d84d621b/similarity_evaluation_sts-test_results.csv HTTP/1.1\" 200 0\n",
      "DEBUG:filelock:Attempting to acquire lock 2747855731600 on C:\\Users\\yong/.cache\\torch\\sentence_transformers\\bongsoo_moco-sentencedistilbertV2.1\\similarity_evaluation_sts-test_results.csv.lock\n",
      "DEBUG:filelock:Lock 2747855731600 acquired on C:\\Users\\yong/.cache\\torch\\sentence_transformers\\bongsoo_moco-sentencedistilbertV2.1\\similarity_evaluation_sts-test_results.csv.lock\n",
      "DEBUG:urllib3.connectionpool:https://huggingface.co:443 \"GET /bongsoo/moco-sentencedistilbertV2.1/resolve/833552d2a5421a8756ed6e1301dac4b3d84d621b/similarity_evaluation_sts-test_results.csv HTTP/1.1\" 200 300\n"
     ]
    },
    {
     "data": {
      "application/vnd.jupyter.widget-view+json": {
       "model_id": "02466571426c4e658eb103c26c52f731",
       "version_major": 2,
       "version_minor": 0
      },
      "text/plain": [
       "Downloading (…)sts-test_results.csv:   0%|          | 0.00/300 [00:00<?, ?B/s]"
      ]
     },
     "metadata": {},
     "output_type": "display_data"
    },
    {
     "name": "stdout",
     "output_type": "stream",
     "text": [
      "DEBUG:filelock:Attempting to release lock 2747855731600 on C:\\Users\\yong/.cache\\torch\\sentence_transformers\\bongsoo_moco-sentencedistilbertV2.1\\similarity_evaluation_sts-test_results.csv.lock\n",
      "DEBUG:filelock:Lock 2747855731600 released on C:\\Users\\yong/.cache\\torch\\sentence_transformers\\bongsoo_moco-sentencedistilbertV2.1\\similarity_evaluation_sts-test_results.csv.lock\n",
      "DEBUG:urllib3.connectionpool:https://huggingface.co:443 \"HEAD /bongsoo/moco-sentencedistilbertV2.1/resolve/833552d2a5421a8756ed6e1301dac4b3d84d621b/special_tokens_map.json HTTP/1.1\" 200 0\n",
      "DEBUG:filelock:Attempting to acquire lock 2747855589328 on C:\\Users\\yong/.cache\\torch\\sentence_transformers\\bongsoo_moco-sentencedistilbertV2.1\\special_tokens_map.json.lock\n",
      "DEBUG:filelock:Lock 2747855589328 acquired on C:\\Users\\yong/.cache\\torch\\sentence_transformers\\bongsoo_moco-sentencedistilbertV2.1\\special_tokens_map.json.lock\n",
      "DEBUG:urllib3.connectionpool:https://huggingface.co:443 \"GET /bongsoo/moco-sentencedistilbertV2.1/resolve/833552d2a5421a8756ed6e1301dac4b3d84d621b/special_tokens_map.json HTTP/1.1\" 200 125\n"
     ]
    },
    {
     "data": {
      "application/vnd.jupyter.widget-view+json": {
       "model_id": "7aad3e9aa25949fa9c637222d985bb80",
       "version_major": 2,
       "version_minor": 0
      },
      "text/plain": [
       "Downloading (…)cial_tokens_map.json:   0%|          | 0.00/125 [00:00<?, ?B/s]"
      ]
     },
     "metadata": {},
     "output_type": "display_data"
    },
    {
     "name": "stdout",
     "output_type": "stream",
     "text": [
      "DEBUG:filelock:Attempting to release lock 2747855589328 on C:\\Users\\yong/.cache\\torch\\sentence_transformers\\bongsoo_moco-sentencedistilbertV2.1\\special_tokens_map.json.lock\n",
      "DEBUG:filelock:Lock 2747855589328 released on C:\\Users\\yong/.cache\\torch\\sentence_transformers\\bongsoo_moco-sentencedistilbertV2.1\\special_tokens_map.json.lock\n",
      "DEBUG:urllib3.connectionpool:https://huggingface.co:443 \"HEAD /bongsoo/moco-sentencedistilbertV2.1/resolve/833552d2a5421a8756ed6e1301dac4b3d84d621b/tokenizer.json HTTP/1.1\" 200 0\n",
      "DEBUG:filelock:Attempting to acquire lock 2747855258384 on C:\\Users\\yong/.cache\\torch\\sentence_transformers\\bongsoo_moco-sentencedistilbertV2.1\\tokenizer.json.lock\n",
      "DEBUG:filelock:Lock 2747855258384 acquired on C:\\Users\\yong/.cache\\torch\\sentence_transformers\\bongsoo_moco-sentencedistilbertV2.1\\tokenizer.json.lock\n",
      "DEBUG:urllib3.connectionpool:https://huggingface.co:443 \"GET /bongsoo/moco-sentencedistilbertV2.1/resolve/833552d2a5421a8756ed6e1301dac4b3d84d621b/tokenizer.json HTTP/1.1\" 200 3768298\n"
     ]
    },
    {
     "data": {
      "application/vnd.jupyter.widget-view+json": {
       "model_id": "fc3f29f571924639b1f8b970aa1dd978",
       "version_major": 2,
       "version_minor": 0
      },
      "text/plain": [
       "Downloading (…)d621b/tokenizer.json:   0%|          | 0.00/3.77M [00:00<?, ?B/s]"
      ]
     },
     "metadata": {},
     "output_type": "display_data"
    },
    {
     "name": "stdout",
     "output_type": "stream",
     "text": [
      "DEBUG:filelock:Attempting to release lock 2747855258384 on C:\\Users\\yong/.cache\\torch\\sentence_transformers\\bongsoo_moco-sentencedistilbertV2.1\\tokenizer.json.lock\n",
      "DEBUG:filelock:Lock 2747855258384 released on C:\\Users\\yong/.cache\\torch\\sentence_transformers\\bongsoo_moco-sentencedistilbertV2.1\\tokenizer.json.lock\n",
      "DEBUG:urllib3.connectionpool:https://huggingface.co:443 \"HEAD /bongsoo/moco-sentencedistilbertV2.1/resolve/833552d2a5421a8756ed6e1301dac4b3d84d621b/tokenizer_config.json HTTP/1.1\" 200 0\n",
      "DEBUG:filelock:Attempting to acquire lock 2747855831120 on C:\\Users\\yong/.cache\\torch\\sentence_transformers\\bongsoo_moco-sentencedistilbertV2.1\\tokenizer_config.json.lock\n",
      "DEBUG:filelock:Lock 2747855831120 acquired on C:\\Users\\yong/.cache\\torch\\sentence_transformers\\bongsoo_moco-sentencedistilbertV2.1\\tokenizer_config.json.lock\n",
      "DEBUG:urllib3.connectionpool:https://huggingface.co:443 \"GET /bongsoo/moco-sentencedistilbertV2.1/resolve/833552d2a5421a8756ed6e1301dac4b3d84d621b/tokenizer_config.json HTTP/1.1\" 200 504\n"
     ]
    },
    {
     "data": {
      "application/vnd.jupyter.widget-view+json": {
       "model_id": "2763887cd2da436889211754086b4270",
       "version_major": 2,
       "version_minor": 0
      },
      "text/plain": [
       "Downloading (…)okenizer_config.json:   0%|          | 0.00/504 [00:00<?, ?B/s]"
      ]
     },
     "metadata": {},
     "output_type": "display_data"
    },
    {
     "name": "stdout",
     "output_type": "stream",
     "text": [
      "DEBUG:filelock:Attempting to release lock 2747855831120 on C:\\Users\\yong/.cache\\torch\\sentence_transformers\\bongsoo_moco-sentencedistilbertV2.1\\tokenizer_config.json.lock\n",
      "DEBUG:filelock:Lock 2747855831120 released on C:\\Users\\yong/.cache\\torch\\sentence_transformers\\bongsoo_moco-sentencedistilbertV2.1\\tokenizer_config.json.lock\n",
      "DEBUG:urllib3.connectionpool:https://huggingface.co:443 \"HEAD /bongsoo/moco-sentencedistilbertV2.1/resolve/833552d2a5421a8756ed6e1301dac4b3d84d621b/vocab.txt HTTP/1.1\" 200 0\n",
      "DEBUG:filelock:Attempting to acquire lock 2747855729424 on C:\\Users\\yong/.cache\\torch\\sentence_transformers\\bongsoo_moco-sentencedistilbertV2.1\\vocab.txt.lock\n",
      "DEBUG:filelock:Lock 2747855729424 acquired on C:\\Users\\yong/.cache\\torch\\sentence_transformers\\bongsoo_moco-sentencedistilbertV2.1\\vocab.txt.lock\n",
      "DEBUG:urllib3.connectionpool:https://huggingface.co:443 \"GET /bongsoo/moco-sentencedistilbertV2.1/resolve/833552d2a5421a8756ed6e1301dac4b3d84d621b/vocab.txt HTTP/1.1\" 200 1283327\n"
     ]
    },
    {
     "data": {
      "application/vnd.jupyter.widget-view+json": {
       "model_id": "450c8b086f8c412795a17d52559d8575",
       "version_major": 2,
       "version_minor": 0
      },
      "text/plain": [
       "Downloading (…)b3d84d621b/vocab.txt:   0%|          | 0.00/1.28M [00:00<?, ?B/s]"
      ]
     },
     "metadata": {},
     "output_type": "display_data"
    },
    {
     "name": "stdout",
     "output_type": "stream",
     "text": [
      "DEBUG:filelock:Attempting to release lock 2747855729424 on C:\\Users\\yong/.cache\\torch\\sentence_transformers\\bongsoo_moco-sentencedistilbertV2.1\\vocab.txt.lock\n",
      "DEBUG:filelock:Lock 2747855729424 released on C:\\Users\\yong/.cache\\torch\\sentence_transformers\\bongsoo_moco-sentencedistilbertV2.1\\vocab.txt.lock\n",
      "DEBUG:urllib3.connectionpool:https://huggingface.co:443 \"HEAD /bongsoo/moco-sentencedistilbertV2.1/resolve/833552d2a5421a8756ed6e1301dac4b3d84d621b/modules.json HTTP/1.1\" 200 0\n",
      "DEBUG:filelock:Attempting to acquire lock 2747855729424 on C:\\Users\\yong/.cache\\torch\\sentence_transformers\\bongsoo_moco-sentencedistilbertV2.1\\modules.json.lock\n",
      "DEBUG:filelock:Lock 2747855729424 acquired on C:\\Users\\yong/.cache\\torch\\sentence_transformers\\bongsoo_moco-sentencedistilbertV2.1\\modules.json.lock\n",
      "DEBUG:urllib3.connectionpool:https://huggingface.co:443 \"GET /bongsoo/moco-sentencedistilbertV2.1/resolve/833552d2a5421a8756ed6e1301dac4b3d84d621b/modules.json HTTP/1.1\" 200 229\n"
     ]
    },
    {
     "data": {
      "application/vnd.jupyter.widget-view+json": {
       "model_id": "6ba460f6310e48dc9fcdc3b50f1efaf3",
       "version_major": 2,
       "version_minor": 0
      },
      "text/plain": [
       "Downloading (…)84d621b/modules.json:   0%|          | 0.00/229 [00:00<?, ?B/s]"
      ]
     },
     "metadata": {},
     "output_type": "display_data"
    },
    {
     "name": "stdout",
     "output_type": "stream",
     "text": [
      "DEBUG:filelock:Attempting to release lock 2747855729424 on C:\\Users\\yong/.cache\\torch\\sentence_transformers\\bongsoo_moco-sentencedistilbertV2.1\\modules.json.lock\n",
      "DEBUG:filelock:Lock 2747855729424 released on C:\\Users\\yong/.cache\\torch\\sentence_transformers\\bongsoo_moco-sentencedistilbertV2.1\\modules.json.lock\n",
      "INFO:sentence_transformers.SentenceTransformer:Use pytorch device: cpu\n",
      "DEBUG:llama_index.node_parser.node_utils:> Adding chunk: 제1장: 데이터 프론트\n",
      "\n",
      "밤이 되면 반짝이는 네오 도쿄. 고층 빌딩이 늘어서고, 네온...\n",
      "DEBUG:llama_index.node_parser.node_utils:> Adding chunk: 제2장: 울프 코퍼레이션의 함정\n",
      "\n",
      "미코는 목적지인 술집 '할머니의 집'으로 향하는 길...\n",
      "DEBUG:llama_index.node_parser.node_utils:> Adding chunk: 제3장: 배신과 재회\n",
      "\n",
      "술집 '할머니의 집'에서 미코는 데이터를 받을 사람인 료를 기...\n",
      "DEBUG:llama_index.node_parser.node_utils:> Adding chunk: 제4장: 울프 코퍼레이션의 붕괴\n",
      "\n",
      "미코와 료는 해커 집단과 함께 울프 코퍼레이션에 대...\n",
      "DEBUG:llama_index.node_parser.node_utils:> Adding chunk: 제5장: 결전의 순간\n",
      "\n",
      "미코와 료는 마침내 울프 코퍼레이션의 최상층에 도착해 CEO인...\n",
      "DEBUG:llama_index.node_parser.node_utils:> Adding chunk: 제6장: 진실의 해방\n",
      "\n",
      "미코는 울프 박사의 약점을 파고들어 그를 쓰러뜨리는데 성공한다...\n",
      "DEBUG:llama_index.node_parser.node_utils:> Adding chunk: 제7장: 새로운 시작\n",
      "\n",
      "울프 코퍼레이션이 무너진 후, 미코와 료는 서로의 과거를 용서...\n"
     ]
    },
    {
     "data": {
      "application/vnd.jupyter.widget-view+json": {
       "model_id": "695ab97b057c4ba0b2623f6e1ccbd35d",
       "version_major": 2,
       "version_minor": 0
      },
      "text/plain": [
       "Batches:   0%|          | 0/1 [00:00<?, ?it/s]"
      ]
     },
     "metadata": {},
     "output_type": "display_data"
    },
    {
     "name": "stdout",
     "output_type": "stream",
     "text": [
      "INFO:llama_index.token_counter.token_counter:> [build_index_from_nodes] Total LLM token usage: 0 tokens\n",
      "INFO:llama_index.token_counter.token_counter:> [build_index_from_nodes] Total embedding token usage: 2888 tokens\n"
     ]
    }
   ],
   "source": [
    "from langchain.embeddings import HuggingFaceEmbeddings\n",
    "from llama_index import GPTVectorStoreIndex, ServiceContext, LangchainEmbedding\n",
    "\n",
    "# 임베딩 모델 준비\n",
    "embed_model = LangchainEmbedding(HuggingFaceEmbeddings(\n",
    "    model_name=\"bongsoo/moco-sentencedistilbertV2.1\"\n",
    "))\n",
    "\n",
    "# ServiceContext 준비\n",
    "service_context = ServiceContext.from_defaults(\n",
    "    embed_model=embed_model\n",
    ")\n",
    "\n",
    "# 인덱스 생성\n",
    "index = GPTVectorStoreIndex.from_documents(\n",
    "    documents, # 문서\n",
    "    service_context=service_context, # ServiceContext\n",
    ")"
   ]
  },
  {
   "cell_type": "code",
   "execution_count": 13,
   "metadata": {
    "id": "fOROANGNSLxS"
   },
   "outputs": [],
   "source": [
    "# 쿼리 엔진 생성\n",
    "query_engine = index.as_query_engine()"
   ]
  },
  {
   "cell_type": "code",
   "execution_count": 14,
   "metadata": {
    "id": "09NOHlmCpsUQ"
   },
   "outputs": [
    {
     "data": {
      "application/vnd.jupyter.widget-view+json": {
       "model_id": "6bbb566fa7b740fcb4c2687ab3e35968",
       "version_major": 2,
       "version_minor": 0
      },
      "text/plain": [
       "Batches:   0%|          | 0/1 [00:00<?, ?it/s]"
      ]
     },
     "metadata": {},
     "output_type": "display_data"
    },
    {
     "name": "stdout",
     "output_type": "stream",
     "text": [
      "DEBUG:llama_index.indices.utils:> Top 2 nodes:\n",
      "> [Node 918b4386-2290-4158-9ebe-0ed8e2babb12] [Similarity score:             0.37449] 제6장: 진실의 해방\n",
      "\n",
      "미코는 울프 박사의 약점을 파고들어 그를 쓰러뜨리는데 성공한다. 그리고 해커 집단과 함께 울프 코퍼레이션의 악행을 세상에 공개하고 시민들을 해방시킨다....\n",
      "> [Node 4aec19c1-4ffd-4785-aba0-7edbe2dab539] [Similarity score:             0.358397] 제5장: 결전의 순간\n",
      "\n",
      "미코와 료는 마침내 울프 코퍼레이션의 최상층에 도착해 CEO인 교활한 울프 박사와 대면한다. 울프 박사는 시민을 지배하려는 사악한 야망을 드러내며 자신...\n",
      "INFO:llama_index.token_counter.token_counter:> [retrieve] Total LLM token usage: 0 tokens\n",
      "INFO:llama_index.token_counter.token_counter:> [retrieve] Total embedding token usage: 29 tokens\n",
      "DEBUG:openai:message='Request to OpenAI API' method=post path=https://api.openai.com/v1/completions\n",
      "DEBUG:openai:api_version=None data='{\"prompt\": [\"Context information is below. \\\\n---------------------\\\\n\\\\uc81c6\\\\uc7a5: \\\\uc9c4\\\\uc2e4\\\\uc758 \\\\ud574\\\\ubc29\\\\n\\\\n\\\\ubbf8\\\\ucf54\\\\ub294 \\\\uc6b8\\\\ud504 \\\\ubc15\\\\uc0ac\\\\uc758 \\\\uc57d\\\\uc810\\\\uc744 \\\\ud30c\\\\uace0\\\\ub4e4\\\\uc5b4 \\\\uadf8\\\\ub97c \\\\uc4f0\\\\ub7ec\\\\ub728\\\\ub9ac\\\\ub294\\\\ub370 \\\\uc131\\\\uacf5\\\\ud55c\\\\ub2e4. \\\\uadf8\\\\ub9ac\\\\uace0 \\\\ud574\\\\ucee4 \\\\uc9d1\\\\ub2e8\\\\uacfc \\\\ud568\\\\uaed8 \\\\uc6b8\\\\ud504 \\\\ucf54\\\\ud37c\\\\ub808\\\\uc774\\\\uc158\\\\uc758 \\\\uc545\\\\ud589\\\\uc744 \\\\uc138\\\\uc0c1\\\\uc5d0 \\\\uacf5\\\\uac1c\\\\ud558\\\\uace0 \\\\uc2dc\\\\ubbfc\\\\ub4e4\\\\uc744 \\\\ud574\\\\ubc29\\\\uc2dc\\\\ud0a8\\\\ub2e4. \\\\uc774 \\\\uc2b9\\\\ub9ac\\\\ub85c \\\\ubbf8\\\\ucf54\\\\uc758 \\\\uc5b4\\\\uba38\\\\ub2c8\\\\uc758 \\\\uce58\\\\ub8cc\\\\ubc95\\\\ub3c4 \\\\ucc3e\\\\uc544\\\\ub0b4\\\\uace0, \\\\uadf8\\\\ub140\\\\uc758 \\\\ubcd1\\\\uc740 \\\\uc644\\\\uce58\\\\ub41c\\\\ub2e4.\\\\n\\\\n\\\\uc81c5\\\\uc7a5: \\\\uacb0\\\\uc804\\\\uc758 \\\\uc21c\\\\uac04\\\\n\\\\n\\\\ubbf8\\\\ucf54\\\\uc640 \\\\ub8cc\\\\ub294 \\\\ub9c8\\\\uce68\\\\ub0b4 \\\\uc6b8\\\\ud504 \\\\ucf54\\\\ud37c\\\\ub808\\\\uc774\\\\uc158\\\\uc758 \\\\ucd5c\\\\uc0c1\\\\uce35\\\\uc5d0 \\\\ub3c4\\\\ucc29\\\\ud574 CEO\\\\uc778 \\\\uad50\\\\ud65c\\\\ud55c \\\\uc6b8\\\\ud504 \\\\ubc15\\\\uc0ac\\\\uc640 \\\\ub300\\\\uba74\\\\ud55c\\\\ub2e4. \\\\uc6b8\\\\ud504 \\\\ubc15\\\\uc0ac\\\\ub294 \\\\uc2dc\\\\ubbfc\\\\uc744 \\\\uc9c0\\\\ubc30\\\\ud558\\\\ub824\\\\ub294 \\\\uc0ac\\\\uc545\\\\ud55c \\\\uc57c\\\\ub9dd\\\\uc744 \\\\ub4dc\\\\ub7ec\\\\ub0b4\\\\uba70 \\\\uc790\\\\uc2e0\\\\uc758 \\\\uc555\\\\ub3c4\\\\uc801\\\\uc778 \\\\ud798\\\\uc744 \\\\uacfc\\\\uc2dc\\\\ud55c\\\\ub2e4. \\\\ud558\\\\uc9c0\\\\ub9cc \\\\ubbf8\\\\ucf54\\\\uc640 \\\\ub8cc\\\\ub294 \\\\uc11c\\\\ub85c\\\\ub97c \\\\ub3c4\\\\uc640\\\\uac00\\\\uba70 \\\\uc6b8\\\\ud504 \\\\ubc15\\\\uc0ac\\\\uc640 \\\\uc2f8\\\\uc6b0\\\\uace0 \\\\uadf8\\\\uc758 \\\\uc57d\\\\uc810\\\\uc744 \\\\ucc3e\\\\uc544\\\\ub0b8\\\\ub2e4.\\\\n---------------------\\\\nGiven the context information and not prior knowledge, answer the question: \\\\ubbf8\\\\ucf54\\\\uc758 \\\\uc18c\\\\uafc9\\\\uce5c\\\\uad6c \\\\uc774\\\\ub984\\\\uc740?\\\\n\"], \"model\": \"text-davinci-003\", \"temperature\": 0.0, \"max_tokens\": 256, \"top_p\": 1, \"frequency_penalty\": 0, \"presence_penalty\": 0, \"n\": 1, \"logit_bias\": {}}' message='Post details'\n",
      "DEBUG:urllib3.connectionpool:https://api.openai.com:443 \"POST /v1/completions HTTP/1.1\" 200 None\n",
      "DEBUG:openai:message='OpenAI API response' path=https://api.openai.com/v1/completions processing_ms=480 request_id=26c31b593c0dad20424492077860d2f5 response_code=200\n",
      "DEBUG:llama_index.llm_predictor.base:\n",
      "료.\n",
      "DEBUG:llama_index.indices.response.base_builder:> Initial prompt template: Context information is below. \n",
      "---------------------\n",
      "제6장: 진실의 해방\n",
      "\n",
      "미코는 울프 박사의 약점을 파고들어 그를 쓰러뜨리는데 성공한다. 그리고 해커 집단과 함께 울프 코퍼레이션의 악행을 세상에 공개하고 시민들을 해방시킨다. 이 승리로 미코의 어머니의 치료법도 찾아내고, 그녀의 병은 완치된다.\n",
      "\n",
      "제5장: 결전의 순간\n",
      "\n",
      "미코와 료는 마침내 울프 코퍼레이션의 최상층에 도착해 CEO인 교활한 울프 박사와 대면한다. 울프 박사는 시민을 지배하려는 사악한 야망을 드러내며 자신의 압도적인 힘을 과시한다. 하지만 미코와 료는 서로를 도와가며 울프 박사와 싸우고 그의 약점을 찾아낸다.\n",
      "---------------------\n",
      "Given the context information and not prior knowledge, answer the question: 미코의 소꿉친구 이름은?\n",
      "\n",
      "DEBUG:llama_index.indices.response.base_builder:> Initial response: \n",
      "료.\n",
      "INFO:llama_index.token_counter.token_counter:> [get_response] Total LLM token usage: 677 tokens\n",
      "INFO:llama_index.token_counter.token_counter:> [get_response] Total embedding token usage: 0 tokens\n",
      "\n",
      "료.\n"
     ]
    }
   ],
   "source": [
    "# 질의응답\n",
    "response = query_engine.query(\"미코의 소꿉친구 이름은?\")\n",
    "print(response)"
   ]
  },
  {
   "cell_type": "code",
   "execution_count": 15,
   "metadata": {
    "id": "gnQm771_sUK0"
   },
   "outputs": [
    {
     "name": "stdout",
     "output_type": "stream",
     "text": [
      "response : \n",
      "료. \n",
      "\n",
      "source_nodes : [NodeWithScore(node=Node(text='제6장: 진실의 해방\\n\\n미코는 울프 박사의 약점을 파고들어 그를 쓰러뜨리는데 성공한다. 그리고 해커 집단과 함께 울프 코퍼레이션의 악행을 세상에 공개하고 시민들을 해방시킨다. 이 승리로 미코의 어머니의 치료법도 찾아내고, 그녀의 병은 완치된다.\\n', doc_id='918b4386-2290-4158-9ebe-0ed8e2babb12', embedding=None, doc_hash='72f641a4cbb6be35a1452c6b10682d11e7dfe9d4e6166608786416766fd3b8ef', extra_info=None, node_info={'start': 0, 'end': 137}, relationships={<DocumentRelationship.SOURCE: '1'>: 'e0569aae-88cf-491f-9355-2335cdccb88e'}), score=0.374489925612153), NodeWithScore(node=Node(text='제5장: 결전의 순간\\n\\n미코와 료는 마침내 울프 코퍼레이션의 최상층에 도착해 CEO인 교활한 울프 박사와 대면한다. 울프 박사는 시민을 지배하려는 사악한 야망을 드러내며 자신의 압도적인 힘을 과시한다. 하지만 미코와 료는 서로를 도와가며 울프 박사와 싸우고 그의 약점을 찾아낸다.\\n', doc_id='4aec19c1-4ffd-4785-aba0-7edbe2dab539', embedding=None, doc_hash='751d8b9d08df98417fd7c46dcb76c654e86a83a222af81815360ab1a6586ba52', extra_info=None, node_info={'start': 0, 'end': 157}, relationships={<DocumentRelationship.SOURCE: '1'>: '49e15b8f-9a07-41fc-8ea6-cfa5166a6d49'}), score=0.35839710601897656)] \n",
      "\n"
     ]
    }
   ],
   "source": [
    "# 응답\n",
    "print(\"response :\", response.response, \"\\n\")\n",
    "\n",
    "# 소스\n",
    "print(\"source_nodes :\", response.source_nodes, \"\\n\")"
   ]
  },
  {
   "cell_type": "code",
   "execution_count": null,
   "metadata": {},
   "outputs": [],
   "source": []
  }
 ],
 "metadata": {
  "accelerator": "GPU",
  "colab": {
   "authorship_tag": "ABX9TyOFeOShBeDTzLkSHDghkwPw",
   "gpuType": "T4",
   "provenance": []
  },
  "kernelspec": {
   "display_name": "Python 3 (ipykernel)",
   "language": "python",
   "name": "python3"
  },
  "language_info": {
   "codemirror_mode": {
    "name": "ipython",
    "version": 3
   },
   "file_extension": ".py",
   "mimetype": "text/x-python",
   "name": "python",
   "nbconvert_exporter": "python",
   "pygments_lexer": "ipython3",
   "version": "3.11.4"
  }
 },
 "nbformat": 4,
 "nbformat_minor": 1
}
